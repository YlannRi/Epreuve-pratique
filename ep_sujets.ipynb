{
 "cells": [
  {
   "cell_type": "markdown",
   "id": "65466529",
   "metadata": {},
   "source": [
    "# Sujet_01\n",
    "\n",
    "## s_1.1\n",
    "\n",
    "Dans cet exercice, un arbre binaire de caractères est stocké sous la forme d’un\n",
    "dictionnaire où les clefs sont les caractères des nœuds de l’arbre et les valeurs, pour\n",
    "chaque clef, la liste des caractères des fils gauche et droit du nœud.\n",
    "\n",
    "On utilise la valeur `''` pour représenter un fils vide.\n",
    "\n",
    "Par exemple, l’arbre\n",
    "\n",
    "![alt text](images/image.png)\n",
    "\n",
    "\n",
    "est stocké dans"
   ]
  },
  {
   "cell_type": "code",
   "execution_count": 6,
   "id": "9040f929",
   "metadata": {},
   "outputs": [],
   "source": [
    "a = {'F':['B','G'], 'B':['A','D'], 'A':['',''], 'D':['C','E'], \\\n",
    "'C':['',''], 'E':['',''], 'G':['','I'], 'I':['','H'], \\\n",
    "'H':['','']}\n",
    "\n",
    "# Votre code\n",
    "def taille(dictionnaire,lettre):\n",
    "    if lettre == '':\n",
    "        return 0\n",
    "    return 1 + taille(dictionnaire,dictionnaire[lettre][0]) + taille(dictionnaire, dictionnaire[lettre][1])  "
   ]
  },
  {
   "cell_type": "markdown",
   "id": "b0347f41",
   "metadata": {},
   "source": [
    "Écrire une fonction récursive `taille` prenant en paramètres un arbre binaire `arbre` non vide\n",
    "sous la forme d’un dictionnaire et un caractère `lettre` qui est la valeur du sommet de\n",
    "l’arbre, et qui renvoie la taille de l’arbre à savoir le nombre total de nœuds.\n",
    "\n",
    "On observe que, par exemple, `arbre[lettre][0]`, respectivement\n",
    "`arbre[lettre][1]`, permet d’atteindre la clé du sous-arbre gauche, respectivement\n",
    "droit, de l’arbre `arbre` de sommet `lettre`.\n",
    "\n",
    "Exemple :"
   ]
  },
  {
   "cell_type": "code",
   "execution_count": 7,
   "id": "bf8b2f83",
   "metadata": {},
   "outputs": [],
   "source": [
    "assert taille(a, 'F')==9\n",
    "assert taille(a, 'B')==5\n",
    "assert taille(a, 'I')==2"
   ]
  },
  {
   "cell_type": "markdown",
   "id": "246056b0",
   "metadata": {},
   "source": [
    "## s_1.2\n",
    "\n",
    "On considère l'algorithme de tri de tableau suivant : à chaque étape, on parcourt le sous-\n",
    "tableau des éléments non rangés et on place le plus petit élément en première position de\n",
    "ce sous-tableau.\n",
    "\n",
    "Exemple avec le tableau : ```t = [41, 55, 21, 18, 12, 6, 25]``` \n",
    "\n",
    "- Étape 1 : on parcourt tous les éléments du tableau, on permute le plus petit élément avec\n",
    "le premier. Le tableau devient `t = [6, 55, 21, 18, 12, 41, 25]`\n",
    "\n",
    "- Étape 2 : on parcourt tous les éléments **sauf le premier**, on permute le plus petit élément\n",
    "trouvé avec le second.  \n",
    "Le tableau devient : ```t = [6, 12, 21, 18, 55, 41, 25]``` \n",
    "\n",
    "Et ainsi de suite. \n",
    "\n",
    "Le programme ci-dessous implémente cet algorithme."
   ]
  },
  {
   "cell_type": "code",
   "execution_count": 8,
   "id": "e0e2e449",
   "metadata": {},
   "outputs": [],
   "source": [
    "def echange(tab, i, j):\n",
    "    '''Echange les éléments d'indice i et j dans le tableau tab.'''\n",
    "    temp = tab[i] \n",
    "    tab[i] = tab[j] \n",
    "    tab[j] = temp \n",
    "\n",
    "def tri_selection(tab):\n",
    "    '''Trie le tableau tab dans l'ordre croissant\n",
    "    par la méthode du tri par sélection.'''\n",
    "    N = len(tab)\n",
    "    for k in range(N): \n",
    "        imin = k #\n",
    "        for i in range(k +1, N): \n",
    "            if tab[i] < tab[imin]: \n",
    "                imin = i\n",
    "        echange(tab, k, imin)\n",
    "    return tab"
   ]
  },
  {
   "cell_type": "markdown",
   "id": "02b8c7e2",
   "metadata": {},
   "source": [
    "Compléter le code de cette fonction de façon à obtenir :"
   ]
  },
  {
   "cell_type": "code",
   "execution_count": 9,
   "id": "b58b9daf",
   "metadata": {},
   "outputs": [],
   "source": [
    "assert tri_selection([41, 55, 21, 18, 12, 6, 25])==[6, 12, 18, 21, 25, 41, 55]"
   ]
  },
  {
   "cell_type": "markdown",
   "id": "0e78809c",
   "metadata": {},
   "source": [
    "# Sujet_02\n",
    "## s_2.1\n",
    "\n",
    "On considère des chaînes de caractères contenant uniquement des majuscules et des carac-\n",
    "tères `*` appelées *mots à trous*.\n",
    "\n",
    "Par exemple `INFO*MA*IQUE`, `***I***E**` et\n",
    "`*S*` sont des mots à trous.\n",
    "\n",
    "Programmer une fonction `correspond` qui :\n",
    "\n",
    "- prend en paramètres deux chaînes de caractères `mot` et `mot_a_trous` où\n",
    "`mot_a_trous` est un mot à trous comme indiqué ci-dessus, \n",
    "- renvoie :\n",
    "    - `True` si on peut obtenir `mot` en remplaçant convenablement les caractères\n",
    "`'*'` de `mot_a_trous`.\n",
    "    - `False` sinon."
   ]
  },
  {
   "cell_type": "code",
   "execution_count": 10,
   "id": "eba8639c",
   "metadata": {},
   "outputs": [
    {
     "name": "stdout",
     "output_type": "stream",
     "text": [
      "2.4 µs ± 368 ns per loop (mean ± std. dev. of 7 runs, 100,000 loops each)\n",
      "2.12 µs ± 56.7 ns per loop (mean ± std. dev. of 7 runs, 1,000,000 loops each)\n",
      "5.73 µs ± 754 ns per loop (mean ± std. dev. of 7 runs, 100,000 loops each)\n"
     ]
    }
   ],
   "source": [
    "def correspond_g(a:str,b:str)->bool:\n",
    "    if len(a) != len(b):\n",
    "        return False\n",
    "\n",
    "    for i in range(len(b)):\n",
    "        if b[i] == a[i]:\n",
    "            continue\n",
    "        if b[i] == '*':\n",
    "            continue\n",
    "        return False\n",
    "    return True\n",
    "\n",
    "def correspond_m(a,b):\n",
    "    if len(a) != len(b):\n",
    "        return False\n",
    "    for i in range(len(a)):\n",
    "        if a[i] != b[i] and b[i] != '*':\n",
    "            return False\n",
    "    return True\n",
    "def correspond_y(a,b):\n",
    "    return [a[i] if b[i] == '*' else b[i] for i in range(len(b))] == list(a)\n",
    "\n",
    "def test_suite(f: callable)->None:\n",
    "    assert f('INFORMATIQUE', 'INFO*MA*IQUE')==True\n",
    "    assert f('AUTOMATIQUE', 'INFO*MA*IQUE')==False\n",
    "    assert f('STOP', 'S*')==False\n",
    "    assert f('AUTO', '*UT*')==True\n",
    "\n",
    "%timeit test_suite(correspond_g)\n",
    "%timeit test_suite(correspond_m)\n",
    "%timeit test_suite(correspond_y)\n"
   ]
  },
  {
   "cell_type": "markdown",
   "id": "035bf297",
   "metadata": {},
   "source": [
    "Exemple :"
   ]
  },
  {
   "cell_type": "code",
   "execution_count": 7,
   "id": "6b68f282",
   "metadata": {},
   "outputs": [],
   "source": [
    "assert correspond('INFORMATIQUE', 'INFO*MA*IQUE')==True\n",
    "assert correspond('AUTOMATIQUE', 'INFO*MA*IQUE')==False\n",
    "assert correspond('STOP', 'S*')==False\n",
    "assert correspond('AUTO', '*UT*')==True"
   ]
  },
  {
   "cell_type": "markdown",
   "id": "c41f8bad",
   "metadata": {},
   "source": [
    "## s_2.2\n",
    "\n",
    "On considère au plus 26 personnes A, B, C, D, E, F ... qui peuvent s'envoyer des messages\n",
    "avec deux règles à respecter :\n",
    "\n",
    "- chaque personne ne peut envoyer des messages qu'à une seule personne\n",
    "(éventuellement elle-même),\n",
    "- chaque personne ne peut recevoir des messages qu'en provenance d'une seule\n",
    "personne (éventuellement elle-même).\n",
    "\n",
    "\n",
    "Voici un exemple - avec 6 personnes - de « plan d'envoi des messages » qui respecte les\n",
    "règles ci-dessus, puisque chaque personne est présente une seule fois dans chaque\n",
    "colonne :\n",
    "\n",
    "- A envoie ses messages à E\n",
    "- E envoie ses messages à B\n",
    "- B envoie ses messages à F\n",
    "- F envoie ses messages à A\n",
    "- C envoie ses messages à D\n",
    "- D envoie ses messages à C\n",
    "\n",
    "Et le dictionnaire correspondant à ce plan d'envoi est le suivant :\n",
    "\n",
    "`plan_a = {'A':'E', 'B':'F', 'C':'D', 'D':'C', 'E':'B', 'F':'A'}`\n",
    "\n",
    "Un cycle est une suite de personnes dans laquelle la dernière est la même que la\n",
    "première.\n",
    "\n",
    "Sur le plan d'envoi `plan_a` des messages ci-dessus, il y a deux cycles distincts : un premier\n",
    "cycle avec A, E, B, F et un second cycle avec C et D.\n",
    "\n",
    "En revanche, le plan d’envoi `plan_b` ci-dessous :\n",
    "\n",
    "`plan_b = {'A':'C', 'B':'F', 'C':'E', 'D':'A', 'E':'B', 'F':'D'}`\n",
    "\n",
    "comporte un unique cycle : A, C, E, B, F, D. Dans ce cas, lorsqu’un plan d’envoi comporte un\n",
    "*unique cycle*, on dit que le plan d’envoi est *cyclique*.\n",
    "\n",
    "Pour savoir si un plan d'envoi de messages comportant N personnes est cyclique, on peut\n",
    "utiliser l'algorithme ci-dessous :\n",
    "\n",
    "\n",
    "- on part d’un expéditeur (ici A) et on inspecte son destinataire dans le plan d'envoi,\n",
    "- chaque destinataire devient à son tour expéditeur, selon le plan d’envoi, tant\n",
    "qu’on ne « retombe » pas sur l’expéditeur initial,\n",
    "- le plan d’envoi est cyclique si on l’a parcouru en entier.\n",
    "\n",
    "\n",
    "Compléter la fonction `est_cyclique` en respectant la spécification.\n",
    "\n",
    "On rappelle que la fonction Python `len` permet d'obtenir la longueur d'un dictionnaire."
   ]
  },
  {
   "cell_type": "code",
   "execution_count": 11,
   "id": "31be34b9",
   "metadata": {},
   "outputs": [],
   "source": [
    "def est_cyclique(plan):\n",
    "    '''Prend en paramètre un dictionnaire `plan` correspondant à \n",
    "    un plan d'envoi de messages (ici entre les personnes A, B, C,\n",
    "    D, E, F).\n",
    "    Renvoie True si le plan d'envoi de messages est cyclique et \n",
    "    False sinon.'''\n",
    "    expediteur = 'A'\n",
    "    destinataire = plan[expediteur] \n",
    "    nb_destinataires = 1\n",
    "\n",
    "    while destinataire != expediteur:\n",
    "        destinataire = plan[destinataire] \n",
    "        nb_destinataires += 1  \n",
    "\n",
    "    return nb_destinataires == len(plan)"
   ]
  },
  {
   "cell_type": "markdown",
   "id": "056bca47",
   "metadata": {},
   "source": [
    "Exemples :"
   ]
  },
  {
   "cell_type": "code",
   "execution_count": 12,
   "id": "c9f929f6",
   "metadata": {},
   "outputs": [],
   "source": [
    "assert est_cyclique({'A':'E', 'F':'A', 'C':'D', 'E':'B', 'B':'F', 'D':'C'})==False\n",
    "assert est_cyclique({'A':'E', 'F':'C', 'C':'D', 'E':'B', 'B':'F', 'D':'A'})==True\n",
    "assert est_cyclique({'A':'B', 'F':'C', 'C':'D', 'E':'A', 'B':'F', 'D':'E'})==True\n",
    "assert est_cyclique({'A':'B', 'F':'A', 'C':'D', 'E':'C', 'B':'F', 'D':'E'})==False"
   ]
  },
  {
   "cell_type": "markdown",
   "id": "7986e50b",
   "metadata": {},
   "source": [
    "# Sujet_03\n",
    "## S_3.1\n",
    "\n",
    "Écrire la fonction `maximum_tableau`, prenant en paramètre un tableau non vide de nombres `tab` (de type\n",
    "`list`) et renvoyant le plus grand élément de ce tableau."
   ]
  },
  {
   "cell_type": "code",
   "execution_count": 14,
   "id": "04235b8f",
   "metadata": {},
   "outputs": [],
   "source": [
    "def maximum_tableau(a):\n",
    "    return max(a)"
   ]
  },
  {
   "cell_type": "markdown",
   "id": "78ad3775",
   "metadata": {},
   "source": [
    "Exemples :"
   ]
  },
  {
   "cell_type": "code",
   "execution_count": 15,
   "id": "1b9bac8a",
   "metadata": {},
   "outputs": [],
   "source": [
    "assert maximum_tableau([98, 12, 104, 23, 131, 9])==131\n",
    "assert maximum_tableau([-27, 24, -3, 15])==24"
   ]
  },
  {
   "cell_type": "markdown",
   "id": "85d053e5",
   "metadata": {},
   "source": [
    "## S_3.2\n",
    "\n",
    "On dispose de chaînes de caractères contenant uniquement des parenthèses ouvrantes et\n",
    "fermantes. \n",
    "\n",
    "Un parenthésage est correct si :\n",
    "\n",
    "- le nombre de parenthèses ouvrantes de la chaîne est égal au nombre de parenthèses\n",
    "fermantes.\n",
    "- en parcourant la chaîne de gauche à droite, le nombre de parenthèses déjà ouvertes doit\n",
    "être, à tout moment, supérieur ou égal au nombre de parenthèses déjà fermées.\n",
    "\n",
    "\n",
    "Ainsi, `((()())(()))` est un parenthésage correct. \n",
    "\n",
    "Les parenthésages `())(()` et `(())(()` sont, eux, incorrects.\n",
    "\n",
    "\n",
    "On dispose du code de la classe `Pile` suivant :"
   ]
  },
  {
   "cell_type": "code",
   "execution_count": 16,
   "id": "0df502fb",
   "metadata": {},
   "outputs": [],
   "source": [
    "class Pile:\n",
    "    \"\"\"Classe définissant une structure de pile.\"\"\"\n",
    "    def __init__(self):\n",
    "        self.contenu = []\n",
    "\n",
    "    def est_vide(self):\n",
    "        \"\"\"Renvoie un booléen indiquant si la pile est vide.\"\"\"\n",
    "        return self.contenu == []\n",
    "\n",
    "    def empiler(self, v):\n",
    "        \"\"\"Place l'élément v au sommet de la pile\"\"\"\n",
    "        self.contenu.append(v)\n",
    "\n",
    "    def depiler(self):\n",
    "        \"\"\"\n",
    "        Retire et renvoie l'élément placé au sommet de la pile,\n",
    "        si la pile n’est pas vide. Produit une erreur sinon.\n",
    "        \"\"\"\n",
    "        assert not self.est_vide()\n",
    "        return self.contenu.pop()"
   ]
  },
  {
   "cell_type": "markdown",
   "id": "fb3782f1",
   "metadata": {},
   "source": [
    "On souhaite programmer une fonction bon_parenthesage qui prend en paramètre une chaîne de caractères ch formée de parenthèses et renvoie True si la chaîne est bien parenthésée et False sinon.\n",
    "\n",
    "Cette fonction utilise une pile et suit le principe suivant : en parcourant la chaîne de gauche à droite, si on trouve une parenthèse ouvrante, on l’empile au sommet de la pile et si on trouve une parenthèse fermante, on dépile (si possible) la parenthèse ouvrante stockée au sommet de la pile.\n",
    "\n",
    "La chaîne est alors bien parenthésée si, à la fin du parcours, la pile est vide.\n",
    "\n",
    "Elle est, par contre, mal parenthésée :\n",
    "\n",
    "si dans le parcours, on trouve une parenthèse fermante, alors que la pile est vide ;\n",
    "ou si, à la fin du parcours, la pile n’est pas vide.\n",
    "Compléter le code de la fonction bon_parenthesage ci-dessous:"
   ]
  },
  {
   "cell_type": "code",
   "execution_count": 17,
   "id": "4d2cb76d",
   "metadata": {},
   "outputs": [],
   "source": [
    "def bon_parenthesage(ch):\n",
    "    \"\"\"Renvoie un booléen indiquant si la chaîne ch \n",
    "    est bien parenthésée\"\"\"\n",
    "    p = Pile()\n",
    "    for c in ch:\n",
    "        if c == '(': \n",
    "            p.empiler(c)\n",
    "        elif c == ')': \n",
    "            if p.est_vide():\n",
    "                return False\n",
    "            else:\n",
    "                p.depiler()\n",
    "    return p.est_vide()"
   ]
  },
  {
   "cell_type": "markdown",
   "id": "1cc90467",
   "metadata": {},
   "source": [
    "Exemples :"
   ]
  },
  {
   "cell_type": "code",
   "execution_count": 18,
   "id": "6b20bba5",
   "metadata": {},
   "outputs": [],
   "source": [
    "assert bon_parenthesage(\"((()())(()))\")==True\n",
    "assert bon_parenthesage(\"())(()\")==False\n",
    "assert bon_parenthesage(\"(())(()\")==False"
   ]
  },
  {
   "cell_type": "markdown",
   "id": "35ebb37a",
   "metadata": {},
   "source": [
    "# Sujet_04\n",
    "## S_4.1\n",
    "\n",
    "Programmer la fonction `recherche`, prenant en paramètres un tableau non vide `tab` (type `list`) d'entiers et un entier `n`, et qui renvoie l'indice de la **dernière** occurrence de l'élément cherché. Si l'élément n'est pas présent, la fonction renvoie `None`."
   ]
  },
  {
   "cell_type": "code",
   "execution_count": 21,
   "id": "05472a86",
   "metadata": {},
   "outputs": [],
   "source": [
    "def recherche(a,n):\n",
    "    a_reversed = a[::-1]\n",
    "    try:\n",
    "        return len(a) - 1 - a_reversed.index(n)\n",
    "    except ValueError:\n",
    "        return None\n",
    "\n"
   ]
  },
  {
   "cell_type": "markdown",
   "id": "e6caeb6b",
   "metadata": {},
   "source": [
    "Exemples"
   ]
  },
  {
   "cell_type": "code",
   "execution_count": 22,
   "id": "f72d9ac1",
   "metadata": {},
   "outputs": [],
   "source": [
    "assert recherche([5, 3], 1)==None # renvoie None\n",
    "assert recherche([2, 4], 2)==0\n",
    "assert recherche([2, 3, 5, 2, 4], 2)==3"
   ]
  },
  {
   "cell_type": "markdown",
   "id": "f852788b",
   "metadata": {},
   "source": [
    "## S_4.2\n",
    "\n",
    "On souhaite programmer une fonction donnant la distance la plus courte entre un point\n",
    "de départ et une liste de points. Les points sont tous à coordonnées entières.\n",
    "Les points sont donnés sous la forme d'un tuple de deux entiers.\n",
    "La liste des points à traiter est donc un tableau de tuples.\n",
    "\n",
    "On rappelle que la distance entre deux points du plan de coordonnées $(x;y)$ et $(x';y')$\n",
    "vérifie la formule :\n",
    "\n",
    "$$d^2=(x-x')^2+(y-y')^2$$\n",
    "\n",
    "\n",
    "\n",
    "Compléter le code des fonctions `distance_carre` et `point_le_plus_proche` fournies ci-dessous pour qu’elles répondent à leurs spécifications."
   ]
  },
  {
   "cell_type": "code",
   "execution_count": 25,
   "id": "fc7324d5",
   "metadata": {},
   "outputs": [],
   "source": [
    "def distance_carre(point1, point2):\n",
    "    \"\"\" Calcule et renvoie la distance au carre entre \n",
    "    deux points.\"\"\"\n",
    "    return (point1[0] - point2[0])**2 + (point1[1] - point2[1])**2 \n",
    "\n",
    "def point_le_plus_proche(depart, tab):\n",
    "    \"\"\" Renvoie les coordonnées du premier point du tableau tab se \n",
    "    trouvant à la plus courte distance du point depart.\"\"\"\n",
    "    min_point = tab[0]\n",
    "    min_dist = distance_carre(min_point,depart) \n",
    "    for i in range(1, len(tab)):\n",
    "        if distance_carre(tab[i], depart) < min_dist: \n",
    "            min_point = tab[i] \n",
    "            min_dist = distance_carre(tab[i],depart)  \n",
    "    return min_point"
   ]
  },
  {
   "cell_type": "markdown",
   "id": "a6e94e32",
   "metadata": {},
   "source": [
    "Exemples :"
   ]
  },
  {
   "cell_type": "code",
   "execution_count": 26,
   "id": "4d8d6489",
   "metadata": {},
   "outputs": [],
   "source": [
    "assert distance_carre((1, 0), (5, 3))==25\n",
    "assert distance_carre((1, 0), (0, 1))==2\n",
    "assert point_le_plus_proche((0, 0), [(7, 9), (2, 5), (5, 2)])==(2, 5)\n",
    "assert point_le_plus_proche((5, 2), [(7, 9), (2, 5), (5, 2)])==(5, 2)"
   ]
  },
  {
   "cell_type": "markdown",
   "id": "95ba8975",
   "metadata": {},
   "source": [
    "# Sujet_05\n",
    "## S_5.1\n",
    "\n",
    "Écrire une fonction `max_et_indice` qui prend en paramètre un tableau non vide `tab` de\n",
    "nombres entiers et qui renvoie la valeur du plus grand élément de ce tableau ainsi que\n",
    "l’indice de sa première apparition dans ce tableau.\n",
    "\n",
    "L’utilisation de la fonction native `max` n’est pas autorisée."
   ]
  },
  {
   "cell_type": "code",
   "execution_count": 28,
   "id": "4f9c228e",
   "metadata": {},
   "outputs": [
    {
     "data": {
      "text/plain": [
       "(9, 3)"
      ]
     },
     "execution_count": 28,
     "metadata": {},
     "output_type": "execute_result"
    }
   ],
   "source": [
    "def max_et_indice(a):\n",
    "    if len(a) == 1:\n",
    "        return (a[0], 0)\n",
    "    max = a[0]\n",
    "    for v in a:\n",
    "        if v > max:\n",
    "            max = v\n",
    "    return (max, a.index(max)) \n",
    "max_et_indice([1, 5, 6, 9, 1, 2, 3, 7, 9, 8])"
   ]
  },
  {
   "cell_type": "markdown",
   "id": "41852f4b",
   "metadata": {},
   "source": [
    "Exemples :"
   ]
  },
  {
   "cell_type": "code",
   "execution_count": 27,
   "id": "52b5eb39",
   "metadata": {},
   "outputs": [],
   "source": [
    "assert max_et_indice([1, 5, 6, 9, 1, 2, 3, 7, 9, 8])==(9, 3)\n",
    "assert max_et_indice([-2])==(-2, 0)\n",
    "assert max_et_indice([-1, -1, 3, 3, 3])==(3, 2)\n",
    "assert max_et_indice([1, 1, 1, 1])==(1, 0)"
   ]
  },
  {
   "cell_type": "markdown",
   "id": "a370bdf4",
   "metadata": {},
   "source": [
    "## S_5.2\n",
    "\n",
    "L’ordre des gènes sur un chromosome est représenté par un tableau `ordre` de `n` cases\n",
    "d’entiers distincts deux à deux et compris entre 1 et `n`.\n",
    "\n",
    "Par exemple, `ordre = [5, 4, 3, 6, 7, 2, 1, 8, 9]` dans le cas `n = 9`.\n",
    "\n",
    "On dit qu’il y a un point de rupture dans `ordre` dans chacune des situations suivantes :\n",
    "\n",
    "- la première valeur de `ordre` n’est pas 1 ;\n",
    "- l’écart entre deux gènes consécutifs n’est pas égal à 1 ;\n",
    "- la dernière valeur de `ordre` n’est pas n.\n",
    "\n",
    "Par exemple, si `ordre = [5, 4, 3, 6, 7, 2, 1, 8, 9]` avec `n = 9`, on a\n",
    "\n",
    "- un point de rupture au début car 5 est différent de 1\n",
    "- un point de rupture entre 3 et 6 (l’écart est de 3)\n",
    "- un point de rupture entre 7 et 2 (l’écart est de 5)\n",
    "- un point de rupture entre 1 et 8 (l’écart est de 7)\n",
    "\n",
    "Il y a donc 4 points de rupture.\n",
    "\n",
    "Compléter les fonctions Python `est_un_ordre` et `nombre_points_rupture`\n",
    "proposées à la page suivante pour que :\n",
    "\n",
    "\n",
    "- la fonction `est_un_ordre` renvoie `True` si le tableau passé en paramètre\n",
    "représente bien un ordre de gènes de chromosome et `False` sinon ;\n",
    "\n",
    "- la fonction `nombre_points_rupture` renvoie le nombre de points de rupture\n",
    "d’un tableau passé en paramètre représentant l’ordre de gènes d’un\n",
    "chromosome."
   ]
  },
  {
   "cell_type": "code",
   "execution_count": 24,
   "id": "4a025378",
   "metadata": {},
   "outputs": [],
   "source": [
    "def est_un_ordre(tab):\n",
    "    '''\n",
    "    Renvoie True si tab est de longueur n et contient tous les\n",
    "    entiers de 1 à n, False sinon\n",
    "    '''\n",
    "    n = len(tab)\n",
    "    # les entiers vus lors du parcours\n",
    "    vus = [] \n",
    "\n",
    "    for x in tab:\n",
    "        if x < 1 or x > n or x in vus: \n",
    "            return False\n",
    "        vus.append(x) \n",
    "    return True\n",
    "\n",
    "def nombre_points_rupture(ordre):\n",
    "    '''\n",
    "    Renvoie le nombre de point de rupture de ordre qui représente \n",
    "    un ordre de gènes de chromosome\n",
    "    '''\n",
    "    # on vérifie que ordre est un ordre de gènes\n",
    "    assert(est_un_ordre(ordre) == True)\n",
    "    n = len(ordre)\n",
    "    nb = 0\n",
    "    if ordre[0] != 1: # le premier n'est pas 1 \n",
    "        nb = nb + 1\n",
    "    i = 0\n",
    "    while i < n-1: \n",
    "        if ordre[i] - ordre[i+1] not in [-1, 1]: # l'écart n'est pas 1 \n",
    "            nb = nb + 1\n",
    "        i = i + 1\n",
    "    if ordre[i] != n: # le dernier n'est pas n \n",
    "        nb = nb + 1\n",
    "    return nb\n",
    "\n"
   ]
  },
  {
   "cell_type": "markdown",
   "id": "b8415f6e",
   "metadata": {},
   "source": [
    "Exemples :"
   ]
  },
  {
   "cell_type": "code",
   "execution_count": 25,
   "id": "216a6f57",
   "metadata": {},
   "outputs": [],
   "source": [
    "assert est_un_ordre([1, 6, 2, 8, 3, 7])==False\n",
    "assert est_un_ordre([5, 4, 3, 6, 7, 2, 1, 8, 9])==True\n",
    "assert nombre_points_rupture([5, 4, 3, 6, 7, 2, 1, 8, 9])==4\n",
    "assert nombre_points_rupture([1, 2, 3, 4, 5])==0\n",
    "assert nombre_points_rupture([1, 6, 2, 8, 3, 7, 4, 5])==7\n",
    "assert nombre_points_rupture([2, 1, 3, 4])==2"
   ]
  },
  {
   "cell_type": "markdown",
   "id": "16e07958",
   "metadata": {},
   "source": [
    "# Sujet_06\n",
    "## S_6.1\n",
    "\n",
    "Écrire une fonction `verifie` qui prend en paramètre un tableau de valeurs numériques et qui renvoie `True` si ce tableau est trié dans l’ordre croissant, `False` sinon.\n",
    "\n",
    "Un tableau vide est considéré comme trié."
   ]
  },
  {
   "cell_type": "code",
   "execution_count": 35,
   "id": "8fcaaf09",
   "metadata": {},
   "outputs": [],
   "source": [
    "def verifie(a):\n",
    "    return sorted(a) == a"
   ]
  },
  {
   "cell_type": "markdown",
   "id": "088b1c3a",
   "metadata": {},
   "source": [
    "Exemples :"
   ]
  },
  {
   "cell_type": "code",
   "execution_count": 36,
   "id": "07e0e879",
   "metadata": {},
   "outputs": [],
   "source": [
    "assert verifie([0, 5, 8, 8, 9])==True\n",
    "assert verifie([8, 12, 4])==False\n",
    "assert verifie([-1, 4])==True\n",
    "assert verifie([])==True\n",
    "assert verifie([5])==True"
   ]
  },
  {
   "cell_type": "markdown",
   "id": "33b3d59f",
   "metadata": {},
   "source": [
    "## S_6.2\n",
    "\n",
    "On considère dans cet exercice l’élection d’un vainqueur à l’issue d’un vote. Les résultats\n",
    "du vote sont stockés dans un tableau : chaque vote exprimé est le nom d’un ou d’une\n",
    "candidate.  \n",
    "Par exemple, les résultats pourraient correspondre au tableau :"
   ]
  },
  {
   "cell_type": "code",
   "execution_count": null,
   "id": "6c084066",
   "metadata": {},
   "outputs": [],
   "source": [
    "urne = ['A', 'A', 'A', 'B', 'C', 'B', 'C', 'B', 'C', 'B']"
   ]
  },
  {
   "cell_type": "markdown",
   "id": "553744bf",
   "metadata": {},
   "source": [
    "indiquant que 3 candidats ont obtenu au moins un vote chacun : A, B et C.\n",
    "\n",
    "On cherche à déterminer le ou les candidats ayant obtenu le plus de suffrages. Pour cela, on propose d’écrire deux fonctions :\n",
    "\n",
    "- La fonction depouille doit permettre de compter le nombre de votes exprimés pour chaque artiste. Elle prend en paramètre un tableau et renvoie le résultat dans un dictionnaire dont les clés sont les noms des issues et les valeurs le nombre de votes en leur faveur.\n",
    "- La fonction vainqueurs doit désigner le nom du ou des gagnants. Elle prend en paramètre un dictionnaire non vide dont la structure est celle du dictionnaire renvoyé par la fonction depouille et renvoie un tableau. Ce tableau peut donc contenir plusieurs éléments s’il y a des artistes ex- aequo. Compléter les fonctions depouille et vainqueurs ci-après pour qu’elles renvoient les résultats attendus."
   ]
  },
  {
   "cell_type": "code",
   "execution_count": 43,
   "id": "e992c93d",
   "metadata": {},
   "outputs": [
    {
     "name": "stdout",
     "output_type": "stream",
     "text": [
      "{'A': 2, 'B': 1}\n"
     ]
    }
   ],
   "source": [
    "def depouille(urne):\n",
    "    '''prend en paramètre une liste de suffrages et renvoie un \n",
    "    dictionnaire avec le nombre de voix pour chaque candidat'''\n",
    "    resultat = {}\n",
    "    for bulletin in urne:\n",
    "        if bulletin in resultat: \n",
    "            resultat[bulletin] = resultat[bulletin] + 1\n",
    "        else:\n",
    "            resultat[bulletin] = 1\n",
    "    return resultat\n",
    "\n",
    "\n",
    "def vainqueurs(election):\n",
    "    '''prend en paramètre un dictionnaire non vide avec le nombre de voix\n",
    "    pour chaque candidat et renvoie la liste des vainqueurs'''\n",
    "    nmax = 0\n",
    "    for candidat in election:\n",
    "        if election[candidat] > nmax : \n",
    "            nmax = election[candidat]\n",
    "    liste_finale = [ nom for nom in election if election[nom] >= nmax ] \n",
    "    return liste_finale"
   ]
  },
  {
   "cell_type": "markdown",
   "id": "79faf185",
   "metadata": {},
   "source": [
    "Exemples d’utilisation :"
   ]
  },
  {
   "cell_type": "code",
   "execution_count": 44,
   "id": "a9268cc7",
   "metadata": {},
   "outputs": [],
   "source": [
    "assert depouille([ 'A', 'B', 'A' ])=={'A': 2, 'B': 1}\n",
    "assert depouille([])=={}\n",
    "assert depouille(['A', 'A', 'A', 'B', 'C','B', 'C', 'B', 'C', 'B'])=={'A': 3, 'B': 4, 'C': 3}\n",
    "assert vainqueurs({'A': 3, 'B': 4, 'C': 3})==['B']\n",
    "assert vainqueurs({ 'A' : 2, 'B' : 2, 'C' : 1})==['A', 'B']"
   ]
  },
  {
   "cell_type": "markdown",
   "id": "1830afb7",
   "metadata": {},
   "source": [
    "# Sujet_07\n",
    "## S_7.1\n",
    "\n",
    "On considère dans cet exercice une représentation binaire d’un entier non signé en tant que\n",
    "tableau de booléens.\n",
    "Si"
   ]
  },
  {
   "cell_type": "code",
   "execution_count": null,
   "id": "92e4d3aa",
   "metadata": {},
   "outputs": [],
   "source": [
    "tab = [True, False, True, False, False, True, True]"
   ]
  },
  {
   "cell_type": "markdown",
   "id": "6fead0ca",
   "metadata": {},
   "source": [
    "est un tel tableau, alors l’entier qu’il représente est $2^6 +2^4 + 2^1 + 2^0 = 83$. Cette représentation consistant à placer en premier le booléen indiquant la puissance la plus élevée de 2\n",
    "est dite *big-endian* ou grand-boutiste.\n",
    "\n",
    "Écrire une fonction `gb_vers_entier` qui prend en paramètre un tel tableau et renvoie\n",
    "l’entier qu’il représente."
   ]
  },
  {
   "cell_type": "code",
   "execution_count": 20,
   "id": "08c092cc",
   "metadata": {},
   "outputs": [
    {
     "name": "stdout",
     "output_type": "stream",
     "text": [
      "1\n"
     ]
    }
   ],
   "source": [
    "def gb_vers_entier(a):\n",
    "    if len(a) < 1:\n",
    "        return 0\n",
    "    dec = 0 \n",
    "    a_reversed = a[::-1]\n",
    "    for i in range(len(a_reversed)):\n",
    "        if a_reversed[i] == True:\n",
    "            dec = dec + (2**i)\n",
    "    return dec\n",
    "\n"
   ]
  },
  {
   "cell_type": "markdown",
   "id": "3a686cc1",
   "metadata": {},
   "source": [
    "Exemple :"
   ]
  },
  {
   "cell_type": "code",
   "execution_count": 21,
   "id": "e26e7a1e",
   "metadata": {},
   "outputs": [],
   "source": [
    "assert gb_vers_entier([])==0\n",
    "assert gb_vers_entier([True])==1\n",
    "assert gb_vers_entier([True, False, True, False, False, True, True])==83\n",
    "assert gb_vers_entier([True, False, False, False, False, False, True, False])==130"
   ]
  },
  {
   "cell_type": "markdown",
   "id": "4792a09e",
   "metadata": {},
   "source": [
    "## S_7.2\n",
    "\n",
    "La fonction `tri_insertion` suivante prend en argument un tableau `tab` et trie ce tableau en\n",
    "utilisant la méthode du tri par insertion. Compléter cette fonction pour qu'elle réponde à la\n",
    "spécification demandée.\n",
    "\n",
    "On rappelle le principe du tri par insertion : on considère les éléments à trier un par un,\n",
    "le premier élément constituant, à lui tout seul, un tableau trié de longueur 1. On range\n",
    "ensuite le second élément pour constituer un tableau trié de longueur 2, puis on range le\n",
    "troisième élément pour avoir un tableau trié de longueur 3 et ainsi de suite...\n",
    "\n",
    "A chaque étape, le premier élément du sous-tableau non trié est placé dans le sous-tableau\n",
    "des éléments déjà triés de sorte que ce sous-tableau demeure trié.\n",
    "\n",
    "Le principe du tri par insertion est donc d'insérer à la n-ième itération, le n-ième élément\n",
    "à la bonne place."
   ]
  },
  {
   "cell_type": "code",
   "execution_count": 33,
   "id": "e3d44077",
   "metadata": {},
   "outputs": [],
   "source": [
    "\n",
    "def tri_insertion(tab):\n",
    "    '''Trie le tableau tab par ordre croissant\n",
    "    en appliquant l'algorithme de tri par insertion'''\n",
    "    n = len(tab)\n",
    "    for i in range(1, n):\n",
    "        valeur_insertion = tab[i] \n",
    "        # la variable j sert à déterminer \n",
    "        # où placer la valeur à ranger\n",
    "        j = i \n",
    "        # tant qu'on n'a pas trouvé la place de l'élément à\n",
    "        # insérer on décale les valeurs du tableau vers la droite\n",
    "        while j > 0 and valeur_insertion < tab[j-1]: \n",
    "            tab[j] = tab[j-1]\n",
    "            j = j - 1  \n",
    "        tab[j] = valeur_insertion\n",
    "    return tab"
   ]
  },
  {
   "cell_type": "markdown",
   "id": "97e4d572",
   "metadata": {},
   "source": [
    "Exemples :"
   ]
  },
  {
   "cell_type": "code",
   "execution_count": 34,
   "id": "b5296d5e",
   "metadata": {},
   "outputs": [],
   "source": [
    "assert tri_insertion([98, 12, 104, 23, 131, 9])==[9, 12, 23, 98, 104, 131]\n"
   ]
  },
  {
   "cell_type": "markdown",
   "id": "f3c9b676",
   "metadata": {},
   "source": [
    "\n",
    "# Sujet_08\n",
    "## S_8.1\n",
    "\n",
    "Le codage par différence (*delta encoding* en anglais) permet de compresser un tableau\n",
    "d’entiers dont les valeurs sont proches les unes des autres. Le principe est de stocker la\n",
    "première donnée en indiquant pour chaque autre donnée sa différence avec la précédente\n",
    "plutôt que la donnée elle-même.\n",
    "\n",
    "On se retrouve alors avec un tableau de données plus petit, nécessitant\n",
    "moins de place en mémoire. Cette méthode se révèle efficace lorsque les valeurs consécutives\n",
    "sont proches.\n",
    "\n",
    "Programmer la fonction `delta(liste)` qui prend en paramètre un tableau non vide de nombres entiers\n",
    "et qui renvoie un tableau contenant les valeurs entières compressées à l’aide cette technique."
   ]
  },
  {
   "cell_type": "code",
   "execution_count": 36,
   "id": "9b7b9b51",
   "metadata": {},
   "outputs": [
    {
     "name": "stdout",
     "output_type": "stream",
     "text": [
      "[1000, -200, 2, 198, 3]\n"
     ]
    }
   ],
   "source": [
    "def delta(a):\n",
    "    if len(a) == 1:\n",
    "        return a\n",
    "    lst = [a[0]]\n",
    "    for i in range(1,len(a)):\n",
    "        lst.append(a[i] - a[i-1])\n",
    "    return lst\n"
   ]
  },
  {
   "cell_type": "markdown",
   "id": "54b1787c",
   "metadata": {},
   "source": [
    "Exemples :"
   ]
  },
  {
   "cell_type": "code",
   "execution_count": 37,
   "id": "c59ea3e1",
   "metadata": {},
   "outputs": [],
   "source": [
    "assert delta([1000, 800, 802, 1000, 1003])==[1000, -200, 2, 198, 3]\n",
    "assert delta([42])==[42] "
   ]
  },
  {
   "cell_type": "markdown",
   "id": "f8fcd129",
   "metadata": {},
   "source": [
    "## S_8.2\n",
    "\n",
    "Une expression arithmétique ne comportant que les quatre opérations +, −, ×, ÷ peut être\n",
    "représentée sous forme d’arbre binaire. Les nœuds internes sont des opérateurs et les feuilles\n",
    "sont des nombres. Dans un tel arbre, la disposition des nœuds joue le rôle des parenthèses que\n",
    "nous connaissons bien.  \n",
    "\n",
    "![alt text](images/image-1.png)\n",
    "\n",
    "En parcourant en profondeur infixe l’arbre binaire ci-dessus, on\n",
    "retrouve l’expression notée habituellement :  \n",
    "\n",
    "\n",
    "$$(3 \\times (8 + 7)) − (2 + 1)$$\n",
    "\n",
    "\n",
    "La classe `Expr` ci-après permet d’implémenter une structure\n",
    "d’arbre binaire pour représenter de telles expressions.\n",
    "\n",
    "Compléter la méthode récursive `infixe` qui renvoie une chaîne de caractères contenant\n",
    "des parenthèses représentant l’expression arithmétique sur laquelle on l’applique."
   ]
  },
  {
   "cell_type": "code",
   "execution_count": 49,
   "id": "75fb5fd1",
   "metadata": {},
   "outputs": [
    {
     "name": "stdout",
     "output_type": "stream",
     "text": [
      "(1+2)\n"
     ]
    }
   ],
   "source": [
    "class Expr:\n",
    "    \"\"\"Classe implémentant un arbre d'expression.\"\"\"\n",
    "\n",
    "    def __init__(self, g, v, d):\n",
    "        \"\"\"un objet Expr possède 3 attributs :\n",
    "        - gauche : la sous-expression gauche ;\n",
    "        - valeur : la valeur de l'étiquette, opérande ou nombre ;\n",
    "        - droite : la sous-expression droite.\"\"\"\n",
    "        self.gauche = g\n",
    "        self.valeur = v\n",
    "        self.droite = d\n",
    "\n",
    "    def est_une_feuille(self):\n",
    "        \"\"\"renvoie True si et seulement \n",
    "        si le noeud est une feuille\"\"\"\n",
    "        return self.gauche is None and self.droite is None\n",
    "\n",
    "    def infixe(self):\n",
    "        \"\"\"renvoie la représentation infixe de l'expression en\n",
    "        chaine de caractères\"\"\"\n",
    "        s = ''\n",
    "        if self.gauche is not None:\n",
    "            s = '(' + s + self.gauche.infixe() \n",
    "        s = s + str(self.valeur)\n",
    "        if self.droite is not None: \n",
    "            s = s + self.droite.infixe() + ')' \n",
    "        return s\n",
    "    \n"
   ]
  },
  {
   "cell_type": "markdown",
   "id": "991c3231",
   "metadata": {},
   "source": [
    "Exemples :"
   ]
  },
  {
   "cell_type": "code",
   "execution_count": 50,
   "id": "58bd264e",
   "metadata": {},
   "outputs": [],
   "source": [
    "a = Expr(Expr(None, 1, None), '+', Expr(None, 2, None))\n",
    "assert a.infixe()=='(1+2)'\n",
    "b = Expr(Expr(Expr(None, 1, None), '+', Expr(None, 2, None)), '*', Expr(Expr(None, 3, None), '+', Expr(None, 4, None)))\n",
    "assert b.infixe()=='((1+2)*(3+4))'\n",
    "e = Expr(Expr(Expr(None, 3, None), '*', Expr(Expr(None, 8, None), '+', Expr(None, 7, None))),'-', Expr(Expr(None, 2, None), '+', Expr(None, 1, None)))\n",
    "assert e.infixe()=='((3*(8+7))-(2+1))'"
   ]
  },
  {
   "cell_type": "markdown",
   "id": "90599a94",
   "metadata": {},
   "source": [
    "# Sujet_09\n",
    "## S_9.1\n",
    "\n",
    "On veut trier par ordre croissant les notes d’une évaluation qui sont des nombres entiers\n",
    "compris entre 0 et 10 (inclus).\n",
    "\n",
    "Ces notes sont contenues dans un tableau `notes_eval` (type `list`)\n",
    "\n",
    "Écrire une fonction `effectif_notes` prenant en paramètre le tableau `notes_eval` et\n",
    "renvoyant un tableau de longueur 11 tel que la valeur d’indice `i` soit le nombre de notes\n",
    "valant `i` dans le tableau `notes_eval`.\n",
    "\n",
    "Écrire ensuite une fonction `notes_triees` prenant en paramètre le tableau des effectifs\n",
    "des notes et renvoyant un tableau contenant les mêmes valeurs que `notes_eval` mais\n",
    "triées dans l’ordre croissant."
   ]
  },
  {
   "cell_type": "code",
   "execution_count": 5,
   "id": "c09e698a",
   "metadata": {},
   "outputs": [],
   "source": [
    "def effectif_notes(a):\n",
    "    count = []\n",
    "    for i in range(11):\n",
    "        count.append(a.count(i))\n",
    "    return count\n",
    "\n",
    "\n",
    "def notes_triees(b):\n",
    "    trie = []\n",
    "    for i,v in enumerate(b):\n",
    "        for t in range(v):\n",
    "            trie.append(i)\n",
    "    return trie\n"
   ]
  },
  {
   "cell_type": "markdown",
   "id": "da8c2ed2",
   "metadata": {},
   "source": [
    "Exemple :"
   ]
  },
  {
   "cell_type": "code",
   "execution_count": 4,
   "id": "b11e3e1a",
   "metadata": {},
   "outputs": [],
   "source": [
    "notes_eval = [2, 0, 5, 9, 6, 9, 10, 5, 7, 9, 9, 5, 0, 9, 6, 5, 4]\n",
    "assert effectif_notes(notes_eval)==[2, 0, 1, 0, 1, 4, 2, 1, 0, 5, 1]\n",
    "assert notes_triees([2, 0, 1, 0, 1, 4, 2, 1, 0, 5, 1])==[0, 0, 2, 4, 5, 5, 5, 5, 6, 6, 7, 9, 9, 9, 9, 9, 10]"
   ]
  },
  {
   "cell_type": "markdown",
   "id": "9e7d1541",
   "metadata": {},
   "source": [
    "## S_9.2\n",
    "\n",
    "L’objectif de cet exercice est d’écrire deux fonctions récursives `dec_to_bin` et\n",
    "`bin_to_dec` assurant respectivement la conversion de l’écriture décimale d’un nombre\n",
    "entier vers son écriture en binaire et, réciproquement, la conversion de l’écriture en\n",
    "binaire d’un nombre vers son écriture décimale.\n",
    "\n",
    "Dans cet exercice, on s’interdit l’usage des fonctions Python `bin` et `int`.\n",
    "\n",
    "L'exemple suivant montre comment obtenir l’écriture en binaire du\n",
    "nombre 25 :\n",
    "\n",
    "$25 =  2 \\times 12 + 1$  \n",
    "$\\phantom{25} = 2 \\times (2 \\times 6 + 0) + 1$  \n",
    "$\\phantom{25} = 2 \\times (2 \\times (2 \\times 3 + 0) + 0) + 1$  \n",
    "$\\phantom{25} = 2 \\times (2 \\times (2 \\times (2 \\times 1+1) + 0) + 0) + 1$     \n",
    "$\\phantom{25} = 2 \\times (2 \\times (2 \\times (2 \\times (2 \\times 0 + 1)+1) + 0) + 0) + 1$   \n",
    "$\\phantom{25} = 1 \\times 2^4 + 1 \\times 2^3 + 0 \\times 2^2 + 0 \\times 2^1 + 1 \\times 2^0$   \n",
    "\n",
    "L'écriture binaire de 25 est donc ```11001```.\n",
    "\n",
    "0n rappelle également que :\n",
    "\n",
    "- `a // 2` renvoie le quotient de la division euclidienne de `a` par 2.\n",
    "- ` a % 2` renvoie le reste dans la division euclidienne de `a` par 2.\n",
    "\n",
    "On indique enfin qu’en Python si `mot = \"informatique\"` alors :\n",
    "\n",
    "- `mot[-1]` renvoie `'e'`, c’est-à-dire le dernier caractère de la chaîne de caractères `mot`.\n",
    "- `mot[:-1]` renvoie `'informatiqu'` , c’est-à-dire l’ensemble de la chaîne de\n",
    "caractères `mot` privée de son dernier caractère.\n",
    "\n",
    "Compléter, puis tester, les codes de deux fonctions ci-dessous. \n",
    "On précise que la fonction récursive `dec_to_bin` prend en paramètre un nombre entier\n",
    "et renvoie une chaîne de caractères contenant l’écriture en binaire du nombre passé en\n",
    "paramètre."
   ]
  },
  {
   "cell_type": "code",
   "execution_count": 37,
   "id": "7dbedc3b",
   "metadata": {},
   "outputs": [
    {
     "name": "stdout",
     "output_type": "stream",
     "text": [
      "10\n"
     ]
    }
   ],
   "source": [
    "def dec_to_bin(nb_dec):\n",
    "    q, r = nb_dec // 2, nb_dec % 2\n",
    "    if q == 0: \n",
    "        return '1'\n",
    "    else:\n",
    "        return dec_to_bin(q) + str(r)\n",
    "    \n",
    "\n",
    "def bin_to_dec(nb_bin):\n",
    "    if len(nb_bin) == 1:\n",
    "        if nb_bin == '0': \n",
    "            return 0\n",
    "        else:\n",
    "            return 1 \n",
    "    else:\n",
    "        if nb_bin[-1] == '0':\n",
    "            bit_droit = 0\n",
    "        else:\n",
    "            bit_droit = 1\n",
    "        return 2 * bin_to_dec(nb_bin[:-1]) + bit_droit\n",
    "    \n",
    "print(bin_to_dec('1010'))\n"
   ]
  },
  {
   "cell_type": "markdown",
   "id": "8eff05ba",
   "metadata": {},
   "source": [
    "Exemple :"
   ]
  },
  {
   "cell_type": "code",
   "execution_count": 38,
   "id": "3a423d2c",
   "metadata": {},
   "outputs": [],
   "source": [
    "assert dec_to_bin(25)=='11001'"
   ]
  },
  {
   "cell_type": "markdown",
   "id": "6694bdb3",
   "metadata": {},
   "source": [
    "La fonction récursive bin_to_dec prend en paramètre une chaîne de caractères représentant l’écriture d’un nombre en binaire et renvoie l’écriture décimale de ce nombre."
   ]
  },
  {
   "cell_type": "code",
   "execution_count": 39,
   "id": "0636afa0",
   "metadata": {},
   "outputs": [],
   "source": [
    "assert bin_to_dec('101010')==42"
   ]
  },
  {
   "cell_type": "markdown",
   "id": "624ce3da",
   "metadata": {},
   "source": [
    "# Sujet_10\n",
    "## S_10.1\n",
    "\n",
    "Dans cet exercice on cherche à calculer la moyenne pondérée d’un élève dans une matière\n",
    "donnée. Chaque note est associée à un coefficient qui la pondère.\n",
    "\n",
    "Par exemple, si ses notes sont : 14 avec coefficient 3, 12 avec coefficient 1 et 16 avec coeffi-\n",
    "cient 2, sa moyenne pondérée sera donnée par\n",
    "\n",
    "$$\\dfrac{14 \\times 3 + 12 \\times 1 + 16 \\times 2}{3+1+2}=14,333... $$\n",
    "\n",
    "Écrire une fonction `moyenne` :\n",
    "\n",
    "- qui prend en paramètre une liste notes non vide de tuples à deux éléments entiers\n",
    "de la forme `(note, coefficient)` (`int` ou `float`) positifs ou nuls ;\n",
    "- et qui renvoie la moyenne pondérée des notes de la liste sous forme de flottant si la\n",
    "somme des coefficients est non nulle, `None` sinon."
   ]
  },
  {
   "cell_type": "code",
   "execution_count": 57,
   "id": "e74ed6c1",
   "metadata": {},
   "outputs": [],
   "source": [
    "def moyenne(a):\n",
    "    note = sum(v[0]*v[1] for v in a)\n",
    "    coef = sum(v[1] for v in a)\n",
    "    if coef != 0:\n",
    "        return note/coef\n"
   ]
  },
  {
   "cell_type": "markdown",
   "id": "7b19b79b",
   "metadata": {},
   "source": [
    "Exemple :"
   ]
  },
  {
   "cell_type": "code",
   "execution_count": 58,
   "id": "a2aaae90",
   "metadata": {},
   "outputs": [],
   "source": [
    "assert moyenne([(8, 2), (12, 0), (13.5, 1), (5, 0.5)])==9.142857142857142\n",
    "assert moyenne([(3, 0), (5, 0)])==None"
   ]
  },
  {
   "cell_type": "markdown",
   "id": "c4984485",
   "metadata": {},
   "source": [
    "## S_10.2\n",
    "\n",
    "![alt text](images/image-2.png)\n",
    "\n",
    "On travaille sur des dessins en noir et blanc obtenus à partir de pixels noirs et blancs :\n",
    "La figure « cœur » ci-dessus va servir d’exemple.\n",
    "On la représente par une grille de nombres, c’est-à-dire par une liste composée de sous-listes de même longueurs.\n",
    "Chaque sous-liste représentera donc une ligne du dessin.\n",
    "\n",
    "Dans le code ci-dessous, la fonction `affiche` permet d’afficher le dessin. Les pixels noirs\n",
    "(1 dans la grille) seront représentés par le caractère \"*\" et les blancs (0 dans la grille) par\n",
    "deux espaces.\n",
    "\n",
    "La fonction `liste_zoom` prend en arguments une liste `liste_depart` et un entier `k`. Elle\n",
    "renvoie une liste où chaque élément de `liste_depart` est dupliqué `k` fois.\n",
    "\n",
    "La fonction `dessin_zoom` prend en argument la grille `dessin` et renvoie une grille où\n",
    "toutes les lignes de `dessin` sont zoomées `k` fois et répétées `k` fois.\n",
    "\n",
    "Compléter les fonctions `liste_zoom` et `dessin_zoom` du code suivant :"
   ]
  },
  {
   "cell_type": "code",
   "execution_count": 79,
   "id": "e4150655",
   "metadata": {},
   "outputs": [],
   "source": [
    "def affiche(dessin):\n",
    "    ''' affichage d'une grille : les 1 sont représentés par \n",
    "        des \"*\" , les 0 par un espace \" \" '''\n",
    "    for ligne in dessin:\n",
    "        affichage = ''\n",
    "        for col in ligne:\n",
    "            if col == 1:\n",
    "                affichage = affichage + \"*\"\n",
    "            else:\n",
    "                affichage = affichage + \" \"\n",
    "        print(affichage)\n",
    "\n",
    "\n",
    "def liste_zoom(liste_depart,k):\n",
    "    '''renvoie une liste contenant k fois chaque élément de\n",
    "       liste_depart'''\n",
    "    liste_zoomee = [] \n",
    "    for elt in liste_depart : \n",
    "        for i in range(k):\n",
    "            liste_zoomee.append(elt)\n",
    "    return liste_zoomee\n",
    "\n",
    "def dessin_zoom(grille,k):\n",
    "    '''renvoie une grille où les lignes sont zoomées k fois \n",
    "       ET répétées k fois'''\n",
    "    grille_zoomee=[]\n",
    "    for ligne in grille:\n",
    "        ligne_zoomee = liste_zoom(ligne,k) \n",
    "        for i in range(k):\n",
    "            grille_zoomee.append(ligne_zoomee*k) \n",
    "    return grille_zoomee"
   ]
  },
  {
   "cell_type": "markdown",
   "id": "4e2d54b8",
   "metadata": {},
   "source": [
    "Exemples :"
   ]
  },
  {
   "cell_type": "code",
   "execution_count": 80,
   "id": "692eac09",
   "metadata": {},
   "outputs": [
    {
     "name": "stdout",
     "output_type": "stream",
     "text": [
      "             \n",
      "   **   **   \n",
      "  *  * *  *  \n",
      " *    *    * \n",
      " *         * \n",
      " *         * \n",
      "  *       *  \n",
      "   *     *   \n",
      "    *   *    \n",
      "     * *     \n",
      "      *      \n",
      "             \n"
     ]
    }
   ],
   "source": [
    "coeur = [[0, 0, 0, 0, 0, 0, 0, 0, 0, 0, 0, 0, 0], \n",
    "        [0, 0, 0, 1, 1, 0, 0, 0, 1, 1, 0, 0, 0], \n",
    "        [0, 0, 1, 0, 0, 1, 0, 1, 0, 0, 1, 0, 0], \n",
    "        [0, 1, 0, 0, 0, 0, 1, 0, 0, 0, 0, 1, 0], \n",
    "        [0, 1, 0, 0, 0, 0, 0, 0, 0, 0, 0, 1, 0], \n",
    "        [0, 1, 0, 0, 0, 0, 0, 0, 0, 0, 0, 1, 0], \n",
    "        [0, 0, 1, 0, 0, 0, 0, 0, 0, 0, 1, 0, 0], \n",
    "        [0, 0, 0, 1, 0, 0, 0, 0, 0, 1, 0, 0, 0], \n",
    "        [0, 0, 0, 0, 1, 0, 0, 0, 1, 0, 0, 0, 0], \n",
    "        [0, 0, 0, 0, 0, 1, 0, 1, 0, 0, 0, 0, 0], \n",
    "        [0, 0, 0, 0, 0, 0, 1, 0, 0, 0, 0, 0, 0], \n",
    "        [0, 0, 0, 0, 0, 0, 0, 0, 0, 0, 0, 0, 0]]\n",
    "\n",
    "affiche(coeur)"
   ]
  },
  {
   "cell_type": "code",
   "execution_count": 62,
   "id": "15761aac",
   "metadata": {
    "attributes": {
     "classes": [
      "markdown"
     ],
     "id": ""
    }
   },
   "outputs": [
    {
     "ename": "IndentationError",
     "evalue": "unindent does not match any outer indentation level (<string>, line 3)",
     "output_type": "error",
     "traceback": [
      "\u001b[1;36m  File \u001b[1;32m<string>:3\u001b[1;36m\u001b[0m\n\u001b[1;33m    *         *         *\u001b[0m\n\u001b[1;37m                           ^\u001b[0m\n\u001b[1;31mIndentationError\u001b[0m\u001b[1;31m:\u001b[0m unindent does not match any outer indentation level\n"
     ]
    }
   ],
   "source": [
    "        * *       * *      \n",
    "     *     *   *     *    \n",
    "   *         *         *  \n",
    "   *                   *  \n",
    "   *                   *  \n",
    "     *               *    \n",
    "       *           *      \n",
    "         *       *        \n",
    "           *   *          \n",
    "             *"
   ]
  },
  {
   "cell_type": "code",
   "execution_count": 81,
   "id": "bf9f3351",
   "metadata": {},
   "outputs": [
    {
     "name": "stdout",
     "output_type": "stream",
     "text": [
      "                                                    \n",
      "                                                    \n",
      "      ****      ****            ****      ****      \n",
      "      ****      ****            ****      ****      \n",
      "    **    **  **    **        **    **  **    **    \n",
      "    **    **  **    **        **    **  **    **    \n",
      "  **        **        **    **        **        **  \n",
      "  **        **        **    **        **        **  \n",
      "  **                  **    **                  **  \n",
      "  **                  **    **                  **  \n",
      "  **                  **    **                  **  \n",
      "  **                  **    **                  **  \n",
      "    **              **        **              **    \n",
      "    **              **        **              **    \n",
      "      **          **            **          **      \n",
      "      **          **            **          **      \n",
      "        **      **                **      **        \n",
      "        **      **                **      **        \n",
      "          **  **                    **  **          \n",
      "          **  **                    **  **          \n",
      "            **                        **            \n",
      "            **                        **            \n",
      "                                                    \n",
      "                                                    \n"
     ]
    }
   ],
   "source": [
    "affiche(dessin_zoom(coeur,2))"
   ]
  },
  {
   "cell_type": "code",
   "execution_count": null,
   "id": "6807fafc",
   "metadata": {
    "attributes": {
     "classes": [
      "markdown"
     ],
     "id": ""
    }
   },
   "outputs": [],
   "source": [
    "\n",
    "\n",
    "             * * * *             * * * *            \n",
    "             * * * *             * * * *            \n",
    "         * *         * *     * *         * *        \n",
    "         * *         * *     * *         * *        \n",
    "     * *                 * *                 * *    \n",
    "     * *                 * *                 * *    \n",
    "     * *                                     * *    \n",
    "     * *                                     * *    \n",
    "     * *                                     * *    \n",
    "     * *                                     * *    \n",
    "         * *                             * *        \n",
    "         * *                             * *        \n",
    "             * *                     * *            \n",
    "             * *                     * *            \n",
    "                 * *             * *                \n",
    "                 * *             * *                \n",
    "                     * *     * *                    \n",
    "                     * *     * *                    \n",
    "                         * *                        \n",
    "                         * *                        "
   ]
  },
  {
   "cell_type": "code",
   "execution_count": 82,
   "id": "66b781be",
   "metadata": {},
   "outputs": [],
   "source": [
    "assert liste_zoom([1,2,3],3)==[1, 1, 1, 2, 2, 2, 3, 3, 3]"
   ]
  },
  {
   "cell_type": "markdown",
   "id": "092a9d29",
   "metadata": {},
   "source": [
    "# Sujet_11\n",
    "## S_11.1\n",
    "\n",
    "Dans cet exercice, on considère des phrases composées de mots.\n",
    "\n",
    "- On appelle « mot » une chaîne de caractères composée avec des caractères choisis\n",
    "parmi les 26 lettres minuscules ou majuscules de l'alphabet,\n",
    "\n",
    "- On appelle *phrase* une chaîne de caractères :\n",
    "    - composée avec un ou plusieurs *mots* séparés entre eux par un seul\n",
    "caractère espace `' '`,\n",
    "    - se finissant :\n",
    "        - soit par un point `'.'` qui est alors collé au dernier mot,\n",
    "        - soit par un point d'exclamation `'!'` ou d'interrogation `'?'` qui est alors\n",
    "séparé du dernier mot par un seul caractère espace `' '`.\n",
    "\n",
    "Voici deux exemples de phrases :\n",
    "\n",
    "- 'Cet exercice est simple.'\n",
    "- 'Le point d exclamation est separe !'\n",
    "\n",
    "Après avoir remarqué le lien entre le nombre de mots et le nombres de caractères espace\n",
    "dans une phrase, programmer une fonction `nombre_de_mots` qui prend en paramètre une\n",
    "phrase et renvoie le nombre de mots présents dans cette phrase."
   ]
  },
  {
   "cell_type": "code",
   "execution_count": 101,
   "id": "1e08464c",
   "metadata": {},
   "outputs": [
    {
     "name": "stdout",
     "output_type": "stream",
     "text": [
      "6\n"
     ]
    }
   ],
   "source": [
    "def nombre_de_mots(a):\n",
    "    a = a.strip('!').strip('?').strip('.')\n",
    "    return len(a.split())\n"
   ]
  },
  {
   "cell_type": "code",
   "execution_count": 102,
   "id": "49a8880a",
   "metadata": {},
   "outputs": [],
   "source": [
    "assert nombre_de_mots('Cet exercice est simple.')==4\n",
    "assert nombre_de_mots('Le point d exclamation est séparé !')==6\n",
    "assert nombre_de_mots('Combien de mots y a t il dans cette phrase ?')==10\n",
    "assert nombre_de_mots('Fin.')==1"
   ]
  },
  {
   "cell_type": "markdown",
   "id": "b09c0cae",
   "metadata": {},
   "source": [
    "## S_11.2\n",
    "\n",
    "Un arbre binaire de recherche est soit vide, représenté en Python par la valeur None, soit\n",
    "un nœud, contenant une étiquette et deux sous-arbres gauche et droit et représenté par\n",
    "une instance de la classe Noeud donnée ci-dessous.\n",
    "\n",
    "On considère ici que les étiquettes des nœuds sont des entiers et que les arbres binaires de\n",
    "recherche considérés ne contiennent pas de doublons."
   ]
  },
  {
   "cell_type": "code",
   "execution_count": 12,
   "id": "f0343447",
   "metadata": {},
   "outputs": [],
   "source": [
    "class Noeud:\n",
    "    def __init__(self, etiquette):\n",
    "        '''Méthode constructeur pour la classe Noeud.\n",
    "        Crée une feuille d'étiquette donnée.'''\n",
    "        self.etiquette = etiquette\n",
    "        self.gauche = None\n",
    "        self.droit = None\n",
    "\n",
    "    def inserer(self, cle):\n",
    "        '''Insère la clé dans l'arbre binaire de recherche\n",
    "        en préservant sa structure.'''\n",
    "        if cle < self.etiquette:\n",
    "            if self.gauche != None:\n",
    "                self.gauche.inserer(cle)\n",
    "            else:\n",
    "                self.gauche = Noeud(cle)\n",
    "        else:\n",
    "            if self.droit != None:\n",
    "                self.droit.inserer(cle)\n",
    "            else:\n",
    "                self.droit = Noeud(cle)"
   ]
  },
  {
   "cell_type": "markdown",
   "id": "a1ef91f8",
   "metadata": {},
   "source": [
    "Compléter la méthode récursive inserer afin qu’elle permette d’insérer une clé dans l’arbre binaire de recherche non vide sur lequel on l’appelle.\n",
    "\n",
    "Voici un exemple d'utilisation :"
   ]
  },
  {
   "cell_type": "code",
   "execution_count": 15,
   "id": "375fab72",
   "metadata": {},
   "outputs": [],
   "source": [
    "arbre = Noeud(7)\n",
    "for cle in (3, 9, 1, 6):\n",
    "    arbre.inserer(cle)\n",
    "\n",
    "assert arbre.gauche.etiquette==3\n",
    "assert arbre.droit.etiquette==9\n",
    "assert arbre.gauche.gauche.etiquette==1\n",
    "assert arbre.gauche.droit.etiquette==6"
   ]
  },
  {
   "cell_type": "markdown",
   "id": "06ea330f",
   "metadata": {},
   "source": [
    "# Sujet_12\n",
    "## S_12.1\n",
    "\n",
    "Écrire une fonction `tri_selection` qui prend en paramètre un tableau `tab` de nombres\n",
    "entiers (type `list`) et qui le modifie afin qu’il soit trié par ordre croissant.\n",
    "\n",
    "On utilisera l’algorithme suivant :\n",
    "\n",
    "- on recherche le plus petit élément du tableau, en le parcourant du rang 0 au dernier\n",
    "rang, et on l’échange avec l’élément d’indice 0 ;\n",
    "- on recherche ensuite le plus petit élément du tableau restreint du rang 1 au dernier\n",
    "rang, et on l’échange avec l’élément d’indice 1 ;\n",
    "- on continue de cette façon jusqu’à ce que le tableau soit entièrement trié."
   ]
  },
  {
   "cell_type": "code",
   "execution_count": 37,
   "id": "ead5ae39",
   "metadata": {},
   "outputs": [
    {
     "name": "stdout",
     "output_type": "stream",
     "text": [
      "[-9, 1, 6, 12, 52]\n"
     ]
    }
   ],
   "source": [
    "def tri_selection(a):\n",
    "    for k in range(len(a)):\n",
    "        min = a[k]\n",
    "        i_min = k\n",
    "        for i in range(1+k,len(a)):\n",
    "            if min > a[i]:\n",
    "                min = a[i]\n",
    "                i_min = i\n",
    "        a[k], a[i_min] = min, a[k]\n",
    "    return a\n",
    "print(tri_selection([1, 52, 6, -9, 12]))"
   ]
  },
  {
   "cell_type": "markdown",
   "id": "960a64b8",
   "metadata": {},
   "source": [
    "Exemple :"
   ]
  },
  {
   "cell_type": "code",
   "execution_count": 38,
   "id": "dabe39dc",
   "metadata": {},
   "outputs": [],
   "source": [
    "tab = [1, 52, 6, -9, 12]\n",
    "assert tri_selection(tab)==[-9, 1, 6, 12, 52]"
   ]
  },
  {
   "cell_type": "markdown",
   "id": "64c464fc",
   "metadata": {},
   "source": [
    "## S_12.2\n",
    "\n",
    "Le jeu du « plus ou moins » consiste à deviner un nombre entier choisi entre 1 et 99.\n",
    "\n",
    "Une élève de NSI décide de le coder en langage Python de la manière suivante :\n",
    "\n",
    "- le programme génère un nombre entier aléatoire compris entre 1 et 99 ;\n",
    "- si la proposition de l’utilisatrice est plus petite que le nombre cherché, l’utilisatrice en\n",
    "est avertie. Elle peut alors en tester un autre ;\n",
    "- si la proposition de l’utilisatrice est plus grande que le nombre cherché, l’utilisatrice en\n",
    "est avertie. Elle peut alors en tester un autre ;\n",
    "- si l’utilisatrice trouve le bon nombre en 10 essais ou moins, elle gagne ;\n",
    "- si l’utilisatrice a fait plus de 10 essais sans trouver le bon nombre, elle perd.\n",
    "\n",
    "La fonction `randint` est utilisée.  \n",
    "Si a et b sont des entiers tels que `a <= b`, `randint(a,b)` renvoie un\n",
    "nombre entier compris entre `a` et `b`.\n",
    "\n",
    "\n",
    "Compléter le code ci-dessous et le tester :"
   ]
  },
  {
   "cell_type": "code",
   "execution_count": 43,
   "id": "34b38ea2",
   "metadata": {},
   "outputs": [],
   "source": [
    "from random import randint\n",
    "\n",
    "def plus_ou_moins():\n",
    "    nb_mystere = randint(1,99)\n",
    "    nb_test = int(input(\"Proposez un nombre entre 1 et 99 : \"))\n",
    "    compteur = 0\n",
    "\n",
    "    while nb_mystere != nb_test and compteur < 10 :\n",
    "        compteur = compteur + 1\n",
    "        if nb_mystere > nb_test:\n",
    "            nb_test = int(input(\"Trop petit ! Testez encore : \"))\n",
    "        else:\n",
    "            nb_test = int(input(\"Trop grand ! Testez encore : \"))\n",
    "\n",
    "    if nb_mystere == nb_test:\n",
    "        print (\"Bravo ! Le nombre était \",nb_mystere)\n",
    "        print(\"Nombre d'essais: \",compteur)\n",
    "    else:\n",
    "        print (\"Perdu ! Le nombre était \",nb_mystere)"
   ]
  },
  {
   "cell_type": "markdown",
   "id": "6636f85a",
   "metadata": {},
   "source": [
    "# Sujet_13\n",
    "## S_13.1\n",
    "\n",
    "Écrire une fonction `recherche` qui prend en paramètres `elt` un nombre entier et `tab`\n",
    "un tableau de nombres entiers (type `list`), et qui renvoie l’indice de la première occurrence de `elt` dans `tab` si `elt` est dans `tab` et `None` sinon.\n",
    "\n",
    "L’objectif de cet exercice est de parcourir un tableau, il est interdit d’utiliser la méthode\n",
    "`index` des listes Python."
   ]
  },
  {
   "cell_type": "code",
   "execution_count": 45,
   "id": "25ea4812",
   "metadata": {},
   "outputs": [],
   "source": [
    "def recherche(elt,tab):\n",
    "    if elt not in tab:\n",
    "        return None\n",
    "    return tab.index(elt)"
   ]
  },
  {
   "cell_type": "markdown",
   "id": "c0fcbb4b",
   "metadata": {},
   "source": [
    "Exemples :"
   ]
  },
  {
   "cell_type": "code",
   "execution_count": 46,
   "id": "71f2e3e7",
   "metadata": {},
   "outputs": [],
   "source": [
    "assert recherche(1, [2, 3, 4])==None # renvoie None\n",
    "assert recherche(1, [10, 12, 1, 56])==2\n",
    "assert recherche(50, [1, 50, 1])==1\n",
    "assert recherche(15, [8, 9, 10, 15])==3"
   ]
  },
  {
   "cell_type": "markdown",
   "id": "b9dce8ad",
   "metadata": {},
   "source": [
    "## S_13.2\n",
    "\n",
    "On considère la fonction `insere` ci-dessous qui prend en argument un tableau `tab` d’en-\n",
    "tiers triés par ordre croissant et un entier `a`. \n",
    "\n",
    "Cette fonction crée et renvoie un nouveau tableau à partir de celui fourni en paramètre en y\n",
    "insérant la valeur `a` de sorte que le tableau renvoyé soit encore trié par ordre croissant. Les\n",
    "tableaux seront représentés sous la forme de listes Python."
   ]
  },
  {
   "cell_type": "code",
   "execution_count": 64,
   "id": "ee62eea6",
   "metadata": {},
   "outputs": [
    {
     "data": {
      "text/plain": [
       "[1, 2, 7, 12, 14, 25, 30]"
      ]
     },
     "execution_count": 64,
     "metadata": {},
     "output_type": "execute_result"
    }
   ],
   "source": [
    "def insere(tab, a):\n",
    "    \"\"\"\n",
    "    Insère l'élément a (int) dans le tableau tab (list)\n",
    "    trié par ordre croissant à sa place et renvoie le\n",
    "    nouveau tableau.\n",
    "    \"\"\"\n",
    "    tab_a = [ a ] + tab # nouveau tableau contenant a \n",
    "                        # suivi des éléments de tab\n",
    "    i = 0\n",
    "    while i < len(tab_a)-1 and a > tab_a[i+1]: \n",
    "        tab_a[i] = tab_a[i+1]\n",
    "        tab_a[i+1] = a\n",
    "        i = i + 1 \n",
    "    return tab_a\n",
    "\n"
   ]
  },
  {
   "cell_type": "markdown",
   "id": "01b6272d",
   "metadata": {},
   "source": [
    "Compléter la fonction insere ci-dessus.\n",
    "\n",
    "Exemples :"
   ]
  },
  {
   "cell_type": "code",
   "execution_count": 65,
   "id": "4ae14380",
   "metadata": {},
   "outputs": [],
   "source": [
    "assert insere([1, 2, 4, 5], 3)==[1, 2, 3, 4, 5]\n",
    "assert insere([1, 2, 7, 12, 14, 25], 30)==[1, 2, 7, 12, 14, 25, 30]\n",
    "assert insere([2, 3, 4], 1)==[1, 2, 3, 4]\n",
    "assert insere([], 1)==[1]"
   ]
  },
  {
   "cell_type": "markdown",
   "id": "00505de4",
   "metadata": {},
   "source": [
    "# Sujet_14\n",
    "## S_14.1\n",
    "\n",
    "Écrire une fonction `min_et_max` qui prend en paramètre un tableau de nombres `tab` non vide, et qui renvoie la plus petite et la plus grande valeur du tableau sous la\n",
    "forme d’un dictionnaire à deux clés `min` et `max`.\n",
    "\n",
    "Les tableaux seront représentés sous forme de liste Python.\n",
    "\n",
    "L’utilisation des fonctions natives `min`, `max` et `sorted`, ainsi que la méthode `sort` n’est pas\n",
    "autorisée."
   ]
  },
  {
   "cell_type": "code",
   "execution_count": 69,
   "id": "f3a47c69",
   "metadata": {},
   "outputs": [
    {
     "data": {
      "text/plain": [
       "{'min': -2, 'max': 9}"
      ]
     },
     "execution_count": 69,
     "metadata": {},
     "output_type": "execute_result"
    }
   ],
   "source": [
    "def min_et_max(a):\n",
    "    mm = {'min': a[0], 'max' : a[0]}\n",
    "    for i in range(len(a)):\n",
    "        if mm['min'] > a[i]:\n",
    "            mm['min'] = a[i]\n",
    "        elif mm['max'] < a[i]:\n",
    "            mm['max'] = a[i]\n",
    "    return mm\n"
   ]
  },
  {
   "cell_type": "markdown",
   "id": "f246fcd5",
   "metadata": {},
   "source": [
    "Exemples :"
   ]
  },
  {
   "cell_type": "code",
   "execution_count": 70,
   "id": "fac1a6a9",
   "metadata": {},
   "outputs": [],
   "source": [
    "assert min_et_max([0, 1, 4, 2, -2, 9, 3, 1, 7, 1])=={'min': -2, 'max': 9}\n",
    "assert min_et_max([0, 1, 2, 3])=={'min': 0, 'max': 3}\n",
    "assert min_et_max([3])=={'min': 3, 'max': 3}\n",
    "assert min_et_max([1, 3, 2, 1, 3])=={'min': 1, 'max': 3}\n",
    "assert min_et_max([-1, -1, -1, -1, -1])=={'min': -1, 'max': -1}"
   ]
  },
  {
   "cell_type": "markdown",
   "id": "79f52b68",
   "metadata": {},
   "source": [
    "## S_14.2\n",
    "\n",
    "On dispose d’une classe `Carte` permettant de créer des objets modélisant des cartes à\n",
    "jouer.\n",
    "\n",
    "Compléter la classe `Paquet_de_cartes` suivante en respectant les spécifications\n",
    "données dans les chaînes de documentation.\n",
    "\n",
    "Ajouter une assertion dans la méthode `recuperer_carte` afin de vérifier que le paramètre `pos`\n",
    "est correct.\n",
    "\n",
    "On rappelle que l’instruction\n",
    "\n",
    "`assert condition, message``\n",
    "\n",
    "permet de vérifier que la condition est vraie. Si ce n’est pas le cas, le programme s’arrête et affiche le message d’erreur fourni."
   ]
  },
  {
   "cell_type": "code",
   "execution_count": 3,
   "id": "2798a644",
   "metadata": {},
   "outputs": [],
   "source": [
    "class Carte:\n",
    "    def __init__(self, c, v):\n",
    "        \"\"\" Initialise les attributs couleur (entre 1 et 4), et valeur (entre 1 et 13). \"\"\"\n",
    "        self.couleur = c\n",
    "        self.valeur = v\n",
    "\n",
    "    def recuperer_valeur(self):\n",
    "        \"\"\" Renvoie la valeur de la carte : As, 2, ..., 10, Valet, Dame, Roi \"\"\"\n",
    "        valeurs = ['As','2', '3', '4', '5', '6', '7', '8', '9', '10', 'Valet', 'Dame', 'Roi']\n",
    "        return valeurs[self.valeur - 1]\n",
    "\n",
    "    def recuperer_couleur(self):\n",
    "        \"\"\" Renvoie la couleur de la carte (parmi pique, coeur, carreau, trèfle). \"\"\"\n",
    "        couleurs = ['pique', 'coeur', 'carreau', 'trèfle']\n",
    "        return couleurs[self.couleur - 1]\n",
    "\n",
    "class Paquet_de_cartes:\n",
    "    def __init__(self):\n",
    "        \"\"\" Initialise l'attribut contenu avec une liste des 52 objets Carte possibles\n",
    "            rangés par valeurs croissantes en commençant par pique, puis coeur,\n",
    "            carreau et tréfle. \"\"\"\n",
    "        self.paquet = [Carte(c,v) for c in range(1,5) for v in range(1,14)]\n",
    "\n",
    "    def recuperer_carte(self, pos):\n",
    "        \"\"\" Renvoie la carte qui se trouve à la position pos (entier compris entre 0 et 51). \"\"\"\n",
    "        assert 0 <= pos <= 51, 'paramètre pos invalide'\n",
    "        return self.paquet[pos]\n",
    "\n"
   ]
  },
  {
   "cell_type": "markdown",
   "id": "c700b58b",
   "metadata": {},
   "source": [
    "Exemple :"
   ]
  },
  {
   "cell_type": "code",
   "execution_count": 7,
   "id": "44f3addd",
   "metadata": {
    "attributes": {
     "classes": [
      "markdown"
     ],
     "id": ""
    }
   },
   "outputs": [],
   "source": [
    "import pytest\n",
    "\n",
    "jeu = Paquet_de_cartes()\n",
    "carte1 = jeu.recuperer_carte(20)\n",
    "assert(f\"{carte1.recuperer_valeur()} de {carte1.recuperer_couleur()}\") == '8 de coeur'\n",
    "carte2 = jeu.recuperer_carte(0)\n",
    "assert(f\"{carte2.recuperer_valeur()} de {carte2.recuperer_couleur()}\") == 'As de pique'\n",
    "\n",
    "def test_assertion():\n",
    "    with pytest.raises(AssertionError):\n",
    "        jeu.recuperer_carte(52)\n",
    "\n"
   ]
  },
  {
   "cell_type": "markdown",
   "id": "9793a240",
   "metadata": {},
   "source": [
    "# Sujet_15\n",
    "## S_15.1\n",
    "\n",
    "Écrire une fonction `moyenne` qui prend en paramètre un tableau non vide de nombres\n",
    "flottants et qui renvoie la moyenne des valeurs du tableau. Les tableaux seront\n",
    "représentés sous forme de liste Python."
   ]
  },
  {
   "cell_type": "code",
   "execution_count": 11,
   "id": "e4e8726f",
   "metadata": {},
   "outputs": [],
   "source": [
    "def moyenne(a): \n",
    "    return sum(a)/len(a)\n"
   ]
  },
  {
   "cell_type": "markdown",
   "id": "19d058f2",
   "metadata": {},
   "source": [
    "Exemples :"
   ]
  },
  {
   "cell_type": "code",
   "execution_count": 12,
   "id": "123acee0",
   "metadata": {},
   "outputs": [],
   "source": [
    "assert moyenne([1.0])==1.0\n",
    "assert moyenne([1.0, 2.0, 4.0])==2.3333333333333335"
   ]
  },
  {
   "cell_type": "markdown",
   "id": "50186f72",
   "metadata": {},
   "source": [
    "## S_15.2\n",
    "\n",
    "On considère la fonction `binaire`.\n",
    "Cette fonction prend en paramètre un entier positif `a` en\n",
    "écriture décimale et renvoie son écriture binaire sous la forme d’une chaine de caractères.\n",
    "\n",
    "L’algorithme utilise la méthode des divisions euclidiennes successives comme l’illustre\n",
    "l’exemple ci-après.\n",
    "\n",
    "![alt text](images/image-3.png)\n",
    "\n",
    "Compléter le code de la fonction `binaire`."
   ]
  },
  {
   "cell_type": "code",
   "execution_count": 34,
   "id": "76e88afa",
   "metadata": {},
   "outputs": [],
   "source": [
    "def binaire(a):\n",
    "    '''convertit un nombre entier a en sa representation\n",
    "    binaire sous forme de chaine de caractères.'''\n",
    "    if a == 0:\n",
    "        return '0'\n",
    "    bin_a = ''\n",
    "    while a != 0 :\n",
    "        bin_a =  str(a%2) + bin_a\n",
    "        a = a //2\n",
    "    return bin_a\n"
   ]
  },
  {
   "cell_type": "markdown",
   "id": "52f594c4",
   "metadata": {},
   "source": [
    "Exemples :"
   ]
  },
  {
   "cell_type": "code",
   "execution_count": 33,
   "id": "60003b28",
   "metadata": {},
   "outputs": [],
   "source": [
    "assert binaire(83)=='1010011'\n",
    "assert binaire(127)=='1111111'\n",
    "assert binaire(0)=='0'"
   ]
  },
  {
   "cell_type": "markdown",
   "id": "de714e22",
   "metadata": {},
   "source": [
    "# Sujet_16\n",
    "## S_16.1\n",
    "\n",
    "Écrire une fonction `ecriture_binaire_entier_positif` qui prend en paramètre un\n",
    "entier positif `n` et renvoie une une chaine de caractère correspondant à l‘écriture binaire de `n`.\n",
    "\n",
    "On rappelle que :\n",
    "\n",
    "- l’écriture binaire de 25 est 11001 car $25 = 1 \\times 2^4 + 1 \\times 2^3 + 0 \\times 2^2 + 0 \\times 2^1 + 1 \\times 2^0$ ;\n",
    "- `n % 2` vaut 0 ou 1 selon que `n` est pair ou impair ;\n",
    "- `n // 2`  donne le quotient de la division euclidienne de `n` par 2.\n",
    "\n",
    "Il est interdit dans cet exercice d’utiliser la fonction `bin` de Python."
   ]
  },
  {
   "cell_type": "code",
   "execution_count": 36,
   "id": "3bdd2875",
   "metadata": {},
   "outputs": [],
   "source": [
    "def ecriture_binaire_entier_positif(a):\n",
    "    if a == 0:\n",
    "        return '0'\n",
    "    bin_a = ''\n",
    "    while a != 0:\n",
    "        bin_a = str(a % 2) +bin_a\n",
    "        a = a // 2\n",
    "    return bin_a"
   ]
  },
  {
   "cell_type": "markdown",
   "id": "566444a2",
   "metadata": {},
   "source": [
    "Exemples :"
   ]
  },
  {
   "cell_type": "code",
   "execution_count": 37,
   "id": "1cffa972",
   "metadata": {},
   "outputs": [],
   "source": [
    "assert 5 % 2==1\n",
    "assert 5 // 2==2\n",
    "assert ecriture_binaire_entier_positif(0)=='0'\n",
    "assert ecriture_binaire_entier_positif(2)=='10'\n",
    "assert ecriture_binaire_entier_positif(105)=='1101001'"
   ]
  },
  {
   "cell_type": "markdown",
   "id": "2d8cabc1",
   "metadata": {},
   "source": [
    "## S_16.2\n",
    "\n",
    "La fonction `tri_bulles` prend en paramètre une liste `tab` d’entiers (type `list`) et le modifie pour le trier par ordre croissant.\n",
    "\n",
    "\n",
    "Le tri à bulles est un tri en place qui commence par placer le plus grand élément en\n",
    "dernière position en parcourant le tableau de gauche à droite et en échangeant au passage\n",
    "les éléments voisins mal ordonnés (si la valeur de l’élément d’indice `i` a une valeur\n",
    "strictement supérieure à celle de l’indice `i + 1`, ils sont échangés). Le tri place ensuite\n",
    "en avant-dernière position le plus grand élément du tableau privé de son dernier élément\n",
    "en procédant encore à des échanges d’éléments voisins. Ce principe est répété jusqu’à\n",
    "placer le minimum en première position.\n",
    "\n",
    "\n",
    "Exemple : pour trier le tableau `[7, 9, 4, 3]` :\n",
    "\n",
    "- première étape : 7 et 9 ne sont pas échangés, puis 9 et 4 sont échangés, puis 9 et\n",
    "3 sont échangés, le tableau est alors `[7, 4, 3, 9]`\n",
    "- deuxième étape : 7 et 4 sont échangés, puis 7 et 3 sont échangés, le tableau est\n",
    "alors `[4, 3, 7, 9]`\n",
    "- troisième étape : 4 et 3 sont échangés, le tableau est alors `[3, 4, 7, 9]`\n",
    "\n",
    "\n",
    "Compléter le code Python ci-dessous qui implémente la fonction tri_bulles."
   ]
  },
  {
   "cell_type": "code",
   "execution_count": 43,
   "id": "481d17b0",
   "metadata": {},
   "outputs": [],
   "source": [
    "def echange(tab, i, j):\n",
    "    '''Echange les éléments d'indice i et j dans le tableau tab.'''\n",
    "    temp = tab[i] \n",
    "    tab[i] = tab[j] \n",
    "    tab[j] = temp\n",
    "\n",
    "def tri_bulles(tab):\n",
    "    '''Trie le tableau tab dans l'ordre croissant\n",
    "    par la méthode du tri à bulles.'''\n",
    "    n = len(tab)\n",
    "    for i in range(n): \n",
    "        for j in range(i+1, n): \n",
    "            if tab[i] > tab[j]: \n",
    "                echange(tab, j,i)\n",
    "    return tab\n"
   ]
  },
  {
   "cell_type": "markdown",
   "id": "d7b323bf",
   "metadata": {},
   "source": [
    "Exemples :"
   ]
  },
  {
   "cell_type": "code",
   "execution_count": 41,
   "id": "1ffb8191",
   "metadata": {},
   "outputs": [],
   "source": [
    "assert tri_bulles([])==[]\n",
    "assert tri_bulles([9, 3, 7, 2, 3, 1, 6])==[1, 2, 3, 3, 6, 7, 9]\n",
    "assert tri_bulles([9, 7, 4, 3])==[3, 4, 7, 9]"
   ]
  },
  {
   "cell_type": "markdown",
   "id": "994d37ce",
   "metadata": {},
   "source": [
    "# Sujet_17\n",
    "## S_17.1\n",
    "\n",
    "Écrire une fonction Python appelée `nb_repetitions` qui prend en paramètres un\n",
    "élément `elt` et un tableau `tab` (type `list`) et renvoie le nombre de fois où l’élément apparaît dans le tableau."
   ]
  },
  {
   "cell_type": "code",
   "execution_count": 63,
   "id": "ec8599cc",
   "metadata": {},
   "outputs": [],
   "source": [
    "def nb_repetitions(elt,tab):\n",
    "    return tab.count(elt)\n",
    "def nb_repetitions(elt,tab):\n",
    "    count = 0\n",
    "    for i in range(len(tab)):\n",
    "        if tab[i] == elt:\n",
    "            count += 1\n",
    "    return count\n"
   ]
  },
  {
   "cell_type": "markdown",
   "id": "5c5d15cb",
   "metadata": {},
   "source": [
    "Exemples :"
   ]
  },
  {
   "cell_type": "code",
   "execution_count": 62,
   "id": "de8bb49a",
   "metadata": {},
   "outputs": [],
   "source": [
    "assert nb_repetitions(5, [2, 5, 3, 5, 6, 9, 5])==3\n",
    "assert nb_repetitions('A', ['B', 'A', 'B', 'A', 'R'])==2\n",
    "assert nb_repetitions(12, [1, 3, 7, 21, 36, 44])==0"
   ]
  },
  {
   "cell_type": "markdown",
   "id": "ff40415f",
   "metadata": {},
   "source": [
    "## S_17.2\n",
    "\n",
    "Pour rappel, la conversion d’un nombre entier positif en binaire peut s’effectuer à l’aide\n",
    "des divisions successives comme illustré ici :\n",
    "\n",
    "![alt text](images/image-4.png)\n",
    "\n",
    "Voici une fonction Python basée sur la méthode des divisions successives permettant de\n",
    "convertir un nombre entier positif en binaire :\n",
    "\n",
    "Compléter la fonction ```binaire```"
   ]
  },
  {
   "cell_type": "code",
   "execution_count": 64,
   "id": "58c56b9a",
   "metadata": {},
   "outputs": [],
   "source": [
    "def binaire(a):\n",
    "    '''convertit un nombre entier a en sa representation \n",
    "    binaire sous forme de chaine de caractères.'''\n",
    "    if a == 0:\n",
    "        return '0'\n",
    "    bin_a = '' \n",
    "    while a != 0: \n",
    "        bin_a = str(a % 2) + bin_a \n",
    "        a = a // 2\n",
    "    return bin_a"
   ]
  },
  {
   "cell_type": "markdown",
   "id": "cfc58dd8",
   "metadata": {},
   "source": [
    "Exemples :"
   ]
  },
  {
   "cell_type": "code",
   "execution_count": 65,
   "id": "ebb3ec50",
   "metadata": {},
   "outputs": [],
   "source": [
    "assert binaire(0)=='0'\n",
    "assert binaire(77)=='1001101'"
   ]
  },
  {
   "cell_type": "markdown",
   "id": "aba90a52",
   "metadata": {},
   "source": [
    "# Sujet_18\n",
    "## S_18.1\n",
    "\n",
    "Programmer la fonction `multiplication`, prenant en paramètres deux nombres entiers relatifs\n",
    "`n1` et `n2`, et qui renvoie le produit de ces deux nombres.\n",
    "\n",
    "Les seules opérations arithmétiques autorisées sont l’addition et la soustraction."
   ]
  },
  {
   "cell_type": "code",
   "execution_count": 71,
   "id": "ad0de206",
   "metadata": {},
   "outputs": [
    {
     "data": {
      "text/plain": [
       "-15"
      ]
     },
     "execution_count": 71,
     "metadata": {},
     "output_type": "execute_result"
    }
   ],
   "source": [
    "def multiplication(a,b):\n",
    "    tot = 0\n",
    "    if b < 0 and a < 0:\n",
    "        b = abs(b)\n",
    "        a = abs(a)\n",
    "    for i in range(b):\n",
    "        tot = tot + a\n",
    "    return tot \n"
   ]
  },
  {
   "cell_type": "markdown",
   "id": "4c017a03",
   "metadata": {},
   "source": [
    "Exemples :"
   ]
  },
  {
   "cell_type": "code",
   "execution_count": 72,
   "id": "12d7f41d",
   "metadata": {},
   "outputs": [],
   "source": [
    "assert multiplication(3,5)==15\n",
    "assert multiplication(-4,-8)==32\n",
    "assert multiplication(-2,6)==-12\n",
    "assert multiplication(-2,0)==0"
   ]
  },
  {
   "cell_type": "markdown",
   "id": "82c0e3f5",
   "metadata": {},
   "source": [
    "## S_18.2\n",
    "\n",
    "Soit `tab` un tableau non vide d'entiers triés dans l'ordre croissant et `n` un entier.\n",
    "\n",
    "La fonction `chercher` ci-dessous doit renvoyer un indice où la valeur `n`\n",
    "apparaît dans `tab` si cette valeur y figure et `None` sinon. \n",
    "\n",
    "Les paramètres de la fonction sont :\n",
    "\n",
    "- `tab`, le tableau dans lequel s'effectue la recherche ;\n",
    "- `x`, l'entier à chercher dans le tableau ;\n",
    "- `i`, l'indice de début de la partie du tableau où s'effectue la recherche ;\n",
    "- `j`, l'indice de fin de la partie du tableau où s'effectue la recherche.\n",
    "\n",
    "L’algorithme demandé est une recherche dichotomique récursive.\n",
    "\n",
    "Recopier et compléter le code de la fonction `chercher` suivante :"
   ]
  },
  {
   "cell_type": "code",
   "execution_count": 82,
   "id": "db3d27c8",
   "metadata": {
    "attributes": {
     "classes": [],
     "id": "",
     "linenums": "'1'"
    }
   },
   "outputs": [
    {
     "data": {
      "text/plain": [
       "4"
      ]
     },
     "execution_count": 82,
     "metadata": {},
     "output_type": "execute_result"
    }
   ],
   "source": [
    "def chercher(tab, x, i, j):\n",
    "    '''Renvoie l'indice de x dans tab, si x est dans tab, \n",
    "    None sinon.\n",
    "    On suppose que tab est trié dans l'ordre croissant.'''\n",
    "    if i > j:\n",
    "        return None\n",
    "    m = (i + j) // 2 \n",
    "    if tab[m] < x: \n",
    "        return chercher(tab, x, m , j) \n",
    "    elif tab[m] > x:\n",
    "        return chercher(tab, x, j , m) \n",
    "    else:\n",
    "        return m\n"
   ]
  },
  {
   "cell_type": "markdown",
   "id": "c5d1a84f",
   "metadata": {},
   "source": [
    "Exemples :"
   ]
  },
  {
   "cell_type": "code",
   "execution_count": 83,
   "id": "583a344f",
   "metadata": {},
   "outputs": [],
   "source": [
    "assert chercher([1, 5, 6, 6, 9, 12], 7, 0, 10)==None\n",
    "assert chercher([1, 5, 6, 6, 9, 12], 7, 0, 5)==None\n",
    "assert chercher([1, 5, 6, 6, 9, 12], 9, 0, 5)==4\n",
    "assert chercher([1, 5, 6, 6, 9, 12], 6, 0, 5)==2"
   ]
  },
  {
   "cell_type": "markdown",
   "id": "23db1f27",
   "metadata": {},
   "source": [
    "# Sujet_19\n",
    "## S_19.1\n",
    "\n",
    "On rappelle que :\n",
    "\n",
    "- le nombre $a^n$ est le nombre $a \\times a \\times a \\times \\dots \\times a$, où le facteur $a$ apparaît $n$ fois,\n",
    "- en langage Python, l’instruction `t[-1]` permet d’accéder au dernier élément du\n",
    "tableau `t`.\n",
    "\n",
    "Dans cet exercice, l’opérateur ```**```  et la fonction `pow` ne sont pas autorisés.\n",
    "\n",
    "Programmer en langage Python une fonction `liste_puissances` qui prend en arguments\n",
    "un nombre entier `a`, un entier strictement positif `n` et qui renvoie la liste de ses puissances\n",
    "$\\rm{[a^1, a^2, ..., a^n]}$.\n",
    "\n",
    "Programmer également une fonction `liste_puisssances_borne` qui prend en\n",
    "arguments un nombre entier `a` supérieur ou égal à 2 et un entier `borne`, et qui renvoie la\n",
    "liste de ses puissances, à l’exclusion de $\\rm{a^0}$, strictement inférieures à `borne`."
   ]
  },
  {
   "cell_type": "code",
   "execution_count": 110,
   "id": "91cd2be9",
   "metadata": {},
   "outputs": [
    {
     "data": {
      "text/plain": [
       "[2, 4, 8, 16]"
      ]
     },
     "execution_count": 110,
     "metadata": {},
     "output_type": "execute_result"
    }
   ],
   "source": [
    "def liste_puissances(a, b):\n",
    "    lst = []\n",
    "    power = 1\n",
    "    for _ in range(1,b+1):\n",
    "        power *= a\n",
    "        lst.append(power)\n",
    "    return lst\n",
    "\n",
    "def liste_puissances_borne(a,b):\n",
    "    lst =[]\n",
    "    power = 1\n",
    "    for i in range(1,b):\n",
    "        power *= a\n",
    "        if power < b:\n",
    "            lst.append(power)\n",
    "    return lst"
   ]
  },
  {
   "cell_type": "markdown",
   "id": "5db45ea0",
   "metadata": {},
   "source": [
    "Exemples :"
   ]
  },
  {
   "cell_type": "code",
   "execution_count": 111,
   "id": "6cf27e82",
   "metadata": {},
   "outputs": [],
   "source": [
    "assert liste_puissances(3, 5)==[3, 9, 27, 81, 243]\n",
    "assert liste_puissances(-2, 4)==[-2, 4, -8, 16]\n",
    "assert liste_puissances_borne(2, 16)==[2, 4, 8]\n",
    "assert liste_puissances_borne(2, 17)==[2, 4, 8, 16]\n",
    "assert liste_puissances_borne(5, 5)==[]"
   ]
  },
  {
   "cell_type": "markdown",
   "id": "272da658",
   "metadata": {},
   "source": [
    "## S_19.2\n",
    "\n",
    "On affecte à chaque lettre de l'alphabet un code selon le tableau ci-dessous :\n",
    "\n",
    "| A | B | C | D | E | F | G | H | I | J | K | L | M |\n",
    "|:-:|:-:|:-:|:-:|:-:|:-:|:-:|:-:|:-:|:-:|:-:|:-:|:-:|\n",
    "| 1 | 2 | 3 | 4 | 5 | 6 | 7 | 8 | 9 | 10 | 11 | 12 | 13 |\n",
    "\n",
    "\n",
    "| N | O | P | Q | R | S | T | U | V | W | X | Y | Z | \n",
    "|:-:|:-:|:-:|:-:|:-:|:-:|:-:|:-:|:-:|:-:|:-:|:-:|:-:|\n",
    "| 14 | 15 | 16 | 17 | 18 | 19 | 20 | 21 | 22 | 23 | 24 | 25 | 26 | \n",
    "\n",
    "Cette table de correspondance est stockée dans un dictionnaire `dico` où les clés sont les\n",
    "lettres de l’alphabet et les valeurs les codes correspondants."
   ]
  },
  {
   "cell_type": "code",
   "execution_count": 121,
   "id": "7649a0dd",
   "metadata": {},
   "outputs": [],
   "source": [
    "dico = {\"A\": 1, \"B\": 2, \"C\": 3, \"D\": 4, \"E\": 5, \"F\": 6,\n",
    "        \"G\": 7, \"H\": 8, \"I\": 9, \"J\": 10, \"K\": 11, \"L\": 12,\n",
    "        \"M\": 13, \"N\": 14, \"O\": 15, \"P\": 16, \"Q\": 17,\n",
    "        \"R\": 18, \"S\": 19, \"T\": 20, \"U\": 21, \"V\": 22,\n",
    "        \"W\": 23, \"X\": 24, \"Y\": 25, \"Z\": 26}\n",
    "\n"
   ]
  },
  {
   "cell_type": "markdown",
   "id": "48d1de44",
   "metadata": {},
   "source": [
    "Pour un mot donné, on détermine d’une part son code alphabétique concaténé, obtenu par la juxtaposition des codes de chacun de ses caractères, et d’autre part, son code additionné, qui est la somme des codes de chacun de ses caractères.\n",
    "\n",
    "Par ailleurs, on dit que ce mot est « parfait » si le code additionné divise le code concaténé.\n",
    "\n",
    "Exemples :\n",
    "\n",
    "- Pour le mot \"PAUL\", le code concaténé est la chaîne '1612112', soit l’entier 1 612 112. Son code additionné est l’entier 50 car 16 + 1 + 21 + 12 = 50. 50 ne divise pas l’entier 1 612 112 ; par conséquent, le mot \"PAUL\" n’est pas parfait.\n",
    "\n",
    "- Pour le mot \"ALAIN\", le code concaténé est la chaîne '1121914', soit l’entier 1 121 914. Le code additionné est l’entier 37 car 1 + 12 + 1 + 9 + 14 = 37. 37 divise l’entier 1 121 914 ; par conséquent, le mot \"ALAIN\" est parfait.\n",
    "\n",
    "Compléter la fonction codes_parfait située à la page suivante et qui prend en paramètre un mot en majuscule et renvoie un triplet constitué du code additionné, du code concaténé et d’un booléen indiquant si le mot est parfait ou non.\n",
    "\n",
    "On rappelle que pour tester si un entier a divise un entier b, on utilise l’opérateur modulo b % a qui renvoie le reste de la division euclidienne de b par a. Sib % a vaut 0, alors a divise b."
   ]
  },
  {
   "cell_type": "code",
   "execution_count": 129,
   "id": "32028b4c",
   "metadata": {},
   "outputs": [],
   "source": [
    "def codes_parfait(mot):\n",
    "    \"\"\"Renvoie un triplet \n",
    "    (code_additionne, code_concatene, mot_est_parfait) où :\n",
    "    - code_additionne est la somme des codes des lettres du mot ;\n",
    "    - code_concatene est le code des lettres du mot concaténées ;\n",
    "    - mot_est_parfait est un booléen indiquant si le mot est parfait.\"\"\"\n",
    "    code_concatene = \"\"\n",
    "    code_additionne = 0\n",
    "    for c in mot:\n",
    "        code_concatene = code_concatene + str(dico[c])\n",
    "        code_additionne = code_additionne + dico[c] \n",
    "    code_concatene = int(code_concatene)\n",
    "    mot_est_parfait = (code_concatene/code_additionne) == (code_concatene // code_additionne) \n",
    "    return code_additionne, code_concatene, mot_est_parfait\n"
   ]
  },
  {
   "cell_type": "markdown",
   "id": "4cb0d623",
   "metadata": {},
   "source": [
    "Exemples :"
   ]
  },
  {
   "cell_type": "code",
   "execution_count": 128,
   "id": "dae3e1b9",
   "metadata": {},
   "outputs": [],
   "source": [
    "dico = {\"A\": 1, \"B\": 2, \"C\": 3, \"D\": 4, \"E\": 5, \"F\": 6,\n",
    "        \"G\": 7, \"H\": 8, \"I\": 9, \"J\": 10, \"K\": 11, \"L\": 12,\n",
    "        \"M\": 13, \"N\": 14, \"O\": 15, \"P\": 16, \"Q\": 17,\n",
    "        \"R\": 18, \"S\": 19, \"T\": 20, \"U\": 21, \"V\": 22,\n",
    "        \"W\": 23, \"X\": 24, \"Y\": 25, \"Z\": 26}\n",
    "assert codes_parfait(\"PAUL\")==(50, 1612112, False)\n",
    "assert codes_parfait(\"ALAIN\")==(37, 1121914, True)"
   ]
  },
  {
   "cell_type": "markdown",
   "id": "2599e372",
   "metadata": {},
   "source": [
    "# Sujet_20\n",
    "## S_20.1\n",
    "\n",
    "Dans cet exercice les tableaux sont représentés par des listes Python (type `list`).\n",
    "\n",
    "Écrire en python deux fonctions :\n",
    "\n",
    "- `lancer` de paramètre `n`, un entier positif, qui renvoie un tableau de `n` entiers obtenus aléatoirement entre 1 et 6 (1 et 6 inclus) ;\n",
    "- `paire_6` de paramètre `tab`, un tableau de n entiers compris entre 1 et 6 et qui renvoie un booléen égal à `True` si le nombre de 6 est supérieur ou égal à 2, `False` sinon.\n",
    "\n",
    "On pourra utiliser la fonction `randint(a,b)` du module `random` pour laquelle la documentation officielle est la suivante :\n",
    "\n",
    "`random.randint(a, b)`\n",
    "\n",
    "`      Renvoie un entier aléatoire N tel que a <=N <= b.`"
   ]
  },
  {
   "cell_type": "code",
   "execution_count": 19,
   "id": "06eacbb2",
   "metadata": {},
   "outputs": [],
   "source": [
    "from random import randint\n",
    "\n",
    "def lancer(n):\n",
    "    tab = []\n",
    "    for i in range(n):\n",
    "        tab.append(randint(1,6))\n",
    "    return tab\n",
    "\n",
    "\n",
    "def paire_6(tab):\n",
    "    return tab.count(6) >= 2\n",
    "\n",
    "def pair_6_bis(tab):\n",
    "    if len(tab) == 0:\n",
    "        return 0\n",
    "    return tab.count(6) >= tab.count(2)"
   ]
  },
  {
   "cell_type": "code",
   "execution_count": 17,
   "id": "3b598d54",
   "metadata": {},
   "outputs": [],
   "source": [
    "\n",
    "assert len(lancer(5)) == 5\n",
    "assert len(lancer(3)) == 3\n",
    "assert len(lancer(0)) == 0\n",
    "\n",
    "assert paire_6([5, 6, 6, 2, 2]) == True\n",
    "assert paire_6([6, 5, 1, 6, 6]) == True\n",
    "assert paire_6([2, 2, 6]) == False"
   ]
  },
  {
   "cell_type": "markdown",
   "id": "82bb82a2",
   "metadata": {},
   "source": [
    "Exemples :\n",
    "\n",
    "`>>>> lancer1 = lancer(5)`  \n",
    "`[5, 6, 6, 2, 2]`  \n",
    "`>>>> paire_6(lancer1)`  \n",
    "`True`  \n",
    "`>>>>lancer2 = lancer(5)`\n",
    "`[6, 5, 1, 6, 6]`   \n",
    "`>>>> paire_6(lancer2)`   \n",
    "`True`   \n",
    "`>>>> lancer3 = lancer(3)`   \n",
    "`[2, 2, 6]`  \n",
    "`>>>> paire_6(lancer3)`  \n",
    "`False`  \n",
    "`>>>> lancer4 = lancer(0)`  \n",
    "`[]`  \n",
    "`>>>> paire_6(lancer4)`  \n",
    "`False`\n",
    "\n",
    "## S_20.2\n",
    "\n",
    "On considère une image en 256 niveaux de gris que l’on représente par une grille de\n",
    "nombres, c’est-à-dire une liste composée de sous-listes toutes de longueurs identiques.\n",
    "\n",
    "\n",
    "La largeur de l’image est donc la longueur d’une sous-liste et la hauteur de l’image est le\n",
    "nombre de sous-listes.\n",
    "\n",
    "\n",
    "Chaque sous-liste représente une ligne de l’image et chaque élément des sous-listes est\n",
    "un entier compris entre 0 et 255, représentant l’intensité lumineuse du pixel.\n",
    "\n",
    "\n",
    "Le négatif d’une image est l’image constituée des pixels `x_n` tels que `x_n + x_i = 255` où `x_i` est le pixel correspondant de l’image initiale.\n",
    "\n",
    "Compléter le programme suivant :"
   ]
  },
  {
   "cell_type": "code",
   "execution_count": 10,
   "id": "443ea85a",
   "metadata": {},
   "outputs": [],
   "source": [
    "def nombre_lignes(image):\n",
    "    '''renvoie le nombre de lignes de l'image'''\n",
    "    return len(image) \n",
    "\n",
    "def nombre_colonnes(image):\n",
    "    '''renvoie la largeur de l'image'''\n",
    "    return len(image[0]) \n",
    "\n",
    "def negatif(image):\n",
    "    '''renvoie le negatif de l'image sous la forme\n",
    "       d'une liste de listes'''\n",
    "    # on cree une image de 0 aux memes dimensions \n",
    "    # que le parametre image\n",
    "    nouvelle_image = [[0 for k in range(nombre_colonnes(image))]\n",
    "         for i in range(nombre_lignes(image))]\n",
    "\n",
    "    for i in range(nombre_lignes(image)):\n",
    "        for j in range(nombre_colonnes(image)): \n",
    "            nouvelle_image[i][j] = 255 - image[i][j] \n",
    "    return nouvelle_image\n",
    "\n",
    "def binaire(image, seuil):\n",
    "    '''renvoie une image binarisee de l'image sous la forme\n",
    "       d'une liste de listes contenant des 0 si la valeur\n",
    "       du pixel est strictement inferieure au seuil et 1 sinon'''\n",
    "    nouvelle_image = [[0] * nombre_colonnes(image)\n",
    "                      for i in range(nombre_lignes(image))]\n",
    "\n",
    "    for i in range(nombre_lignes(image)):\n",
    "        for j in range(nombre_colonnes(image)): \n",
    "            if image[i][j] < seuil: \n",
    "                nouvelle_image[i][j] = 0\n",
    "            else:\n",
    "                nouvelle_image[i][j] = 1\n",
    "    return nouvelle_image"
   ]
  },
  {
   "cell_type": "markdown",
   "id": "988114e6",
   "metadata": {},
   "source": [
    "Exemples :"
   ]
  },
  {
   "cell_type": "code",
   "execution_count": 11,
   "id": "ab9ac0e0",
   "metadata": {},
   "outputs": [],
   "source": [
    "img=[[20, 34, 254, 145, 6], [23, 124, 237, 225, 69],[197, 174, 207, 25, 87], [255, 0, 24, 197, 189]]\n",
    "assert nombre_lignes(img)==4\n",
    "assert nombre_colonnes(img)==5\n",
    "assert negatif(img)==[[235, 221, 1, 110, 249], [232, 131, 18, 30, 186],[58, 81, 48, 230, 168], [0, 255, 231, 58, 66]]\n",
    "assert binaire(img,120)==[[0, 0, 1, 1, 0],[0, 1, 1, 1, 0],[1, 1, 1, 0, 0],[1, 0, 0, 1, 1]]"
   ]
  },
  {
   "cell_type": "markdown",
   "id": "de616964",
   "metadata": {},
   "source": [
    "# Sujet_21\n",
    "## S_21.1\n",
    "\n",
    "Écrire une fonction `recherche_motif` qui prend en paramètre une chaîne de caractères\n",
    "`motif` non vide et une chaîne de caractères `texte` et qui renvoie la liste des positions de\n",
    "`motif` dans `texte`. Si `motif` n’apparaît pas, la fonction renvoie une liste vide."
   ]
  },
  {
   "cell_type": "code",
   "execution_count": 30,
   "id": "3574df2e",
   "metadata": {},
   "outputs": [],
   "source": [
    "def recherche_motif(a, b):\n",
    "    mot_sep = [b[l] for l in range(len(b))]\n",
    "    indx = []\n",
    "    for i in range(len(mot_sep)):\n",
    "        if a[0] == mot_sep[i]:\n",
    "            count = 0\n",
    "            for k in range(1, len(a)):\n",
    "                if(i+k) <= (len(mot_sep) - 1) and mot_sep[i+k] == a[k]:\n",
    "                    count += 1\n",
    "            if count == len(a) - 1:\n",
    "                indx.append(i)\n",
    "    return indx\n"
   ]
  },
  {
   "cell_type": "markdown",
   "id": "a5c77eaf",
   "metadata": {},
   "source": [
    "Exemples:"
   ]
  },
  {
   "cell_type": "code",
   "execution_count": 31,
   "id": "a31ffde1",
   "metadata": {},
   "outputs": [],
   "source": [
    "assert recherche_motif(\"ab\", \"\")==[]\n",
    "assert recherche_motif(\"ab\", \"cdcdcdcd\")==[]\n",
    "assert recherche_motif(\"ab\", \"abracadabra\")==[0, 7]\n",
    "assert recherche_motif(\"ab\", \"abracadabraab\")==[0, 7, 11]"
   ]
  },
  {
   "cell_type": "markdown",
   "id": "597c5e24",
   "metadata": {},
   "source": [
    "## S_21.2\n",
    "\n",
    "Dans cet exercice, on considère un graphe non orienté représenté sous forme de listes\n",
    "d’adjacence. On suppose que les sommets sont numérotés de 0 à n-1.\n",
    "\n",
    "Ainsi, le graphe suivant:\n",
    "\n",
    "![alt text](images/image-5.png)\n",
    "\n",
    "sera représenté par la liste d’adjacence suivante:\n",
    "\n",
    "`adj = [[1, 2], [0, 3], [0], [1], [5], [4]]`\n",
    "\n",
    "On souhaite déterminer les sommets accessibles depuis un sommet donné dans le graphe.\n",
    "Pour cela, on va procéder à un parcours en profondeur du graphe.\n",
    "\n",
    "Compléter la fonction suivante."
   ]
  },
  {
   "cell_type": "code",
   "execution_count": 38,
   "id": "ef2234d7",
   "metadata": {},
   "outputs": [
    {
     "name": "stdout",
     "output_type": "stream",
     "text": [
      "[0, 1, 2, 3]\n"
     ]
    }
   ],
   "source": [
    "def parcours(adj, x, acc):\n",
    "    '''Réalise un parcours en profondeur récursif\n",
    "    du graphe donné par les listes d'adjacence adj \n",
    "    depuis le sommet x en accumulant les sommets\n",
    "    rencontrés dans acc'''\n",
    "    if x not in acc : \n",
    "        acc.append(x)\n",
    "        for y in adj[x]: \n",
    "            parcours(adj, y, acc) \n",
    "\n",
    "def accessibles(adj, x):\n",
    "    '''Renvoie la liste des sommets accessibles dans le\n",
    "    graphe donné par les listes d'adjacence adj depuis\n",
    "    le sommet x.'''\n",
    "    acc = []\n",
    "    parcours(adj, x,acc) \n",
    "    return acc\n",
    "\n",
    "print(accessibles([[1, 2], [0], [0, 3], [1], [5], [4]], 0))"
   ]
  },
  {
   "cell_type": "markdown",
   "id": "9fd8e05d",
   "metadata": {},
   "source": [
    "Exemples :"
   ]
  },
  {
   "cell_type": "code",
   "execution_count": null,
   "id": "2ffccbc8",
   "metadata": {},
   "outputs": [],
   "source": [
    "assert accessibles([[1, 2], [0], [0, 3], [1], [5], [4]], 0)==[0, 1, 2, 3]\n",
    "assert accessibles([[1, 2], [0], [0, 3], [1], [5], [4]], 4)==[4, 5]"
   ]
  },
  {
   "cell_type": "markdown",
   "id": "c104b91f",
   "metadata": {},
   "source": [
    "# Sujet_22\n",
    "## S_22.1\n",
    "\n",
    "Écrire une fonction `recherche_indices_classement` qui prend en paramètres un\n",
    "entier `elt` et un tableau d’entiers `tab`, et qui renvoie trois listes :\n",
    "\n",
    "- la première liste contient les indices des valeurs du tableau `tab` strictement inférieures à `elt` ;\n",
    "- la deuxième liste contient les indices des valeurs du tableau `tab` égales à `elt` ;\n",
    "- la troisième liste contient les indices des valeurs du tableau `tab` strictement supérieures à `elt`."
   ]
  },
  {
   "cell_type": "code",
   "execution_count": 1,
   "id": "f57643d2",
   "metadata": {},
   "outputs": [],
   "source": [
    "def recherche_indices_classement(a,b):\n",
    "    sup = []\n",
    "    egale = []\n",
    "    inf = []\n",
    "    for i,v in enumerate(b):\n",
    "        if v < a:\n",
    "            inf.append(i)\n",
    "        elif v == a:\n",
    "            egale.append(i)\n",
    "        else:\n",
    "            sup.append(i)\n",
    "    return inf, egale, sup\n",
    "        "
   ]
  },
  {
   "cell_type": "markdown",
   "id": "3fa984ff",
   "metadata": {},
   "source": [
    "Exemples :"
   ]
  },
  {
   "cell_type": "code",
   "execution_count": 2,
   "id": "0a8131b4",
   "metadata": {},
   "outputs": [],
   "source": [
    "assert recherche_indices_classement(3, [1, 3, 4, 2, 4, 6, 3, 0])==([0, 3, 7], [1, 6], [2, 4, 5])\n",
    "assert recherche_indices_classement(3, [1, 4, 2, 4, 6, 0])==([0, 2, 5], [], [1, 3, 4])\n",
    "assert recherche_indices_classement(3, [1, 1, 1, 1])==([0, 1, 2, 3], [], [])\n",
    "assert recherche_indices_classement(3, [])==([], [], [])"
   ]
  },
  {
   "cell_type": "markdown",
   "id": "5b8885c3",
   "metadata": {},
   "source": [
    "## S_22.2\n",
    "\n",
    "Une professeure de NSI décide de gérer les résultats de sa classe sous la forme d’un\n",
    "dictionnaire :\n",
    "\n",
    "- les clefs sont les noms des élèves ;\n",
    "- les valeurs sont des dictionnaires dont les clefs sont les types d’épreuves sous forme de chaîne de caractères et les valeurs sont les notes obtenues associées à leurs coefficients dans une liste.\n",
    "\n",
    "Avec :"
   ]
  },
  {
   "cell_type": "code",
   "execution_count": null,
   "id": "04723c0b",
   "metadata": {},
   "outputs": [],
   "source": [
    "resultats = {'Dupont': {\n",
    "                        'DS1': [15.5, 4],\n",
    "                        'DM1': [14.5, 1],\n",
    "                        'DS2': [13, 4],\n",
    "                        'PROJET1': [16, 3],\n",
    "                        'DS3': [14, 4]\n",
    "                    },\n",
    "            'Durand': {\n",
    "                        'DS1': [6 , 4],\n",
    "                        'DS2': [8, 4],\n",
    "                        'PROJET1': [9, 3],\n",
    "                        'IE1': [7, 2],\n",
    "                        'DS3': [12, 4]\n",
    "                    }\n",
    "            }"
   ]
  },
  {
   "cell_type": "markdown",
   "id": "7d0de9a1",
   "metadata": {},
   "source": [
    "L’élève dont le nom est Durand a ainsi obtenu au DS2 la note de 8 avec un coefficient 4.\n",
    "\n",
    "Le professeur crée une fonction moyenne qui prend en paramètre le nom d’un de ses élèves et renvoie sa moyenne arrondie au dixième. Si l’élève n’a pas de notes, on considère que sa moyenne est nulle. Si le nom donné n’est pas dans les résultats, la fonction renvoie None.\n",
    "\n",
    "Compléter le code de la professeure ci-dessous :"
   ]
  },
  {
   "cell_type": "code",
   "execution_count": 3,
   "id": "b78b55f2",
   "metadata": {},
   "outputs": [],
   "source": [
    "def moyenne(nom, resultats):\n",
    "    '''Renvoie la moyenne de l'élève nom, selon le dictionnaire \n",
    "    resultats. Si nom n'est pas dans le dictionnaire, \n",
    "    la fonction renvoie None.'''\n",
    "    if nom in resultats: \n",
    "        notes = resultats[nom]\n",
    "        if notes == {}: # pas de notes \n",
    "            return 0\n",
    "        total_points = 0\n",
    "        total_coefficients = 0\n",
    "        for valeurs  in notes.values(): \n",
    "            note, coefficient = valeurs\n",
    "            total_points = note + total_points * coefficient \n",
    "            total_coefficients = total_coefficients + coefficient \n",
    "        return round( total_points / total_coefficients, 1 ) \n",
    "    else:\n",
    "        return None"
   ]
  },
  {
   "cell_type": "markdown",
   "id": "c4542513",
   "metadata": {},
   "source": [
    "Exemples :"
   ]
  },
  {
   "cell_type": "code",
   "execution_count": 4,
   "id": "5a79455a",
   "metadata": {},
   "outputs": [
    {
     "ename": "NameError",
     "evalue": "name 'resultats' is not defined",
     "output_type": "error",
     "traceback": [
      "\u001b[1;31m---------------------------------------------------------------------------\u001b[0m",
      "\u001b[1;31mNameError\u001b[0m                                 Traceback (most recent call last)",
      "Cell \u001b[1;32mIn[4], line 1\u001b[0m\n\u001b[1;32m----> 1\u001b[0m \u001b[38;5;28;01massert\u001b[39;00m moyenne(\u001b[38;5;124m\"\u001b[39m\u001b[38;5;124mDupont\u001b[39m\u001b[38;5;124m\"\u001b[39m, \u001b[43mresultats\u001b[49m)\u001b[38;5;241m==\u001b[39m\u001b[38;5;241m14.5\u001b[39m\n\u001b[0;32m      2\u001b[0m \u001b[38;5;28;01massert\u001b[39;00m moyenne(\u001b[38;5;124m\"\u001b[39m\u001b[38;5;124mDurand\u001b[39m\u001b[38;5;124m\"\u001b[39m, resultats)\u001b[38;5;241m==\u001b[39m\u001b[38;5;241m8.5\u001b[39m\n",
      "\u001b[1;31mNameError\u001b[0m: name 'resultats' is not defined"
     ]
    }
   ],
   "source": [
    "assert moyenne(\"Dupont\", resultats)==14.5\n",
    "assert moyenne(\"Durand\", resultats)==8.5"
   ]
  },
  {
   "cell_type": "markdown",
   "id": "043d5e16",
   "metadata": {},
   "source": [
    "# Sujet_23\n",
    "## S_23.1\n",
    "\n",
    "Dans cet exercice, on considère des arbres binaires de recherche qui sont :\n",
    "\n",
    "- soit l’arbre vide identifié par `None` ;\n",
    "- soit un nœud, contenant une clé et deux sous-arbres gauche et droit et représenté par un triplet `(g, v, d)` où `g` et `d` sont les sous-arbres gauche et droit et `v` la clé.\n",
    "\n",
    "![alt text](images/image-6.png)\n",
    "\n",
    "Ainsi, l’arbre binaire de recherche `abr1` ci-contre est créé par le code python ci-dessous"
   ]
  },
  {
   "cell_type": "code",
   "execution_count": null,
   "id": "681ea831",
   "metadata": {},
   "outputs": [],
   "source": [
    "n0 = (None, 0, None)\n",
    "n3 = (None, 3, None)\n",
    "n2 = (None, 2, n3)\n",
    "abr1 = (n0, 1, n2)"
   ]
  },
  {
   "cell_type": "markdown",
   "id": "d61bcb43",
   "metadata": {},
   "source": [
    "Écrire une fonction récursive `insertion_abr(a, cle)` qui prend en paramètres une\n",
    "clé `cle` et un arbre binaire de recherche `a`, et qui renvoie un arbre binaire de recherche\n",
    "dans lequel `cle` a été insérée.\n",
    "Dans le cas où `cle` est déjà présente dans `a`, la fonction renvoie l’arbre a inchangé."
   ]
  },
  {
   "cell_type": "code",
   "execution_count": 4,
   "id": "44a6b46c",
   "metadata": {},
   "outputs": [
    {
     "name": "stdout",
     "output_type": "stream",
     "text": [
      "((None, 0, None), 1, (None, 2, (None, 3, None)))\n",
      "(None, 2, (None, 3, None))\n",
      "(None, 3, None)\n",
      "None\n"
     ]
    },
    {
     "data": {
      "text/plain": [
       "(None, 4, None)"
      ]
     },
     "execution_count": 4,
     "metadata": {},
     "output_type": "execute_result"
    }
   ],
   "source": [
    "def insertion_abr(a, b):\n",
    "    print(a)\n",
    "    if a is None:\n",
    "        return (None,b,None)\n",
    "    elif b < a[1]:\n",
    "        return (insertion_abr(a[0],b)a[1],a[2])\n",
    "    elif b > a[1]:\n",
    "        return (a[0], a[1], insertion_abr(a[2],b))\n",
    "\n",
    "n0 = (None, 0, None)\n",
    "n3 = (None, 3, None)\n",
    "n2 = (None, 2, n3)\n",
    "abr1 = (n0, 1, n2)\n",
    "insertion_abr(abr1, 4)"
   ]
  },
  {
   "cell_type": "markdown",
   "id": "29d59585",
   "metadata": {},
   "source": [
    "Résultats à obtenir :"
   ]
  },
  {
   "cell_type": "code",
   "execution_count": null,
   "id": "4bbb41c7",
   "metadata": {},
   "outputs": [],
   "source": [
    "n0 = (None, 0, None)\n",
    "n3 = (None, 3, None)\n",
    "n2 = (None, 2, n3)\n",
    "abr1 = (n0, 1, n2)\n",
    "assert insertion_abr(abr1, 4)==((None,0,None),1,(None,2,(None,3,(None,4,None))))\n",
    "assert insertion_abr(abr1, -5)==(((None,-5,None),0,None),1,(None,2,(None,3,None)))\n",
    "assert insertion_abr(abr1, 2)==((None,0,None),1,(None,2,(None,3,None)))"
   ]
  },
  {
   "cell_type": "markdown",
   "id": "cad18305",
   "metadata": {},
   "source": [
    "## S_23.2\n",
    "\n",
    "On dispose d’un ensemble d’objets dont on connaît, pour chacun, la masse. On souhaite ranger l’ensemble de ces objets dans des boites identiques de telle manière que la somme des masses des objets contenus dans une boîte ne dépasse pas la capacité `c` de la boîte. On souhaite utiliser le moins de boîtes possibles pour ranger cet ensemble d’objets.\n",
    "\n",
    "\n",
    "Pour résoudre ce problème, on utilisera un algorithme glouton consistant à placer chacun des objets dans la première boîte où cela est possible.\n",
    "\n",
    "Par exemple, pour ranger dans des boîtes de capacité `c = 5` un ensemble de trois objets dont les masses sont représentées en Python par la liste `[1, 5, 2]`, on procède de la façon suivante :\n",
    "\n",
    "- Le premier objet, de masse 1, va dans une première boite.\n",
    "- Le deuxième objet, de masse 5, ne peut pas aller dans la même boite que le premier objet car cela dépasserait la capacité de la boite. On place donc cet objet dans une deuxième boîte.\n",
    "- Le troisième objet, de masse 2, va dans la première boîte.\n",
    "\n",
    "On a donc utilisé deux boîtes de capacité `c = 5` pour ranger les 3 objets.\n",
    "\n",
    "Compléter la fonction Python `empaqueter(liste_masses, c)` suivante pour qu’elle renvoie le nombre de boîtes de capacité `c` nécessaires pour empaqueter un ensemble d’objets dont les masses sont contenues dans la liste `liste_masses`."
   ]
  },
  {
   "cell_type": "code",
   "execution_count": 3,
   "id": "60a4b4b4",
   "metadata": {},
   "outputs": [
    {
     "data": {
      "text/plain": [
       "2"
      ]
     },
     "execution_count": 3,
     "metadata": {},
     "output_type": "execute_result"
    }
   ],
   "source": [
    "def empaqueter(liste_masses, c):\n",
    "    \"\"\"Renvoie le nombre minimal de boîtes nécessaires pour\n",
    "    empaqueter les objets de la liste liste_masses, sachant\n",
    "    que chaque boîte peut contenir au maximum c kilogrammes\"\"\"\n",
    "    n = len(liste_masses)\n",
    "    nb_boites = 0\n",
    "    boites = [ 0 for _ in range(n) ]\n",
    "    for masse in liste_masses: \n",
    "        i = 0\n",
    "        while i < nb_boites and boites[i] + masse > c: \n",
    "            i = i + 1\n",
    "        if i == nb_boites:\n",
    "            nb_boites += 1\n",
    "        boites[i] += masse\n",
    "    return nb_boites\n"
   ]
  },
  {
   "cell_type": "markdown",
   "id": "4d882862",
   "metadata": {},
   "source": [
    "Exemples :"
   ]
  },
  {
   "cell_type": "code",
   "execution_count": 4,
   "id": "255345ab",
   "metadata": {},
   "outputs": [],
   "source": [
    "assert empaqueter([1, 2, 3, 4, 5], 10)==2\n",
    "assert empaqueter([1, 2, 3, 4, 5], 5)==4\n",
    "assert empaqueter([7, 6, 3, 4, 8, 5, 9, 2], 11)==5"
   ]
  },
  {
   "cell_type": "markdown",
   "id": "d081f42f",
   "metadata": {},
   "source": [
    "# Sujet_24\n",
    "## S_24.1\n",
    "\n",
    "Un arbre binaire est soit vide, représenté en Python par la valeur `None`, soit un nœud représenté par un triplet `(g, x, d)` où `x` est l’étiquette du nœud et `g` et `d` sont les sous-arbres gauche et droit.\n",
    "\n",
    "On souhaite écrire une fonction `parcours_largeur` qui prend en paramètre un arbre binaire et qui renvoie la liste des étiquettes des nœuds de l’arbre parcourus en largeur."
   ]
  },
  {
   "cell_type": "code",
   "execution_count": 40,
   "id": "5de682a6",
   "metadata": {},
   "outputs": [
    {
     "data": {
      "text/plain": [
       "[4, 2, 6, 1, 3, 5, 7]"
      ]
     },
     "execution_count": 40,
     "metadata": {},
     "output_type": "execute_result"
    }
   ],
   "source": [
    "def parcours_largeur(abr):\n",
    "    vue = []\n",
    "    file =[abr]\n",
    "    while file:\n",
    "        a = file.pop(0)\n",
    "        vue.append(a[1])\n",
    "        if a[0] != None:\n",
    "            file.append(a[0])\n",
    "        if a[2] != None:\n",
    "            file.append(a[2])\n",
    "    return vue\n",
    "        \n",
    "\n",
    "arbre = ( ( (None, 1, None), 2, (None, 3, None) ), 4, ( (None, 5,None), 6, (None, 7, None) ) )\n",
    "parcours_largeur(arbre)"
   ]
  },
  {
   "cell_type": "markdown",
   "id": "56ba7dbd",
   "metadata": {},
   "source": [
    "Exemples :"
   ]
  },
  {
   "cell_type": "code",
   "execution_count": null,
   "id": "2d730478",
   "metadata": {},
   "outputs": [],
   "source": [
    "arbre = ( ( (None, 1, None), 2, (None, 3, None) ), 4, ( (None, 5,None), 6, (None, 7, None) ) )\n",
    "assert parcours_largeur(arbre)==[4, 2, 6, 1, 3, 5, 7]"
   ]
  },
  {
   "cell_type": "markdown",
   "id": "067675f6",
   "metadata": {},
   "source": [
    "## S_24.2\n",
    "\n",
    "On considère un tableau non vide de nombre entiers, positifs ou négatifs, et on souhaite déterminer la plus grande somme possible de ses éléments consécutifs.\n",
    "\n",
    "\n",
    "Par exemple, dans le tableau `[1, -2, 3, 10, -4, 7, 2, -5]`, la plus grande somme est 18 obtenue en additionnant les éléments 3, 10, -4, 7, 2.\n",
    "\n",
    "\n",
    "Pour cela, on va résoudre le problème par programmation dynamique. Si on note `tab` le tableau considéré et `i` un indice dans ce tableau, on se ramène à un problème plus simple : déterminer la plus grande somme possible de ses éléments consécutifs se terminant à\n",
    "l’indice `i`.\n",
    "\n",
    "\n",
    "Si on connait la plus grande somme possible de ses éléments consécutifs se terminant à l’indice `i-1`, on peut déterminer la plus grande somme possible de ses éléments consécutifs se terminant à l’indice `i` :\n",
    "\n",
    "- soit on obtient une plus grande somme en ajoutant `tab[i]` à cette somme précédente ;\n",
    "- soit on commence une nouvelle somme à partir de `tab[i]`.\n",
    "\n",
    "*Remarque :* les sommes considérées contiennent toujours au moins un terme.\n",
    "\n",
    "\n",
    "Compléter la fonction `somme_max` ci-dessous qui réalise cet algorithme."
   ]
  },
  {
   "cell_type": "code",
   "execution_count": 24,
   "id": "fb6d0d7f",
   "metadata": {},
   "outputs": [
    {
     "data": {
      "text/plain": [
       "18"
      ]
     },
     "execution_count": 24,
     "metadata": {},
     "output_type": "execute_result"
    }
   ],
   "source": [
    "def somme_max(tab):\n",
    "    n = len(tab)\n",
    "    sommes_max = [0]*n\n",
    "    sommes_max[0] = tab[0]\n",
    "    # on calcule la plus grande somme se terminant en i\n",
    "    for i in range(1,n):\n",
    "        if sommes_max[i-1] + tab[i] > sommes_max[i]: \n",
    "            sommes_max[i] = sommes_max[i-1] + tab[i]\n",
    "        else:\n",
    "            sommes_max[i] = 0\n",
    "    # on en déduit la plus grande somme de celles-ci\n",
    "    maximum = 0\n",
    "    for i in range(1, n):\n",
    "        if sommes_max[i] > sommes_max[maximum]: \n",
    "            maximum = i\n",
    "\n",
    "    return sommes_max[maximum]"
   ]
  },
  {
   "cell_type": "markdown",
   "id": "2f6f734d",
   "metadata": {},
   "source": [
    "Exemples :"
   ]
  },
  {
   "cell_type": "code",
   "execution_count": 25,
   "id": "001ae80c",
   "metadata": {},
   "outputs": [],
   "source": [
    "assert somme_max([1, 2, 3, 4, 5])==15\n",
    "assert somme_max([1, 2, -3, 4, 5])==9\n",
    "assert somme_max([1, 2, -2, 4, 5])==10\n",
    "assert somme_max([1, -2, 3, 10, -4, 7, 2, -5])==18"
   ]
  },
  {
   "cell_type": "markdown",
   "id": "c4f3ff36",
   "metadata": {},
   "source": [
    "## S_25.1\n",
    "\n",
    "Écrire une fonction `recherche_min` qui prend en paramètre un tableau de nombres `tab`, et qui renvoie l'indice de la première occurrence du minimum de ce tableau. Les tableaux seront représentés sous forme de liste Python.\n",
    "\n",
    "Exemples :\n",
    "```python\n",
    ">>> recherche_min([5])\n",
    "0\n",
    ">>> recherche_min([2, 4, 1])\n",
    "2\n",
    ">>> recherche_min([5, 3, 2, 2, 4])\n",
    "2\n",
    ">>> recherche_min([-1, -2, -3, -3])\n",
    "2\n",
    "```"
   ]
  },
  {
   "cell_type": "code",
   "execution_count": 41,
   "id": "85856e46",
   "metadata": {},
   "outputs": [],
   "source": [
    "def recherche_min(tab):\n",
    "    return tab.index(min(tab))\n"
   ]
  },
  {
   "cell_type": "code",
   "execution_count": 43,
   "id": "ec9da6ca",
   "metadata": {},
   "outputs": [],
   "source": [
    "assert recherche_min([5]) == 0\n",
    "assert recherche_min([2,4,1]) == 2\n",
    "assert recherche_min([5,3,2,2,4]) == 2\n",
    "assert recherche_min([-1,-2,-3,-3]) == 2"
   ]
  },
  {
   "cell_type": "markdown",
   "id": "46396c42",
   "metadata": {},
   "source": [
    "## S_25.2\n",
    "On considère la fonction `separe` ci-dessous qui prend en argument un tableau `tab` dont\n",
    "les éléments sont des `0` et des `1` et qui sépare les `0` des `1` en plaçant les `0` en début de\n",
    "tableau et les `1` à la suite.\n"
   ]
  },
  {
   "cell_type": "code",
   "execution_count": 62,
   "id": "8acc3010",
   "metadata": {},
   "outputs": [],
   "source": [
    "def separe(tab):\n",
    "    '''Separe les 0 et les 1 dans le tableau tab'''\n",
    "    gauche = 0\n",
    "    droite = len(tab) - 1\n",
    "    while gauche < droite:\n",
    "        if tab[gauche] == 0 :\n",
    "            gauche += 1 \n",
    "        else :\n",
    "            tab[gauche] = tab[droite] \n",
    "            tab[droite] = 1\n",
    "            droite -= 1\n",
    "    return tab\n"
   ]
  },
  {
   "cell_type": "code",
   "execution_count": 63,
   "id": "e63326dd",
   "metadata": {},
   "outputs": [],
   "source": [
    "assert separe([1, 0, 1, 0, 1, 0, 1, 0]) == [0, 0, 0, 0, 1, 1, 1, 1]\n",
    "assert separe([1, 0, 0, 0, 1, 1, 0, 1, 1, 0, 1, 0, 1, 1, 1, 0]) == [0, 0, 0, 0, 0, 0, 0, 1, 1, 1, 1, 1, 1, 1, 1, 1]\n"
   ]
  },
  {
   "cell_type": "markdown",
   "id": "d18eac0c",
   "metadata": {},
   "source": [
    "Compléter la fonction separe ci-dessus.\n",
    "\n",
    "Exemples :\n",
    "\n",
    "\n",
    "``` python >>> separe([1, 0, 1, 0, 1, 0, 1, 0])\n",
    "[0, 0, 0, 0, 1, 1, 1, 1]\n",
    ">>> separe([1, 0, 0, 0, 1, 1, 0, 1, 1, 0, 1, 0, 1, 1, 1, 0])\n",
    "[0, 0, 0, 0, 0, 0, 0, 1, 1, 1, 1, 1, 1, 1, 1, 1]```\n",
    "Description d’étapes effectuées par la fonction separe sur le tableau ci-dessous, les caractères ^ indiquent les cases pointées par les indices gauche et droite :\n",
    "\n",
    "\n",
    "tab = [1, 0, 1, 0, 1, 0, 1, 0]\n",
    "       ^                    ^\n",
    "Etape 1 : on regarde la première case, qui contient un 1 : ce 1 va aller dans la seconde partie du tableau final et on l’échange avec la dernière case. Il est à présent bien positionné : on ne prend plus la dernière case en compte.\n",
    "\n",
    "tab = [0, 0, 1, 0, 1, 0, 1, 1]\n",
    "       ^                 ^\n",
    "Etape 2 : on regarde à nouveau la première case, qui contient maintenant un 0 : ce 0 va aller dans la première partie du tableau final et est bien positionné : on ne prend plus la première case en compte.\n",
    "\n",
    "tab = [0, 0, 1, 0, 1, 0, 1, 1]\n",
    "          ^              ^\n",
    "Etape 3 : on regarde la seconde case, qui contient un 0 : ce 0 va aller dans la première partie du tableau final et est bien positionné : on ne prend plus la seconde case en compte.\n",
    "\n",
    "tab = [0, 0, 1, 0, 1, 0, 1, 1]\n",
    "             ^           ^\n",
    "Etape 4 : on regarde la troisième case, qui contient un 1 : ce 1 va aller dans la seconde partie du tableau final et on l’échange avec l’avant-dernière case. Il est à présent bien positionné : on ne prend plus l’avant-dernière case en compte.\n",
    "\n",
    "tab = [0, 0, 1, 0, 1, 0, 1, 1]\n",
    "             ^        ^\n",
    "Et ainsi de suite...\n",
    "\n",
    "tab = [0, 0, 0, 0, 1, 1, 1, 1] ```"
   ]
  },
  {
   "cell_type": "markdown",
   "id": "a8a9ab29",
   "metadata": {},
   "source": [
    "\n",
    "## S_26.1\n",
    "Écrire une fonction `ajoute_dictionnaires` qui prend en paramètres deux\n",
    "dictionnaires `d1` et `d2` dont les clés sont des nombres et renvoie le dictionnaire `d` défini de\n",
    "la façon suivante :\n",
    "\n",
    "- Les clés de `d` sont celles de `d1` et celles de `d2` réunies.\n",
    "- Si une clé est présente dans les deux dictionnaires `d1` et `d2`, sa valeur associée\n",
    "dans le dictionnaire `d` est la somme de ses valeurs dans les dictionnaires `d1` et `d2`.\n",
    "- Si une clé n’est présente que dans un des deux dictionnaires, sa valeur associée\n",
    "dans le dictionnaire `d` est la même que sa valeur dans le dictionnaire où elle est\n",
    "présente.\n",
    "\n",
    "Exemples :\n",
    "\n",
    "```python\n",
    ">>> ajoute_dictionnaires({1: 5, 2: 7}, {2: 9, 3: 11})\n",
    "{1: 5, 2: 16, 3: 11}\n",
    ">>> ajoute_dictionnaires({}, {2: 9, 3: 11})\n",
    "{2: 9, 3: 11}\n",
    ">>> ajoute_dictionnaires({1: 5, 2: 7}, {})\n",
    "{1: 5, 2: 7}\n",
    "```"
   ]
  },
  {
   "cell_type": "code",
   "execution_count": 79,
   "id": "f1487b3e",
   "metadata": {},
   "outputs": [],
   "source": [
    "def ajouter_dictionaires(d1,d2):\n",
    "    d = {**d1, **d2}\n",
    "    for k1,v1 in d1.items():\n",
    "        for k2,v2 in d2.items():\n",
    "            if k1 == k2:\n",
    "                d[k1] = v1 + v2\n",
    "    return d\n"
   ]
  },
  {
   "cell_type": "code",
   "execution_count": 80,
   "id": "fc6d8fa0",
   "metadata": {},
   "outputs": [],
   "source": [
    "assert ajouter_dictionaires({1:5, 2:7}, {2:9, 3:11}) == {1: 5, 2: 16, 3: 11}\n",
    "assert ajouter_dictionaires({}, {2: 9, 3: 11}) == {2: 9, 3: 11}\n",
    "assert ajouter_dictionaires({1: 5, 2: 7}, {}) == {1: 5, 2: 7}"
   ]
  },
  {
   "cell_type": "markdown",
   "id": "b3a18cf6",
   "metadata": {},
   "source": [
    "## S_26.2\n",
    "\n",
    "On considère une piste carrée qui contient 4 cases par côté. Les cases sont numérotées\n",
    "de 0 inclus à 12 exclu comme ci-dessous :\n",
    "\n",
    "<div align=\"center\">\n",
    "    <img src=\"https://glassus.github.io/terminale_nsi/T6_6_Epreuve_pratique/data2023/20_carre.png\">\n",
    "</div>\n",
    "\n",
    "L’objectif de l’exercice est d’implémenter le jeu suivant :\n",
    "\n",
    "Au départ, le joueur place son pion sur la case 0. A chaque coup, il lance un dé équilibré\n",
    "à six faces et avance son pion d’autant de cases que le nombre indiqué par le dé (entre\n",
    "1 et 6 inclus) dans le sens des aiguilles d’une montre.\n",
    "\n",
    "Par exemple, s’il obtient 2 au premier lancer, il pose son pion sur la case 2 puis s’il\n",
    "obtient 6 au deuxième lancer, il le pose sur la case 8, puis s’il obtient à nouveau 6, il\n",
    "pose le pion sur la case 2.\n",
    "\n",
    "Le jeu se termine lorsque le joueur a posé son pion sur **toutes les cases** de la piste.\n",
    "\n",
    "Compléter la fonction `nombre_coups` ci-dessous de sorte qu’elle renvoie le nombre de\n",
    "lancers aléatoires nécessaires pour terminer le jeu.\n",
    "\n",
    "Proposer ensuite quelques tests pour en vérifier le fonctionnement.\n"
   ]
  },
  {
   "cell_type": "code",
   "execution_count": 82,
   "id": "7996e1a6",
   "metadata": {},
   "outputs": [],
   "source": [
    "from random import randint\n",
    "\n",
    "def nombre_coups():\n",
    "    '''Simule un jeu de plateau avec 12 cases et renvoie le nombre\n",
    "    minimal de coups pour visiter toutes les cases.'''\n",
    "    nombre_cases = 12\n",
    "    # indique si une case a été vue\n",
    "    cases_vues = [ False ] * nombre_cases\n",
    "    nombre_cases_vues = 1\n",
    "    cases_vues[0] = True\n",
    "    case_en_cours = 0\n",
    "    n = 0\n",
    "    while n < nombre_cases_vues: \n",
    "        x = randint(1, 6)\n",
    "        case_en_cours = (case_en_cours + x) % 12\n",
    "        if cases_vues[case_en_cours] == False : \n",
    "            cases_vues[case_en_cours] = True\n",
    "            nombre_cases_vues += 1 \n",
    "        n += 1 \n",
    "    return n"
   ]
  },
  {
   "cell_type": "markdown",
   "id": "9c768aac",
   "metadata": {},
   "source": [
    "## S_27.1\n",
    "\n",
    "Écrire une fonction `couples_consecutifs` qui prend en paramètre un tableau de\n",
    "nombres entiers `tab` non vide (type `list`), et qui renvoie la liste Python (éventuellement vide) des couples d'entiers consécutifs successifs qu'il peut y avoir dans `tab`.\n",
    "\n",
    "Exemples :\n",
    "```python\n",
    ">>> couples_consecutifs([1, 4, 3, 5])\n",
    "[]\n",
    ">>> couples_consecutifs([1, 4, 5, 3])\n",
    "[(4, 5)]\n",
    ">>> couples_consecutifs([1, 1, 2, 4])\n",
    "[(1, 2)]\n",
    ">>> couples_consecutifs([7, 1, 2, 5, 3, 4])\n",
    "[(1, 2), (3, 4)]\n",
    ">>> couples_consecutifs([5, 1, 2, 3, 8, -5, -4, 7])\n",
    "[(1, 2), (2, 3), (-5, -4)]\n",
    "```"
   ]
  },
  {
   "cell_type": "code",
   "execution_count": 98,
   "id": "e3cd0434",
   "metadata": {},
   "outputs": [
    {
     "data": {
      "text/plain": [
       "[(1, 2), (3, 4)]"
      ]
     },
     "execution_count": 98,
     "metadata": {},
     "output_type": "execute_result"
    }
   ],
   "source": [
    "def couples_consecutifs(tab):\n",
    "    lst = []\n",
    "    for i in range(len(tab)-1):\n",
    "        if tab[i+1] == tab[i] + 1:\n",
    "            lst.append((tab[i], tab[i+1]))\n",
    "    return lst"
   ]
  },
  {
   "cell_type": "code",
   "execution_count": 99,
   "id": "e095eac8",
   "metadata": {},
   "outputs": [],
   "source": [
    "assert couples_consecutifs([1, 4, 3, 5]) == []\n",
    "assert couples_consecutifs([1, 4, 5, 3]) == [(4, 5)]\n",
    "assert couples_consecutifs([1, 1, 2, 4]) == [(1, 2)]\n",
    "assert couples_consecutifs([7, 1, 2, 5, 3, 4]) == [(1, 2), (3, 4)]\n",
    "assert couples_consecutifs([5, 1, 2, 3, 8, -5, -4, 7]) == [(1, 2), (2, 3), (-5, -4)]"
   ]
  },
  {
   "cell_type": "markdown",
   "id": "e956064f",
   "metadata": {},
   "source": [
    "## S_27.2\n",
    "\n",
    "Soit une image binaire représentée dans un tableau à 2 dimensions. Les éléments\n",
    "`M[i][j]`, appelés pixels, sont égaux soit à `0` soit à `1`.\n",
    "\n",
    "Une composante d’une image est un sous-ensemble de l’image constitué uniquement de\n",
    "`1` et de `0` qui sont côte à côte, soit horizontalement soit verticalement.\n",
    "\n",
    "Par exemple, les composantes de\n",
    "<div align=\"center\">\n",
    "    <img src=\"https://glassus.github.io/terminale_nsi/T6_6_Epreuve_pratique/data2023/36_carre1.png\">\n",
    "</div>\n",
    "\n",
    "<div align=\"center\">\n",
    "    <img src=\"https://glassus.github.io/terminale_nsi/T6_6_Epreuve_pratique/data2023/36_carre2.png\">\n",
    "</div>\n",
    "\n",
    "On souhaite, à partir d’un pixel égal à `1` dans une image `M`, donner la valeur `val` à tous\n",
    "les pixels de la composante à laquelle appartient ce pixel.\n",
    "\n",
    "La fonction `colore_comp1` prend pour paramètre une image `M` (représentée par une liste de\n",
    "listes), deux entiers `i` et `j` et une valeur entière `val`. Elle met à la valeur `val` tous les pixels de la composante du pixel\n",
    "`M[i][j]` s’il vaut `1` et ne fait rien sinon.\n",
    "\n",
    "Par exemple, `colore_comp1(M, 2, 1, 3)` donne\n",
    "<div align=\"center\">\n",
    "    <img src=\"https://glassus.github.io/terminale_nsi/T6_6_Epreuve_pratique/data2023/36_carre3.png\">\n",
    "</div>\n",
    "\n",
    "Compléter le code récursif de la fonction `colore_comp1` donné ci-dessous :\n",
    "\n"
   ]
  },
  {
   "cell_type": "code",
   "execution_count": 112,
   "id": "1ab064f3",
   "metadata": {},
   "outputs": [
    {
     "name": "stdout",
     "output_type": "stream",
     "text": [
      "[[0, 0, 1, 0], [0, 3, 0, 1], [3, 3, 3, 0], [0, 3, 3, 0]]\n"
     ]
    }
   ],
   "source": [
    "def colore_comp1(M, i, j, val):\n",
    "    if M[i][j] != 1:\n",
    "        return \n",
    "\n",
    "    M[i][j] = val\n",
    "\n",
    "    if i-1 >= 0: # propage en haut\n",
    "        colore_comp1(M, i-1, j, val)\n",
    "    if i +1 < len(M): # propage en bas\n",
    "        colore_comp1(M, i+1, j, val) \n",
    "    if j-1 >= 0: # propage à gauche \n",
    "        colore_comp1(M, i, j-1, val) \n",
    "    if j+1 < len(M[0]): # propage à droite \n",
    "        colore_comp1(M, i, j+1, val)\n",
    "    return M\n",
    "M = [[0, 0, 1, 0],\n",
    "     [0, 1, 0, 1],\n",
    "     [1, 1, 1, 0],\n",
    "     [0, 1, 1, 0]]\n",
    "print(colore_comp1(M, 2, 1, 3))"
   ]
  },
  {
   "cell_type": "code",
   "execution_count": 113,
   "id": "4a6329fb",
   "metadata": {},
   "outputs": [
    {
     "data": {
      "text/plain": [
       "[[0, 0, 1, 0], [0, 3, 0, 1], [3, 3, 3, 0], [0, 3, 3, 0]]"
      ]
     },
     "execution_count": 113,
     "metadata": {},
     "output_type": "execute_result"
    }
   ],
   "source": [
    "# # M = [[0, 0, 1, 0],\n",
    "# #      [0, 1, 0, 1],\n",
    "# #      [1, 1, 1, 0],\n",
    "# #      [0, 1, 1, 0]]\n",
    "# # colore_comp1(M, 2, 1, 3)\n",
    "M\n",
    "[[0, 0, 1, 0], \n",
    " [0, 3, 0, 1], \n",
    " [3, 3, 3, 0],\n",
    " [0, 3, 3, 0]\n",
    " ]"
   ]
  },
  {
   "cell_type": "markdown",
   "id": "e73e5440",
   "metadata": {},
   "source": [
    "## S_28.1\n",
    "\n",
    "On s’intéresse à la suite d’entiers définie par :\n",
    "\n",
    "- les deux premières valeurs sont égales à 1 ;\n",
    "- ensuite, chaque valeur est obtenue en faisant la somme des deux valeurs qui la précè-\n",
    "dent.\n",
    "\n",
    "La troisième valeur est donc $1+1 = 2$, la quatrième est $1+2 = 3$, la cinquième est $2+3 = 5$,\n",
    "la sixième est $3 + 5 = 8$, et ainsi de suite.\n",
    "\n",
    "Cette suite d’entiers est connue sous le nom de suite de Fibonacci.\n",
    "\n",
    "Écrire en Python une fonction `fibonacci` qui prend en paramètre un entier `n` supposé\n",
    "strictement positif et qui renvoie le terme d’indice `n` de cette suite.\n",
    "\n",
    "Exemples :\n",
    "\n",
    "```python\n",
    ">>> fibonacci(1)\n",
    "1\n",
    ">>> fibonacci(2)\n",
    "1\n",
    ">>> fibonacci(25)\n",
    "75025\n",
    "```"
   ]
  },
  {
   "cell_type": "code",
   "execution_count": 149,
   "id": "90f6b735",
   "metadata": {},
   "outputs": [],
   "source": [
    "def fibonacci(n):\n",
    "    if n == 0:\n",
    "        return 0\n",
    "    if n == 1:\n",
    "        return 1\n",
    "    return fibonacci(n-1) + fibonacci(n-2) "
   ]
  },
  {
   "cell_type": "code",
   "execution_count": 150,
   "id": "ec597a79",
   "metadata": {},
   "outputs": [],
   "source": [
    "assert fibonacci(1) == 1\n",
    "assert fibonacci(2) == 1\n",
    "assert fibonacci(25) == 75025"
   ]
  },
  {
   "cell_type": "markdown",
   "id": "7e52aa16",
   "metadata": {},
   "source": [
    "## S_28.2\n",
    "\n",
    "On considère la fonction `eleves_du_mois` prenant en paramètres `eleves` et `notes` deux\n",
    "tableaux de même longueur, le premier contenant le nom des élèves et le second, des\n",
    "entiers positifs désignant leur note à un contrôle de sorte que `eleves[i]` a obtenu la\n",
    "note `notes[i]`.  \n",
    "\n",
    "Cette fonction renvoie le couple constitué de la note maximale attribuée et des noms\n",
    "des élèves ayant obtenu cette note regroupés dans un tableau.  \n",
    "\n",
    "Ainsi, l’instruction `eleves_du_mois(['a', 'b', 'c', 'd'], [15, 18, 12, 18])` renvoie\n",
    "le couple `(18, ['b', 'd'])`.\n"
   ]
  },
  {
   "cell_type": "code",
   "execution_count": 154,
   "id": "4f5a116b",
   "metadata": {},
   "outputs": [
    {
     "data": {
      "text/plain": [
       "(80, ['c', 'f', 'h'])"
      ]
     },
     "execution_count": 154,
     "metadata": {},
     "output_type": "execute_result"
    }
   ],
   "source": [
    "def eleves_du_mois(eleves, notes):\n",
    "    note_maxi = 0\n",
    "    meilleurs_eleves = []\n",
    "\n",
    "    for i in range(len(notes)) :\n",
    "        if notes[i] == note_maxi :\n",
    "            meilleurs_eleves.append(eleves[i])\n",
    "        elif notes[i] > note_maxi:\n",
    "            note_maxi = notes[i]\n",
    "            meilleurs_eleves = [eleves[i]]\n",
    "\n",
    "    return (note_maxi,meilleurs_eleves)\n"
   ]
  },
  {
   "cell_type": "code",
   "execution_count": 157,
   "id": "243d192e",
   "metadata": {},
   "outputs": [],
   "source": [
    "assert eleves_du_mois(['a', 'b', 'c', 'd'], [15, 18, 12, 18]) == (18, ['b', 'd'])\n",
    "eleves_nsi = ['a','b','c','d','e','f','g','h','i','j']\n",
    "notes_nsi = [30, 40, 80, 60, 58, 80, 75, 80, 60, 24]\n",
    "assert eleves_du_mois(eleves_nsi, notes_nsi) == (80, ['c', 'f', 'h'])\n",
    "assert eleves_du_mois([],[]) == (0,[])"
   ]
  },
  {
   "cell_type": "markdown",
   "id": "f356a2ca",
   "metadata": {},
   "source": [
    "``` python>>> eleves_nsi = ['a','b','c','d','e','f','g','h','i','j']\n",
    ">>> notes_nsi = [30, 40, 80, 60, 58, 80, 75, 80, 60, 24]\n",
    ">>> eleves_du_mois(eleves_nsi, notes_nsi)\n",
    "(80, ['c', 'f', 'h'])\n",
    ">>> eleves_du_mois([],[])\n",
    "(0, [])"
   ]
  },
  {
   "cell_type": "markdown",
   "id": "a7838290",
   "metadata": {},
   "source": [
    "## S_29.1\n",
    "\n",
    "Écrire une fonction `moyenne(notes)` qui renvoie la moyenne pondérée des\n",
    "résultats contenus dans le tableau `notes`, non vide, donné en paramètre. Ce\n",
    "tableau contient des couples `(note, coefficient)` dans lesquels :\n",
    "\n",
    "- `note` est un nombre de type flottant (`float`) compris entre 0 et 20 ;\n",
    "- `coefficient` est un nombre entier strictement positif.\n",
    "\n",
    "Ainsi l’expression `moyenne([(15.0,2),(9.0,1),(12.0,3)])` devra renvoyer `12.5`.\n",
    "\n",
    "$\\dfrac{2 \\times 15 + 1 \\times 9 + 3 \\times 12 }{2+1+3}=12,5$"
   ]
  },
  {
   "cell_type": "code",
   "execution_count": 162,
   "id": "defe5cbd",
   "metadata": {},
   "outputs": [
    {
     "data": {
      "text/plain": [
       "12.5"
      ]
     },
     "execution_count": 162,
     "metadata": {},
     "output_type": "execute_result"
    }
   ],
   "source": [
    "def moyenne(notes):\n",
    "    note = []\n",
    "    coef = []\n",
    "    for i in notes:\n",
    "        note.append(i[0]*i[1])\n",
    "        coef.append(i[1])\n",
    "    return sum(note)/sum(coef) if sum(coef) != 0 else None\n",
    "\n"
   ]
  },
  {
   "cell_type": "code",
   "execution_count": 163,
   "id": "49acc30c",
   "metadata": {},
   "outputs": [],
   "source": [
    "assert moyenne([(15.0,2),(9.0,1),(12.0,3)]) == 12.5"
   ]
  },
  {
   "cell_type": "markdown",
   "id": "13773970",
   "metadata": {},
   "source": [
    "## S_29.2\n",
    "\n",
    "On cherche à déterminer les valeurs du triangle de Pascal (Figure 1).\n",
    "\n",
    "Dans le triangle de Pascal, chaque ligne commence et se termine par le nombre 1.\n",
    "Comme l’illustre la Figure 2, on additionne deux valeurs successives d’une ligne pour\n",
    "obtenir la valeur qui se situe sous la deuxième valeur.\n",
    "\n",
    "<div align=\"center\">\n",
    "    <img src=\"https://glassus.github.io/terminale_nsi/T6_6_Epreuve_pratique/data2023/17_triangle.png\">\n",
    "</div>\n",
    "\n",
    "Compléter les fonctions `ligne_suivante` et `pascal` ci-dessous. La fonction\n",
    "`ligne_suivante` prend en paramètre une liste d’entiers `ligne` correspondant à une\n",
    "ligne du triangle de Pascal et renvoie la liste correspondant à la ligne suivante du triangle\n",
    "de Pascal. La fonction `pascal` prend en paramètre un entier n et l’utilise pour construire\n",
    "le triangle de Pascal ayant `n+1` lignes sous la forme d’une liste de listes.\n",
    "\n"
   ]
  },
  {
   "cell_type": "code",
   "execution_count": 174,
   "id": "caaeacc8",
   "metadata": {},
   "outputs": [],
   "source": [
    "def ligne_suivante(ligne):\n",
    "    '''Renvoie la ligne suivant ligne du triangle de Pascal'''\n",
    "    ligne_suiv = [1] \n",
    "    for i in range(1,len(ligne)): \n",
    "        ligne_suiv.append(ligne[i]+ligne[i-1]) \n",
    "    ligne_suiv.append(1) \n",
    "    return ligne_suiv\n",
    "\n",
    "\n",
    "def pascal(n):\n",
    "    '''Renvoie le triangle de Pascal de hauteur n'''\n",
    "    triangle = [ [1] ]\n",
    "    for k in range(n): \n",
    "        ligne_k = ligne_suivante(triangle[k])\n",
    "        triangle.append(ligne_k)\n",
    "    return triangle\n"
   ]
  },
  {
   "cell_type": "markdown",
   "id": "3803281b",
   "metadata": {},
   "source": [
    "``` python >>> ligne_suivante([1, 3, 3, 1])\n",
    "[1, 4, 6, 4, 1]\n",
    ">>> pascal(2)\n",
    "[[1], [1, 1], [1, 2, 1]]\n",
    ">>> pascal(3)\n",
    "[[1], [1, 1], [1, 2, 1], [1, 3, 3, 1]]"
   ]
  },
  {
   "cell_type": "markdown",
   "id": "f6ef1813",
   "metadata": {},
   "source": [
    "## S_30.1\n",
    "\n",
    "Programmer la fonction `fusion` prenant en paramètres deux tableaux non vides `tab1` et `tab2`\n",
    "(type `list`) d'entiers, chacun dans l’ordre croissant, et renvoyant un tableau trié dans l’ordre croissant et contenant l’ensemble des valeurs de `tab1` et `tab2`.\n",
    "\n",
    "Exemples :\n",
    "\n",
    "```python\n",
    ">>> fusion([3, 5], [2, 5])\n",
    "[2, 3, 5, 5]\n",
    ">>> fusion([-2, 4], [-3, 5, 10])\n",
    "[-3, -2, 4, 5, 10]\n",
    ">>> fusion([4], [2, 6])\n",
    "[2, 4, 6]\n",
    ">>> fusion([], [])\n",
    "[]\n",
    ">>> fusion([1, 2, 3], [])\n",
    "[1, 2, 3]\n",
    "```"
   ]
  },
  {
   "cell_type": "code",
   "execution_count": 202,
   "id": "be82e3d8",
   "metadata": {},
   "outputs": [],
   "source": [
    "def fusion(tab1,tab2):\n",
    "    return sorted(tab1 + tab2)\n",
    "\n",
    "def fusion(tab):\n",
    "    if len(tab) > 1:\n",
    "        left_arr = tab[: len(tab)//2]\n",
    "        right_arr = tab[len(tab)//2:]\n",
    "    #recursion\n",
    "    fusion(left_arr)\n",
    "    fusion(right_arr)\n",
    "    #merge\n",
    "    i = 0\n",
    "    j = 0\n",
    "    k = 0\n",
    "    while i < len(left_arr) and j < len(right_arr):\n",
    "        if left_arr[i] < right_arr[j]:\n",
    "            tab[k] = left_arr[i]\n",
    "            i += 1\n",
    "        else:\n",
    "            tab[k] = right_arr[j]\n",
    "            j += 1\n",
    "        k +=1\n",
    "    while i < len(left_arr):\n",
    "        tab[k] = left_arr[i]\n",
    "        i += 1\n",
    "        k += 1\n",
    "    while j < len(right_arr):\n",
    "        tab[k] = right_arr[j]\n",
    "        j += 1\n",
    "        k +=1\n",
    "\n",
    "\n",
    "def fusion(tab1, tab2):\n",
    "    tab_fusion = []\n",
    "    i1 = 0\n",
    "    i2 = 0\n",
    "    while i1 < len(tab1) and i2 < len(tab2):\n",
    "        if tab1[i1] < tab2[i2]:\n",
    "            tab_fusion.append(tab1[i1])\n",
    "            i1 += 1\n",
    "        else:\n",
    "            tab_fusion.append(tab2[i2])\n",
    "            i2 += 1\n",
    "\n",
    "    if i1 == len(tab1):\n",
    "        while i2 < len(tab2):\n",
    "            tab_fusion.append(tab2[i2])\n",
    "            i2 += 1\n",
    "    else:\n",
    "        while i1 < len(tab1):\n",
    "            tab_fusion.append(tab1[i1])\n",
    "            i1 += 1        \n",
    "\n",
    "    return tab_fusion"
   ]
  },
  {
   "cell_type": "code",
   "execution_count": 203,
   "id": "cad1a856",
   "metadata": {},
   "outputs": [
    {
     "ename": "UnboundLocalError",
     "evalue": "cannot access local variable 'left_arr' where it is not associated with a value",
     "output_type": "error",
     "traceback": [
      "\u001b[1;31m---------------------------------------------------------------------------\u001b[0m",
      "\u001b[1;31mUnboundLocalError\u001b[0m                         Traceback (most recent call last)",
      "Cell \u001b[1;32mIn[203], line 1\u001b[0m\n\u001b[1;32m----> 1\u001b[0m \u001b[38;5;28;01massert\u001b[39;00m \u001b[43mfusion_1\u001b[49m\u001b[43m(\u001b[49m\u001b[43m[\u001b[49m\u001b[38;5;241;43m3\u001b[39;49m\u001b[43m,\u001b[49m\u001b[43m \u001b[49m\u001b[38;5;241;43m5\u001b[39;49m\u001b[43m]\u001b[49m\u001b[43m,\u001b[49m\u001b[43m \u001b[49m\u001b[43m[\u001b[49m\u001b[38;5;241;43m2\u001b[39;49m\u001b[43m,\u001b[49m\u001b[43m \u001b[49m\u001b[38;5;241;43m5\u001b[39;49m\u001b[43m]\u001b[49m\u001b[43m)\u001b[49m \u001b[38;5;241m==\u001b[39m [\u001b[38;5;241m2\u001b[39m, \u001b[38;5;241m3\u001b[39m, \u001b[38;5;241m5\u001b[39m, \u001b[38;5;241m5\u001b[39m]\n\u001b[0;32m      2\u001b[0m \u001b[38;5;28;01massert\u001b[39;00m fusion_1([\u001b[38;5;241m-\u001b[39m\u001b[38;5;241m2\u001b[39m, \u001b[38;5;241m4\u001b[39m], [\u001b[38;5;241m-\u001b[39m\u001b[38;5;241m3\u001b[39m, \u001b[38;5;241m5\u001b[39m, \u001b[38;5;241m10\u001b[39m]) \u001b[38;5;241m==\u001b[39m [\u001b[38;5;241m-\u001b[39m\u001b[38;5;241m3\u001b[39m, \u001b[38;5;241m-\u001b[39m\u001b[38;5;241m2\u001b[39m, \u001b[38;5;241m4\u001b[39m, \u001b[38;5;241m5\u001b[39m, \u001b[38;5;241m10\u001b[39m]\n\u001b[0;32m      3\u001b[0m \u001b[38;5;28;01massert\u001b[39;00m fusion_1([\u001b[38;5;241m4\u001b[39m], [\u001b[38;5;241m2\u001b[39m, \u001b[38;5;241m6\u001b[39m]) \u001b[38;5;241m==\u001b[39m [\u001b[38;5;241m2\u001b[39m, \u001b[38;5;241m4\u001b[39m, \u001b[38;5;241m6\u001b[39m]\n",
      "Cell \u001b[1;32mIn[202], line 2\u001b[0m, in \u001b[0;36mfusion_1\u001b[1;34m(tab1, tab2)\u001b[0m\n\u001b[0;32m      1\u001b[0m \u001b[38;5;28;01mdef\u001b[39;00m \u001b[38;5;21mfusion_1\u001b[39m(tab1,tab2):\n\u001b[1;32m----> 2\u001b[0m     \u001b[38;5;28;01mreturn\u001b[39;00m \u001b[43mfusion\u001b[49m\u001b[43m(\u001b[49m\u001b[43mtab1\u001b[49m\u001b[43m \u001b[49m\u001b[38;5;241;43m+\u001b[39;49m\u001b[43m \u001b[49m\u001b[43mtab2\u001b[49m\u001b[43m)\u001b[49m\n",
      "Cell \u001b[1;32mIn[202], line 9\u001b[0m, in \u001b[0;36mfusion\u001b[1;34m(tab)\u001b[0m\n\u001b[0;32m      7\u001b[0m     right_arr \u001b[38;5;241m=\u001b[39m tab[\u001b[38;5;28mlen\u001b[39m(tab)\u001b[38;5;241m/\u001b[39m\u001b[38;5;241m/\u001b[39m\u001b[38;5;241m2\u001b[39m:]\n\u001b[0;32m      8\u001b[0m \u001b[38;5;66;03m#recursion\u001b[39;00m\n\u001b[1;32m----> 9\u001b[0m \u001b[43mfusion\u001b[49m\u001b[43m(\u001b[49m\u001b[43mleft_arr\u001b[49m\u001b[43m)\u001b[49m\n\u001b[0;32m     10\u001b[0m fusion(right_arr)\n\u001b[0;32m     11\u001b[0m \u001b[38;5;66;03m#merge\u001b[39;00m\n",
      "Cell \u001b[1;32mIn[202], line 9\u001b[0m, in \u001b[0;36mfusion\u001b[1;34m(tab)\u001b[0m\n\u001b[0;32m      7\u001b[0m     right_arr \u001b[38;5;241m=\u001b[39m tab[\u001b[38;5;28mlen\u001b[39m(tab)\u001b[38;5;241m/\u001b[39m\u001b[38;5;241m/\u001b[39m\u001b[38;5;241m2\u001b[39m:]\n\u001b[0;32m      8\u001b[0m \u001b[38;5;66;03m#recursion\u001b[39;00m\n\u001b[1;32m----> 9\u001b[0m \u001b[43mfusion\u001b[49m\u001b[43m(\u001b[49m\u001b[43mleft_arr\u001b[49m\u001b[43m)\u001b[49m\n\u001b[0;32m     10\u001b[0m fusion(right_arr)\n\u001b[0;32m     11\u001b[0m \u001b[38;5;66;03m#merge\u001b[39;00m\n",
      "Cell \u001b[1;32mIn[202], line 9\u001b[0m, in \u001b[0;36mfusion\u001b[1;34m(tab)\u001b[0m\n\u001b[0;32m      7\u001b[0m     right_arr \u001b[38;5;241m=\u001b[39m tab[\u001b[38;5;28mlen\u001b[39m(tab)\u001b[38;5;241m/\u001b[39m\u001b[38;5;241m/\u001b[39m\u001b[38;5;241m2\u001b[39m:]\n\u001b[0;32m      8\u001b[0m \u001b[38;5;66;03m#recursion\u001b[39;00m\n\u001b[1;32m----> 9\u001b[0m fusion(\u001b[43mleft_arr\u001b[49m)\n\u001b[0;32m     10\u001b[0m fusion(right_arr)\n\u001b[0;32m     11\u001b[0m \u001b[38;5;66;03m#merge\u001b[39;00m\n",
      "\u001b[1;31mUnboundLocalError\u001b[0m: cannot access local variable 'left_arr' where it is not associated with a value"
     ]
    }
   ],
   "source": [
    "assert fusion_1([3, 5], [2, 5]) == [2, 3, 5, 5]\n",
    "assert fusion_1([-2, 4], [-3, 5, 10]) == [-3, -2, 4, 5, 10]\n",
    "assert fusion_1([4], [2, 6]) == [2, 4, 6]\n",
    "assert fusion_1([], []) == []\n",
    "assert fusion_1([1, 2, 3], []) == [1, 2, 3]"
   ]
  },
  {
   "cell_type": "markdown",
   "id": "080d3db2",
   "metadata": {},
   "source": [
    "## S_30.2\n",
    "\n",
    "Le but de cet exercice est d’écrire une fonction récursive `traduire_romain` qui prend\n",
    "en paramètre une chaîne de caractères, non vide, représentant un nombre écrit en\n",
    "chiffres romains et qui renvoie son écriture décimale.\n",
    "\n",
    "\n",
    "Les chiffres romains considérés sont : I, V, X, L, C, D et M. Ils représentent\n",
    "respectivement les nombres 1, 5, 10, 50, 100, 500, et 1000 en base dix.\n",
    "\n",
    "\n",
    "On dispose d’un dictionnaire `romains` dont les clés sont les caractères apparaissant\n",
    "dans l’écriture en chiffres romains et les valeurs sont les nombres entiers associés en\n",
    "écriture décimale :\n",
    "\n",
    "\n",
    "`romains = {\"I\":1, \"V\":5, \"X\":10, \"L\":50, \"C\":100, \"D\":500, \"M\":1000}`\n",
    "\n",
    "\n",
    "Le code de la fonction `traduire_romain` fournie repose sur le\n",
    "principe suivant :\n",
    "\n",
    "- la valeur d’un caractère est ajoutée à la valeur du reste de la chaîne si ce\n",
    "caractère a une valeur supérieure (ou égale) à celle du caractère qui le suit ;\n",
    "\n",
    "- la valeur d’un caractère est retranchée à la valeur du reste de la chaîne si ce\n",
    "caractère a une valeur strictement inférieure à celle du caractère qui le suit.\n",
    "\n",
    "Ainsi, XIV correspond au nombre 10 + 5 - 1 puisque :\n",
    "\n",
    "- la valeur de X (10) est supérieure à celle de I (1), on ajoute donc 10 à la valeur du\n",
    "reste de la chaîne, c’est-à-dire IV ;\n",
    "\n",
    "- la valeur de I (1) est strictement inférieure à celle de V (5), on soustrait donc 1 à\n",
    "la valeur du reste de la chaîne, c’est-à-dire V.\n",
    "\n",
    "On rappelle que pour priver une chaîne de caractères de son premier caractère, on\n",
    "utilisera l’instruction :\n",
    "\n",
    "`nom_de_variable[1:]`\n",
    "\n",
    "Par exemple, si la variable `mot` contient la chaîne `\"CDI\"`, `mot[1:]` renvoie `\"DI\"`.\n",
    "\n",
    "```python linenums='1'\n",
    "\n"
   ]
  },
  {
   "cell_type": "code",
   "execution_count": 181,
   "id": "81bf000e",
   "metadata": {},
   "outputs": [],
   "source": [
    "romains = {\"I\":1, \"V\":5, \"X\":10, \"L\":50, \"C\":100, \"D\":500, \"M\":1000}\n"
   ]
  },
  {
   "cell_type": "code",
   "execution_count": 195,
   "id": "af3fe526",
   "metadata": {},
   "outputs": [
    {
     "data": {
      "text/plain": [
       "2024"
      ]
     },
     "execution_count": 195,
     "metadata": {},
     "output_type": "execute_result"
    }
   ],
   "source": [
    "def traduire_romain(nombre):\n",
    "    \"\"\" Renvoie l’écriture décimale du nombre donné en chiffres\n",
    "    romains \"\"\"\n",
    "    if len(nombre) == 1:\n",
    "        return romains[nombre]\n",
    "    elif romains[nombre[0]] >= romains[nombre[1]]:\n",
    "        return romains[nombre[0]] + traduire_romain(nombre[1:])\n",
    "    else:\n",
    "        return traduire_romain(nombre[1:]) - romains[nombre[0]]\n",
    "\n",
    "traduire_romain(\"MMXXIV\")"
   ]
  },
  {
   "cell_type": "markdown",
   "id": "ea3281e0",
   "metadata": {},
   "source": [
    "``` python >>> traduire_romain(\"XIV\")\n",
    "14\n",
    ">>> traduire_romain(\"CXLII\")\n",
    "142\n",
    ">>> traduire_romain(\"MMXXIV\")\n",
    "2024"
   ]
  },
  {
   "cell_type": "code",
   "execution_count": null,
   "id": "a461f111",
   "metadata": {},
   "outputs": [],
   "source": []
  },
  {
   "cell_type": "markdown",
   "id": "36bd4b11",
   "metadata": {},
   "source": [
    "## S_31.1\n",
    "\n",
    "Programmer la fonction `multiplication`, prenant en paramètres deux nombres entiers relatifs\n",
    "`n1` et `n2`, et qui renvoie le produit de ces deux nombres.\n",
    "\n",
    "Les seules opérations autorisées sont l’addition et la soustraction.\n",
    "\n",
    "```python\n",
    ">>> multiplication(3, 5)\n",
    "15\n",
    ">>> multiplication(-4, -8)\n",
    "32\n",
    ">>> multiplication(-2, 6)\n",
    "-12\n",
    ">>> multiplication(-2, 0)\n",
    "0\n",
    "```"
   ]
  },
  {
   "cell_type": "code",
   "execution_count": 209,
   "id": "1176867d",
   "metadata": {},
   "outputs": [
    {
     "data": {
      "text/plain": [
       "0"
      ]
     },
     "execution_count": 209,
     "metadata": {},
     "output_type": "execute_result"
    }
   ],
   "source": [
    "def multiplication(n1,n2):\n",
    "    count = 0\n",
    "    if n1 < 0 and n2 < 0:\n",
    "        n1 = abs(n1)\n",
    "        n2 = abs(n2) \n",
    "    for i in range(n2):\n",
    "        count += n1\n",
    "    return count\n",
    "multiplication(2,0)"
   ]
  },
  {
   "cell_type": "markdown",
   "id": "6c647998",
   "metadata": {},
   "source": [
    "## S_31.2\n",
    "\n",
    "On s’intéresse dans cet exercice à la recherche dichotomique dans un tableau trié d’en-\n",
    "tiers.\n",
    "Compléter la fonction suivante en respectant la spécification.\n",
    "\n"
   ]
  },
  {
   "cell_type": "code",
   "execution_count": 9,
   "id": "62df5156",
   "metadata": {},
   "outputs": [
    {
     "data": {
      "text/plain": [
       "False"
      ]
     },
     "execution_count": 9,
     "metadata": {},
     "output_type": "execute_result"
    }
   ],
   "source": [
    "def dichotomie(tab, x):\n",
    "    \"\"\"\n",
    "    tab : tableau d'entiers trié dans l'ordre croissant\n",
    "    x : nombre entier\n",
    "    La fonction renvoie True si tab contient x et False sinon\n",
    "    \"\"\"\n",
    "    debut = 0\n",
    "    fin = len(tab) - 1\n",
    "    while debut <= fin:\n",
    "        m = (debut + fin) // 2\n",
    "        if x == tab[m]:\n",
    "            return True\n",
    "        if x > tab[m]:\n",
    "            debut = m + 1\n",
    "        else:\n",
    "            fin =  m - 1\n",
    "    return False\n",
    "dichotomie([15, 16, 18, 19, 23, 24, 28, 29, 31, 33],27)"
   ]
  },
  {
   "cell_type": "markdown",
   "id": "98455636",
   "metadata": {},
   "source": [
    "``` python >>> dichotomie([15, 16, 18, 19, 23, 24, 28, 29, 31, 33],28)\n",
    "True\n",
    ">>> dichotomie([15, 16, 18, 19, 23, 24, 28, 29, 31, 33],27)\n",
    "False"
   ]
  },
  {
   "cell_type": "markdown",
   "id": "968440e3",
   "metadata": {},
   "source": [
    "## S_32.1\n",
    "\n",
    "L'opérateur « ou exclusif » entre deux bits renvoie 0 si les deux bits sont égaux et 1 s'ils sont\n",
    "différents. Il est symbolisé par le caractère ⊕.\n",
    "Ainsi :\n",
    "\n",
    "- 0 ⊕ 0 = 0\n",
    "- 0 ⊕ 1 = 1\n",
    "- 1 ⊕ 0 = 1\n",
    "- 1 ⊕ 1 = 0\n",
    "\n",
    "Écrire une fonction `ou_exclusif` qui prend en paramètres deux tableaux de 0 ou de 1 de\n",
    "même longueur et qui renvoie un tableau où l’élément situé à position `i` est le résultat, par\n",
    "l’opérateur « ou exclusif », des éléments à la position `i` des tableaux passés en paramètres.\n",
    "\n",
    "```python\n",
    ">>> ou_exclusif([1, 0, 1, 0, 1, 1, 0, 1], [0, 1, 1, 1, 0, 1, 0, 0])\n",
    "[1, 1, 0, 1, 1, 0, 0, 1]\n",
    ">>> ou_exclusif([1, 1, 0, 1], [0, 0, 1, 1])\n",
    "[1, 1, 1, 0]\n",
    "```"
   ]
  },
  {
   "cell_type": "code",
   "execution_count": 12,
   "id": "50eb0791",
   "metadata": {},
   "outputs": [],
   "source": [
    "def ou_exclusif(tab1,tab2):\n",
    "    tab  = []\n",
    "    for i in range(len(tab1)):\n",
    "        tab.append(tab1[i] ^ tab2[i])\n",
    "    return tab"
   ]
  },
  {
   "cell_type": "code",
   "execution_count": 13,
   "id": "452b821c",
   "metadata": {},
   "outputs": [],
   "source": [
    "assert ou_exclusif([1, 0, 1, 0, 1, 1, 0, 1], [0, 1, 1, 1, 0, 1, 0, 0]) == [1, 1, 0, 1, 1, 0, 0, 1]\n",
    "assert ou_exclusif([1, 1, 0, 1], [0, 0, 1, 1]) == [1, 1, 1, 0]"
   ]
  },
  {
   "cell_type": "markdown",
   "id": "77eb02df",
   "metadata": {},
   "source": [
    "## S_32.2\n",
    "Dans cet exercice, on appelle carré d’ordre $n$ un tableau de $n$ lignes et $n$ colonnes dont chaque case contient un entier naturel.\n",
    "\n",
    "Exemples :\n",
    "\n",
    "<div align=\"center\">\n",
    "    <img src=\"https://glassus.github.io/terminale_nsi/T6_6_Epreuve_pratique/data2023/35_carre.png\">\n",
    "</div>\n",
    "\n",
    "Un carré est dit semimagique lorsque les sommes des éléments situés sur chaque ligne, chaque\n",
    "colonne sont égales.\n",
    "\n",
    "- Ainsi c2 et c3 sont semimagiques car la somme de chaque\n",
    "ligne, chaque colonne et chaque diagonale est égale à 8 pour c2 et 12 pour c3.\n",
    "\n",
    "- Le carre c3bis n'est pas semimagique car la somme de la première ligne est égale à 15 alors que celle de la deuxième ligne\n",
    "est égale à 10.\n",
    "\n",
    "La classe `Carre` ci-après contient des méthodes qui permettent de manipuler des carrés.\n",
    "\n",
    "- La méthode constructeur crée un carré sous forme d’un tableau à deux dimensions\n",
    "à partir d’une liste d’entiers, et d’un ordre.\n",
    "\n",
    "- La méthode `affiche` permet d’afficher le carré créé.\n",
    "\n",
    "Exemple :\n",
    "\n",
    "```python\n",
    ">>> lst_c3 = [3, 4, 5, 4, 4, 4, 5, 4, 3]\n",
    ">>> c3 = Carre(lst_c3, 3)\n",
    ">>> c3.affiche()\n",
    "[3, 4, 5]\n",
    "[4, 4, 4]\n",
    "[5, 4, 3]"
   ]
  },
  {
   "cell_type": "code",
   "execution_count": 20,
   "id": "f06f701a",
   "metadata": {},
   "outputs": [
    {
     "name": "stdout",
     "output_type": "stream",
     "text": [
      "[[3, 4, 5], [4, 5, 4], [5, 4, 4]]\n"
     ]
    }
   ],
   "source": [
    "lst_c3 = [3, 4, 5, 4, 4, 4, 5, 4, 3]\n",
    "a = [[lst_c3[i+j] for i in range(3)] for j in range(3)]\n",
    "print(a)"
   ]
  },
  {
   "cell_type": "code",
   "execution_count": 21,
   "id": "96f90488",
   "metadata": {},
   "outputs": [],
   "source": [
    "class Carre:\n",
    "    def __init__(self, liste, n):\n",
    "        self.ordre = n\n",
    "        self.tableau = [[liste[i + j * n] for i in range(n)] for j in range(n)]\n",
    "\n",
    "    def affiche(self):\n",
    "        '''Affiche un carré'''\n",
    "        for i in range(self.ordre):\n",
    "            print(self.tableau[i])\n",
    "\n",
    "    def somme_ligne(self, i):\n",
    "        '''Calcule la somme des valeurs de la ligne i'''\n",
    "        somme = 0\n",
    "        for j in range(self.ordre):\n",
    "            somme = somme + self.tableau[i][j]\n",
    "        return somme\n",
    "\n",
    "    def somme_col(self, j):\n",
    "        '''Calcule la somme des valeurs de la colonne j'''\n",
    "        somme = 0\n",
    "        for i in range(self.ordre):\n",
    "            somme = somme + self.tableau[i][j]\n",
    "        return somme\n",
    "\n",
    "    def est_semimagique(self):\n",
    "        s = self.somme_ligne(0)\n",
    "\n",
    "        #test de la somme de chaque ligne\n",
    "        for i in range(self.ordre):\n",
    "            if self.somme_ligne(i) != s:\n",
    "                return False\n",
    "\n",
    "        #test de la somme de chaque colonne\n",
    "        for j in range(self.ordre):\n",
    "            if self.somme_col(i) != s:\n",
    "                return False\n",
    "\n",
    "        return True\n",
    "\n"
   ]
  },
  {
   "cell_type": "code",
   "execution_count": 25,
   "id": "5a2b98bb",
   "metadata": {},
   "outputs": [
    {
     "name": "stdout",
     "output_type": "stream",
     "text": [
      "[3, 4, 5]\n",
      "[4, 4, 4]\n",
      "[5, 4, 3]\n",
      "True\n",
      "[1, 7]\n",
      "[7, 1]\n",
      "True\n",
      "[2, 9, 4]\n",
      "[7, 0, 3]\n",
      "[6, 1, 8]\n",
      "False\n"
     ]
    }
   ],
   "source": [
    "lst_c3 = [3, 4, 5, 4, 4, 4, 5, 4, 3]\n",
    "c3 = Carre(lst_c3, 3)\n",
    "c3.affiche()\n",
    "print(c3.est_semimagique())\n",
    "lst_c2 = [1,7,7,1]\n",
    "c2 = Carre(lst_c2,2)\n",
    "c2.affiche()\n",
    "print(c2.est_semimagique())\n",
    "lst_c3_bis = [2,9,4,7,0,3,6,1,8]\n",
    "c3_bis = Carre(lst_c3_bis,3)\n",
    "c3_bis.affiche()\n",
    "print(c3_bis.est_semimagique())\n"
   ]
  },
  {
   "cell_type": "markdown",
   "id": "31656206",
   "metadata": {},
   "source": [
    "Tester la méthode est_semimagique sur les carrés c2, c3 et c3bis. ```\n",
    "\n"
   ]
  },
  {
   "cell_type": "markdown",
   "id": "4ceb1a87",
   "metadata": {},
   "source": [
    "## S_33.1\n",
    "\n",
    "Programmer une fonction `renverse`, prenant en paramètre une chaîne de caractères `mot` et renvoie cette chaîne de caractères en ordre inverse.\n",
    "\n",
    "Exemple :\n",
    "\n",
    "```python\n",
    ">>> renverse(\"\")\n",
    "\"\"\n",
    ">>> renverse(\"abc\")\n",
    "\"cba\"\n",
    ">>> renverse(\"informatique\")\n",
    "\"euqitamrofni\"\n",
    "```"
   ]
  },
  {
   "cell_type": "code",
   "execution_count": 26,
   "id": "7ec15ac1",
   "metadata": {},
   "outputs": [],
   "source": [
    "def renverse(mot):\n",
    "    return mot[::-1]"
   ]
  },
  {
   "cell_type": "code",
   "execution_count": 27,
   "id": "6d51c7ba",
   "metadata": {},
   "outputs": [],
   "source": [
    "assert renverse('') == ''\n",
    "assert renverse('abc') == 'cba'\n",
    "assert renverse('informatique') == 'euqitamrofni'"
   ]
  },
  {
   "cell_type": "markdown",
   "id": "a3a2c19e",
   "metadata": {},
   "source": [
    "## S_33.2\n",
    "\n",
    "Un nombre premier est un nombre entier naturel qui admet exactement deux diviseurs distincts\n",
    "entiers et positifs : 1 et lui-même. \n",
    "\n",
    "Le crible d’Ératosthène permet de déterminer les nombres premiers plus petit qu’un certain\n",
    "nombre `n` fixé. \n",
    "\n",
    "On considère pour cela un tableau `tab` de `n`booléens, initialement tous égaux à `True`, sauf\n",
    "`tab[0]` et `tab[1]` qui valent `False`, 0 et 1 n’étant pas des nombres premiers.  \n",
    "\n",
    "On parcourt alors ce tableau de gauche à droite.  \n",
    "\n",
    "Pour chaque indice `i` :\n",
    "\n",
    "- si `tab[i]` vaut `True` : le nombre `i` est premier et on donne la valeur `False` à toutes les\n",
    "cases du tableau dont l’indice est un multiple de `i`, à partir de `2*i` (c’est-à-dire `2*i`, `3*i` ...).\n",
    "\n",
    "- si `tab[i]` vaut `False` : le nombre `i` n’est pas premier et on n’effectue aucun\n",
    "changement sur le tableau. \n",
    "\n",
    "On dispose de la fonction `crible`, incomplète et donnée ci-dessous, prenant en paramètre un\n",
    "entier `n` strictement positif et renvoyant un tableau contenant tous les nombres premiers plus\n",
    "petits que `n`.\n"
   ]
  },
  {
   "cell_type": "code",
   "execution_count": 2,
   "id": "59a71253",
   "metadata": {},
   "outputs": [
    {
     "data": {
      "text/plain": [
       "[2, 3, 5, 7, 11, 13, 17, 19, 23, 29, 31, 37]"
      ]
     },
     "execution_count": 2,
     "metadata": {},
     "output_type": "execute_result"
    }
   ],
   "source": [
    "def crible(n):\n",
    "    \"\"\"Renvoie un tableau contenant tous les nombres premiers\n",
    "    plus petits que n.\"\"\"\n",
    "    premiers = []\n",
    "    tab = [True] * n\n",
    "    tab[0], tab[1] = False, False\n",
    "    for i in range(n):\n",
    "        if tab[i]:\n",
    "            premiers.append(i)\n",
    "            multiple = i\n",
    "            while multiple < n:\n",
    "                tab[multiple] = False \n",
    "                multiple = multiple + i\n",
    "    return premiers\n",
    "crible(40)"
   ]
  },
  {
   "cell_type": "markdown",
   "id": "78d0505c",
   "metadata": {},
   "source": [
    "``` python >>> crible(40)\n",
    "[2, 3, 5, 7, 11, 13, 17, 19, 23, 29, 31, 37]\n",
    ">>> crible(5)\n",
    "[2, 3]"
   ]
  },
  {
   "cell_type": "markdown",
   "id": "c84b7751",
   "metadata": {},
   "source": [
    "## S_34.1\n",
    "\n",
    "Le nombre d’occurrences d’un caractère dans une chaîne de caractère est le nombre\n",
    "d’apparitions de ce caractère dans la chaîne.\n",
    "\n",
    "Exemples :\n",
    "\n",
    "- le nombre d’occurrences du caractère `‘o’` dans `‘bonjour’` est 2 ;\n",
    "- le nombre d’occurrences du caractère `‘b’` dans `‘Bébé’` est 1 ;\n",
    "- le nombre d’occurrences du caractère `‘B’` dans `‘Bébé’` est 1 ;\n",
    "- le nombre d’occurrences du caractère `‘ ‘` dans `‘Hello world !’` est 2.\n",
    "\n",
    "On cherche les occurrences des caractères dans une phrase. On souhaite stocker ces\n",
    "occurrences dans un dictionnaire dont les clefs seraient les caractères de la phrase et\n",
    "les valeurs le nombre d’occurrences de ces caractères.\n",
    "\n",
    "Par exemple : avec la phrase `'Hello world !'` le dictionnaire est le suivant :\n",
    "\n",
    "`{'H': 1,'e': 1,'l': 3,'o': 2,' ': 2,'w': 1,'r': 1,'d': 1,'!': 1}`\n",
    "\n",
    "*L’ordre des clefs n’a pas d’importance.*\n",
    "\n",
    "Écrire une fonction `nbr_occurrences` prenant comme paramètre une chaîne de\n",
    "caractères `chaine` et renvoyant le dictionnaire des nombres d’occurrences des\n",
    "caractères de cette chaîne.\n"
   ]
  },
  {
   "cell_type": "code",
   "execution_count": 5,
   "id": "739181c8",
   "metadata": {},
   "outputs": [
    {
     "name": "stdout",
     "output_type": "stream",
     "text": [
      "{'H': 1, 'e': 1, 'l': 3, 'o': 2, ' ': 2, 'w': 1, 'r': 1, 'd': 1, '!': 1}\n"
     ]
    }
   ],
   "source": [
    "def chaine(mot):\n",
    "    dic = dict()\n",
    "    for i in range(len(mot)):\n",
    "        dic[mot[i]] = mot.count(mot[i])\n",
    "    return dic\n"
   ]
  },
  {
   "cell_type": "markdown",
   "id": "e993c07a",
   "metadata": {},
   "source": [
    "## S_34.2\n",
    "\n",
    "La fonction `fusion` prend deux tableaux `tab1`, `tab2` (type `list`) d’entiers triés par ordre\n",
    "croissant et les fusionne en un tableau trié `tab12` qu’elle renvoie.\n",
    "\n",
    "Compléter le code de la fonction `fusion` ci-dessous.\n",
    "\n"
   ]
  },
  {
   "cell_type": "code",
   "execution_count": 9,
   "id": "91083563",
   "metadata": {},
   "outputs": [
    {
     "name": "stdout",
     "output_type": "stream",
     "text": [
      "[0, 1, 6, 7, 8, 9, 9, 10, 88]\n"
     ]
    }
   ],
   "source": [
    "def fusion(tab1,tab2):\n",
    "    '''Fusionne deux tableaux triés et renvoie le nouveau tableau trié.'''\n",
    "    n1 = len(tab1)\n",
    "    n2 = len(tab2)\n",
    "    tab12 = [0] * (n1 + n2)\n",
    "    i1 = 0\n",
    "    i2 = 0\n",
    "    i = 0\n",
    "    while i1 < n1 and i2 < n2: \n",
    "        if tab1[i1] < tab2[i2]:\n",
    "            tab12[i] = tab1[i1]\n",
    "            i1 += 1 \n",
    "        else:\n",
    "            tab12[i] = tab2[i2]\n",
    "            i2 += 1 \n",
    "        i += 1\n",
    "    while i1 < n1:\n",
    "        tab12[i] = tab1[i1] \n",
    "        i1 = i1 + 1\n",
    "        i += 1 \n",
    "    while i2 < n2:\n",
    "        tab12[i] = tab2[i2] \n",
    "        i2 = i2 + 1\n",
    "        i += 1 \n",
    "    return tab12\n",
    "\n"
   ]
  },
  {
   "cell_type": "markdown",
   "id": "5cf03e1e",
   "metadata": {},
   "source": [
    "``` python >>> fusion([1, 6, 10],[0, 7, 8, 9])\n",
    "[0, 1, 6, 7, 8, 9, 10]"
   ]
  },
  {
   "cell_type": "markdown",
   "id": "43d12c64",
   "metadata": {},
   "source": [
    "## S_35.1\n",
    "\n",
    "On a relevé les valeurs moyennes annuelles des températures à Paris pour la période\n",
    "allant de 2013 à 2019. Les résultats ont été récupérés sous la forme de deux tableaux (de type\n",
    "`list`) : l’un pour les températures, l’autre pour les années :\n",
    "\n",
    "```python\n",
    "t_moy = [14.9, 13.3, 13.1, 12.5, 13.0, 13.6, 13.7]\n",
    "annees = [2013, 2014, 2015, 2016, 2017, 2018, 2019]\n",
    "```\n",
    "\n",
    "Écrire la fonction `annee_temperature_minimale` qui prend en paramètres ces deux\n",
    "tableaux et qui renvoie la plus petite valeur relevée au cours de la période et l’année correspondante.\n",
    "\n",
    "On suppose que la température minimale est atteinte une seule fois.\n",
    "\n",
    "Exemple :\n",
    "```python\n",
    ">>> annee_temperature_minimale(t_moy, annees)\n",
    "(12.5, 2016)\n",
    "```\n"
   ]
  },
  {
   "cell_type": "code",
   "execution_count": 12,
   "id": "463ab1ae",
   "metadata": {},
   "outputs": [
    {
     "data": {
      "text/plain": [
       "(12.5, 2016)"
      ]
     },
     "execution_count": 12,
     "metadata": {},
     "output_type": "execute_result"
    }
   ],
   "source": [
    "def annee_temperature_minimal(t_moy,annees):\n",
    "    min_temp = t_moy.index(min(t_moy))\n",
    "    return (t_moy[min_temp],annees[min_temp])\n",
    "\n",
    "annee_temperature_minimal(t_moy = [14.9, 13.3, 13.1, 12.5, 13.0, 13.6, 13.7],annees = [2013, 2014, 2015, 2016, 2017, 2018, 2019])"
   ]
  },
  {
   "cell_type": "markdown",
   "id": "fa9fa5f0",
   "metadata": {},
   "source": [
    "## S_35.2\n",
    "\n",
    "Un mot palindrome peut se lire de la même façon de gauche à droite ou de droite à gauche :\n",
    "*kayak*, *radar*, et *non* sont des mots palindromes.\n",
    "\n",
    "De même certains nombres ont des écritures décimales qui sont des palindromes : 33, 121,\n",
    "345543.\n",
    "\n",
    "\n",
    "L’objectif de cet exercice est d’obtenir un programme Python permettant de tester si un\n",
    "nombre est un nombre palindrome.\n",
    "\n",
    "Pour remplir cette tâche, on vous demande de compléter le code des trois fonctions ci-\n",
    "dessous qui s’appuient les unes sur les autres :\n",
    "\n",
    "- `inverse_chaine` : qui renvoie une chaîne de caractères inversée ;\n",
    "- `est_palindrome` : qui teste si une chaîne de caractères est un palindrome ;\n",
    "- `est_nbre_palindrome` : qui teste si un nombre est un palindrome.\n",
    "\n",
    "\n",
    "Compléter le code des trois fonctions ci-dessous.\n"
   ]
  },
  {
   "cell_type": "code",
   "execution_count": 23,
   "id": "f1349c17",
   "metadata": {},
   "outputs": [],
   "source": [
    "def inverse_chaine(chaine):\n",
    "    '''Retourne la chaine inversée'''\n",
    "    resultat = '' \n",
    "    for caractere in chaine:\n",
    "        resultat =  caractere + resultat\n",
    "    return resultat\n",
    "\n",
    "def est_palindrome(chaine):\n",
    "    '''Renvoie un booléen indiquant si la chaine ch\n",
    "    est un palindrome'''\n",
    "    inverse = inverse_chaine(chaine)\n",
    "    return inverse == chaine \n",
    "\n",
    "def est_nbre_palindrome(nbre):\n",
    "    '''Renvoie un booléen indiquant si le nombre nbre \n",
    "    est un palindrome'''\n",
    "    chaine = str(nbre) \n",
    "    return est_palindrome(chaine)"
   ]
  },
  {
   "cell_type": "markdown",
   "id": "9743cc91",
   "metadata": {},
   "source": [
    "``` python >>> inverse_chaine('bac')\n",
    "'cab'\n",
    ">>> est_palindrome('NSI')\n",
    "False\n",
    ">>> est_palindrome('ISN-NSI')\n",
    "True\n",
    ">>> est_nbre_palindrome(214312)\n",
    "False\n",
    ">>> est_nbre_palindrome(213312)\n",
    "True"
   ]
  },
  {
   "cell_type": "markdown",
   "id": "f174f220",
   "metadata": {},
   "source": [
    "## S_36.1\n",
    "\n",
    "Écrire une fonction `occurrences(caractere, chaine)` qui prend en paramètres\n",
    "`caractere`, une chaîne de caractère de longueur 1, et `chaine`, une chaîne de carac-\n",
    "tères.\n",
    "Cette fonction renvoie le nombre d’occurrences de `caractere` dans `chaine`, c’est-à-dire\n",
    "le nombre de fois où `caractere` apparaît dans `chaine`.\n",
    "\n",
    "Exemples :\n",
    "```python\n",
    ">>> occurrences('e', \"sciences\")\n",
    "2\n",
    ">>> occurrences('i',\"mississippi\")\n",
    "4\n",
    ">>> occurrences('a',\"mississippi\")\n",
    "0\n",
    "```"
   ]
  },
  {
   "cell_type": "code",
   "execution_count": 24,
   "id": "9b7ca097",
   "metadata": {},
   "outputs": [],
   "source": [
    "def occurrences(char,chaine):\n",
    "    return chaine.count(char)"
   ]
  },
  {
   "cell_type": "code",
   "execution_count": 25,
   "id": "93ccf015",
   "metadata": {},
   "outputs": [],
   "source": [
    "assert occurrences('e', \"sciences\") == 2\n",
    "assert occurrences('i',\"mississippi\") == 4\n",
    "assert occurrences('a',\"mississippi\") == 0"
   ]
  },
  {
   "cell_type": "markdown",
   "id": "3e0e538c",
   "metadata": {},
   "source": [
    "## S_36.2\n",
    "\n",
    "On s’intéresse à un algorithme récursif qui permet de rendre la monnaie à partir d’une\n",
    "liste donnée de valeurs de pièces et de billets.\n",
    "\n",
    "Le système monétaire est donné sous forme d’une liste `valeurs = [100, 50, 20,\n",
    "10, 5, 2, 1]`. On suppose que les pièces et billets sont disponibles sans limitation.\n",
    "\n",
    "\n",
    "On cherche à donner la liste des valeurs à rendre pour une somme donnée en\n",
    "argument. L’algorithme utilisé est de type glouton.\n",
    "\n",
    "Compléter le code Python ci-dessous de la fonction `rendu_glouton` qui implémente cet\n",
    "algorithme et renvoie la liste des pièces à rendre.\n",
    "\n"
   ]
  },
  {
   "cell_type": "code",
   "execution_count": 34,
   "id": "b966189e",
   "metadata": {},
   "outputs": [],
   "source": [
    "valeurs = [ 50, 20, 10, 5, 2, 1]\n",
    "\n",
    "def rendu_glouton(a_rendre, rang):\n",
    "    if a_rendre == 0:\n",
    "        return []\n",
    "    v = valeurs[rang]\n",
    "    if v <= a_rendre :\n",
    "        return [v] + rendu_glouton(a_rendre - v, rang)\n",
    "    else :\n",
    "        return rendu_glouton(a_rendre, rang+1)\n",
    "\n"
   ]
  },
  {
   "cell_type": "markdown",
   "id": "f90d4870",
   "metadata": {},
   "source": [
    "``` python >>>rendu_glouton(67, 0)\n",
    "[50, 10, 5, 2]\n",
    ">>>rendu_glouton(291, 0)\n",
    "[100, 100, 50, 20, 20, 1]\n",
    ">>> rendu_glouton(291,1) # si on ne dispose pas de billets de 100\n",
    "[50, 50, 50, 50, 50, 20, 20, 1]"
   ]
  },
  {
   "cell_type": "markdown",
   "id": "19f6f612",
   "metadata": {},
   "source": [
    "## S_37.1\n",
    "\n",
    "Programmer la fonction ```moyenne```   prenant en paramètre un tableau d'entiers ```tab``` (de type `list`) qui renvoie la moyenne de ses éléments si le tableau est non vide. Proposer une\n",
    "façon de traiter le cas où le tableau passé en paramètre est vide.\n",
    "\n",
    "Dans cet exercice, on s’interdira d’utiliser la fonction Python `sum`.\n",
    "\n",
    "Exemples :\n",
    "```python\n",
    ">>> moyenne([5,3,8])\n",
    "5.333333333333333\n",
    ">>> moyenne([1,2,3,4,5,6,7,8,9,10])\n",
    "5.5\n",
    ">>> moyenne([])\n",
    "# Comportement différent suivant le traitement proposé.\n",
    "```"
   ]
  },
  {
   "cell_type": "code",
   "execution_count": 36,
   "id": "0e5d5cd2",
   "metadata": {},
   "outputs": [
    {
     "data": {
      "text/plain": [
       "5.5"
      ]
     },
     "execution_count": 36,
     "metadata": {},
     "output_type": "execute_result"
    }
   ],
   "source": [
    "def moyenne(tab):\n",
    "    sum = 0\n",
    "    for i in tab:\n",
    "        sum += i\n",
    "    return sum/len(tab) if len(tab) !=0 else None\n",
    "moyenne([1,2,3,4,5,6,7,8,9,10])"
   ]
  },
  {
   "cell_type": "markdown",
   "id": "cc019ccf",
   "metadata": {},
   "source": [
    "## S_37.2\n",
    "\n",
    "On considère un tableau d'entiers `tab` (de type `list`) dont les éléments sont des `0` ou des `1`). On se propose de trier ce tableau selon l'algorithme suivant : à chaque étape du tri, le tableau est constitué de trois zones consécutives, la première ne contenant que des `0`,\n",
    "la seconde n'étant pas triée et la dernière ne contenant que des `1`.\n",
    "Au départ, les zones ne contenant que des `0` et des `1` sont vides.\n",
    "\n",
    "\n",
    "<table>\n",
    "<tr>\n",
    "<td>Zone de 0</td><td>Zone non triée</td><td>Zone de 1</td>\n",
    "</tr>\n",
    "</table>\n",
    "\n",
    "Tant que la zone non triée n'est pas réduite à un seul élément, on regarde son premier\n",
    "élément :\n",
    "\n",
    "- si cet élément vaut 0, on considère qu'il appartient désormais à la zone ne contenant\n",
    "que des 0 ;\n",
    "- si cet élément vaut 1, il est échangé avec le dernier élément de la zone non triée et on\n",
    "considère alors qu’il appartient à la zone ne contenant que des 1.\n",
    "\n",
    "Dans tous les cas, la longueur de la zone non triée diminue de 1.\n",
    "\n",
    "Compléter la fonction `tri` suivante :\n"
   ]
  },
  {
   "cell_type": "code",
   "execution_count": 42,
   "id": "6118dc5f",
   "metadata": {},
   "outputs": [
    {
     "name": "stdout",
     "output_type": "stream",
     "text": [
      "[0, 0, 0, 0, 0, 0, 0, 0, 0, 1, 1, 1, 1, 1, 1, 1, 1, 1, 1, 1, 1]\n"
     ]
    }
   ],
   "source": [
    "def tri(tab):\n",
    "    '''tab est un tableau d'entiers contenant des 0 et des 1.\n",
    "    La fonction trie ce tableau en plaçant tous les 0 à gauche'''\n",
    "    i = 0 # premier indice de la zone non triée \n",
    "    j = len(tab) - 1 # dernier indice de la zone non triée \n",
    "    while i < j:\n",
    "        if tab[i] == 0:\n",
    "            i += 1 \n",
    "        else:\n",
    "            valeur = tab[j]\n",
    "            tab[j] = tab[i]\n",
    "            tab[i] = valeur\n",
    "            j -= 1\n",
    "    return tab\n",
    "print(tri(tab))"
   ]
  },
  {
   "cell_type": "markdown",
   "id": "34103c3a",
   "metadata": {},
   "source": [
    "``` python >>> \n",
    "tab = [0,1,0,1,0,1,0,1,0]\n",
    ">>> tri(tab)\n",
    ">>> tab\n",
    "[0, 0, 0, 0, 0, 1, 1, 1, 1]"
   ]
  },
  {
   "cell_type": "markdown",
   "id": "cb0c88ba",
   "metadata": {},
   "source": [
    "## S_38.1\n",
    "\n",
    "Écrire une fonction `indices_maxi` qui prend en paramètre un tableau non vide de nombre\n",
    "entiers `tab`, représenté par une liste Python et qui renvoie un tuple (`maxi`, `indices`)\n",
    "où :\n",
    "\n",
    "- `maxi` est le plus grand élément du tableau `tab` ;\n",
    "- `indices` est une liste Python contenant les indices du tableau `tab` où apparaît ce\n",
    "plus grand élément.\n",
    "\n",
    "Exemple :\n",
    "```python\n",
    ">>> indices_maxi([1, 5, 6, 9, 1, 2, 3, 7, 9, 8])\n",
    "(9, [3, 8])\n",
    ">>> indices_maxi([7])\n",
    "(7, [0])\n",
    "```\n"
   ]
  },
  {
   "cell_type": "code",
   "execution_count": 2,
   "id": "adf29ecb",
   "metadata": {},
   "outputs": [],
   "source": [
    "def indices_maxi(tab):\n",
    "    maxi = max(tab)\n",
    "    lst = []\n",
    "    for i,v in enumerate(tab):\n",
    "        if v == maxi:\n",
    "            lst.append(i)\n",
    "    return (maxi,lst)"
   ]
  },
  {
   "cell_type": "code",
   "execution_count": null,
   "id": "99573549",
   "metadata": {},
   "outputs": [],
   "source": [
    "assert indices_maxi([1, 5, 6, 9, 1, 2, 3, 7, 9, 8]) == (9, [3, 8])\n",
    "assert indices_maxi([7]) == (7, [0])"
   ]
  },
  {
   "cell_type": "markdown",
   "id": "319f4ff9",
   "metadata": {},
   "source": [
    "## S_38.2\n",
    "\n",
    "Cet exercice utilise des piles qui seront représentées par des listes Python.\n",
    "\n",
    "Si `pile` est une pile, alors `pile == []` indique si la pile est vide, `pile.pop()` retire\n",
    "et renvoie le sommet de la pile et `pile.append(v)` ajoute la valeur `v` au sommet de la\n",
    "pile.\n",
    "\n",
    "Si on considère qu’une fonction manipule une pile, elle ne peut pas utiliser d’autres opéra-\n",
    "tions que celles décrites ci-dessus.\n",
    "\n",
    "On cherche à écrire une fonction `positifs` qui prend une pile de nombres entiers en\n",
    "paramètre et qui renvoie une nouvelle pile contenant les entiers positifs de la pile initiale,\n",
    "dans le même ordre, quitte à modifier la pile initiale.\n",
    "\n",
    "Pour cela, on va également écrire une fonction `renverse` qui prend une pile en paramètre\n",
    "et qui renvoie une nouvelle pile contenant les mêmes éléments que la pile initiale, mais\n",
    "dans l’ordre inverse. Cette fonction sera également amenée à modifier la pile passée en\n",
    "paramètre.\n",
    "\n",
    "\n",
    "Compléter le code Python des fonctions `renverse` et `positifs` ci-après\n"
   ]
  },
  {
   "cell_type": "code",
   "execution_count": 8,
   "id": "26dfe00e",
   "metadata": {},
   "outputs": [],
   "source": [
    "def renverse(pile):\n",
    "    '''renvoie une pile contenant les mêmes éléments que pile,\n",
    "    mais dans l'ordre inverse.\n",
    "    Cette fonction détruit pile.'''\n",
    "    pile_inverse = []\n",
    "    while pile != []:\n",
    "        pile_inverse.append(pile.pop()) \n",
    "    return pile_inverse\n",
    "\n",
    "\n",
    "def positifs(pile):\n",
    "    '''renvoie une pile contenant les éléments positifs de pile,\n",
    "    dans le même ordre. Cette fonction détruit pile.'''\n",
    "    pile_positifs = []\n",
    "    while pile != []:\n",
    "        a = pile.pop() \n",
    "        if a >= 0: \n",
    "            pile_positifs.append(a)\n",
    "    return renverse(pile_positifs)\n",
    "\n"
   ]
  },
  {
   "cell_type": "markdown",
   "id": "b8eb4eff",
   "metadata": {},
   "source": [
    "``` python \n",
    ">>> renverse([1, 2, 3, 4, 5])\n",
    "[5, 4, 3, 2, 1]\n",
    ">>> positifs([-1, 0, 5, -3, 4, -6, 10, 9, -8])\n",
    "[0, 5, 4, 10, 9]\n",
    ">>> positifs([-2])\n",
    "[]"
   ]
  },
  {
   "cell_type": "markdown",
   "id": "63bcc6c2",
   "metadata": {},
   "source": [
    "## S_39.1\n",
    "\n",
    "Écrire une fonction `recherche` qui prend en paramètres `elt` un nombre entier et `tab`\n",
    "un tableau de nombres entiers (type ```list``` ), et qui renvoie l’indice de la dernière occurrence de `elt` dans `tab` si `elt` est dans `tab` et `None` sinon.\n",
    "\n",
    "Exemples :\n",
    "```python\n",
    ">>> recherche(1, [2, 3, 4]) # renvoie None\n",
    ">>> recherche(1, [10, 12, 1, 56])\n",
    "2\n",
    ">>> recherche(1, [1, 0, 42, 7])\n",
    "0\n",
    ">>> recherche(1, [1, 50, 1])\n",
    "2\n",
    ">>> recherche(1, [8, 1, 10, 1, 7, 1, 8])\n",
    "5\n",
    "```"
   ]
  },
  {
   "cell_type": "code",
   "execution_count": 15,
   "id": "533dcd7f",
   "metadata": {},
   "outputs": [],
   "source": [
    "def recherche(elt,tab):\n",
    "    tab_reversed = tab[::-1]\n",
    "    return len(tab ) - 1 - tab_reversed.index(elt) if elt in tab_reversed else None\n",
    "\n"
   ]
  },
  {
   "cell_type": "code",
   "execution_count": 14,
   "id": "775f5482",
   "metadata": {},
   "outputs": [],
   "source": [
    "assert recherche(1, [2, 3, 4]) == None # renvoie None\n",
    "assert recherche(1, [10, 12, 1, 56]) == 2\n",
    "assert recherche(1, [1, 0, 42, 7]) == 0\n",
    "assert recherche(1, [1, 50, 1]) == 2\n",
    "assert recherche(1, [8, 1, 10, 1, 7, 1, 8]) == 5"
   ]
  },
  {
   "cell_type": "markdown",
   "id": "82976781",
   "metadata": {},
   "source": [
    "## S_39.2\n",
    "\n",
    "On définit une classe gérant une adresse IPv4.\n",
    "\n",
    "On rappelle qu’une adresse IPv4 est une adresse de longueur 4 octets, notée en décimale\n",
    "à point, en séparant chacun des octets par un point. On considère un réseau privé avec\n",
    "une plage d’adresses IP de `192.168.0.0` à `192.168.0.255`.\n",
    "\n",
    "On considère que les adresses IP saisies sont valides.\n",
    "\n",
    "Les adresses IP `192.168.0.0` et `192.168.0.255` sont des adresses réservées.\n",
    "\n",
    "Le code ci-dessous implémente la classe `AdresseIP`.\n"
   ]
  },
  {
   "cell_type": "code",
   "execution_count": null,
   "id": "7d9e9ad3",
   "metadata": {},
   "outputs": [],
   "source": [
    "class AdresseIP:\n",
    "    def __init__(self, adresse):\n",
    "        self.adresse = adresse\n",
    "\n",
    "    def liste_octets(self):\n",
    "        \"\"\"renvoie une liste de nombres entiers,\n",
    "        la liste des octets de l'adresse IP\"\"\"\n",
    "        # Note : split découpe la chaine de caractères \n",
    "        # en fonction du séparateur\n",
    "        return [int(i) for i in self.adresse.split(\".\")]\n",
    "\n",
    "    def est_reservee(self):\n",
    "        \"\"\"renvoie True si l'adresse IP est une adresse\n",
    "        réservée, False sinon\"\"\"\n",
    "        reservees = ['192.168.0.0', '192.168.0.255'] \n",
    "        return self.adresse in reservees\n",
    "\n",
    "    def adresse_suivante(self):\n",
    "        \"\"\"renvoie un objet de AdresseIP avec l'adresse\n",
    "        IP qui suit l'adresse self si elle existe et None sinon\"\"\"\n",
    "        octets = self.liste_octets()[3]\n",
    "        if octets == 254: \n",
    "            return None\n",
    "        octet_nouveau = octets + 1\n",
    "        return AdresseIP('192.168.0.' + str(octet_nouveau))\n",
    "    \n",
    "    \n",
    "\n"
   ]
  },
  {
   "cell_type": "code",
   "execution_count": 48,
   "id": "1cf8b686",
   "metadata": {},
   "outputs": [
    {
     "name": "stdout",
     "output_type": "stream",
     "text": [
      "[192, 168, 0, 1]\n",
      "False\n",
      "\n",
      "[192, 168, 0, 0]\n",
      "True\n",
      "\n",
      "[192, 168, 0, 2]\n",
      "False\n",
      "192.168.0.3\n"
     ]
    }
   ],
   "source": [
    "adresse1 = '192.168.0.1'\n",
    "adresse1 = AdresseIP(adresse1)\n",
    "print(adresse1.liste_octets())\n",
    "print(adresse1.est_reservee())\n",
    "print()\n",
    "\n",
    "adresse3 = '192.168.0.0'\n",
    "adresse3 = AdresseIP(adresse3)\n",
    "print(adresse3.liste_octets())\n",
    "print(adresse3.est_reservee())\n",
    "print()\n",
    "\n",
    "adresse2 = '192.168.0.2'\n",
    "adresse2 = AdresseIP(adresse2)\n",
    "print(adresse2.liste_octets())\n",
    "print(adresse2.est_reservee())\n",
    "print(adresse2.adresse_suivante().adresse)\n"
   ]
  },
  {
   "cell_type": "markdown",
   "id": "0fc04f11",
   "metadata": {},
   "source": [
    "Compléter le code ci-dessus et instancier trois objets : adresse1, adresse2, adresse3 avec respectivement les arguments suivants :\n",
    "`192.168.0.1`, `'192.168.0.2'`, `'192.168.0.0'`\n",
    "\n",
    "Vérifier que :"
   ]
  },
  {
   "cell_type": "markdown",
   "id": "67c19e6f",
   "metadata": {},
   "source": [
    "``` python >>> \n",
    "adresse1.liste_octets()\n",
    "[192, 168, 0, 1]\n",
    ">>> adresse1.est_reservee()\n",
    "False\n",
    ">>> adresse3.est_reservee()\n",
    "True\n",
    ">>> adresse2.adresse_suivante().adresse # acces valide à adresse\n",
    "# ici car on sait que l'adresse suivante existe\n",
    "'192.168.0.3'"
   ]
  },
  {
   "cell_type": "markdown",
   "id": "9bbee12c",
   "metadata": {},
   "source": [
    "## S_40.1\n",
    "\n",
    "On considère des tables, c’est-à-dire des tableaux de dictionnaires ayant tous les mêmes\n",
    "clés, qui contiennent des enregistrements relatifs à des animaux hébergés dans un refuge.\n",
    "Les attributs des enregistrements sont `'nom'`, `'espece'`, `'age'`, `'enclos'`.\n",
    "\n",
    " Voici un exemple d'une telle table :\n",
    "\n",
    "```python\n",
    "animaux = [ {'nom':'Medor', 'espece':'chien', 'age':5, 'enclos':2},\n",
    "            {'nom':'Titine', 'espece':'chat', 'age':2, 'enclos':5},\n",
    "            {'nom':'Tom', 'espece':'chat', 'age':7, 'enclos':4},\n",
    "            {'nom':'Belle', 'espece':'chien', 'age':6, 'enclos':3},\n",
    "            {'nom':'Mirza', 'espece':'chat', 'age':6, 'enclos':5}]\n",
    "```\n",
    "\n",
    "Programmer une fonction `selection_enclos` qui :\n",
    "\n",
    "- prend en paramètres :\n",
    "    - une table `animaux` contenant des enregistrements relatifs à des\n",
    "animaux (comme dans l'exemple ci-dessus),\n",
    "    - un numéro d'enclos `num_enclos` ;\n",
    "- renvoie une table contenant les enregistrements de `animaux` dont l'attribut\n",
    "`'enclos'` est `num_enclos`.\n",
    "\n",
    "Exemples avec la table `animaux` ci-dessus :\n",
    "\n",
    "```python\n",
    ">>> selection_enclos(animaux, 5)\n",
    "[{'nom':'Titine', 'espece':'chat', 'age':2, 'enclos':5},\n",
    " {'nom':'Mirza', 'espece':'chat', 'age':6, 'enclos':5}]\n",
    "\n",
    ">>> selection_enclos(animaux, 2)\n",
    "[{'nom':'Medor', 'espece':'chien', 'age':5, 'enclos':2}]\n",
    "\n",
    ">>> selection_enclos(animaux, 7)\n",
    "[]\n",
    "```"
   ]
  },
  {
   "cell_type": "code",
   "execution_count": 49,
   "id": "6110aa69",
   "metadata": {},
   "outputs": [],
   "source": [
    "\n",
    "\n",
    "\n",
    "animaux = [ {'nom':'Medor', 'espece':'chien', 'age':5, 'enclos':2},\n",
    "            {'nom':'Titine', 'espece':'chat', 'age':2, 'enclos':5},\n",
    "            {'nom':'Tom', 'espece':'chat', 'age':7, 'enclos':4},\n",
    "            {'nom':'Belle', 'espece':'chien', 'age':6, 'enclos':3},\n",
    "            {'nom':'Mirza', 'espece':'chat', 'age':6, 'enclos':5}]"
   ]
  },
  {
   "cell_type": "code",
   "execution_count": 50,
   "id": "d7849621",
   "metadata": {},
   "outputs": [
    {
     "data": {
      "text/plain": [
       "[{'nom': 'Titine', 'espece': 'chat', 'age': 2, 'enclos': 5},\n",
       " {'nom': 'Mirza', 'espece': 'chat', 'age': 6, 'enclos': 5}]"
      ]
     },
     "execution_count": 50,
     "metadata": {},
     "output_type": "execute_result"
    }
   ],
   "source": [
    "def selection_enclos(animaux,enclos):\n",
    "    lst = []\n",
    "    for i in animaux:\n",
    "        if i['enclos'] == enclos:\n",
    "            lst.append(i)\n",
    "    return lst\n",
    "\n",
    "selection_enclos(animaux,5)\n"
   ]
  },
  {
   "cell_type": "markdown",
   "id": "bb9026d1",
   "metadata": {},
   "source": [
    "## S_40.2\n",
    "\n",
    "On considère des tableaux de nombres dont tous les éléments sont présents exactement\n",
    "trois fois à la suite, sauf un élément qui est présent une unique fois et que l'on appelle «\n",
    "l'intrus ». Voici quelques exemples :\n",
    "\n",
    "```python\n",
    "tab_a = [3, 3, 3, 9, 9, 9, 1, 1, 1, 7, 2, 2, 2, 4, 4, 4, 8, 8, 8, 5, 5, 5]\n",
    "#l'intrus est 7\n",
    "\n",
    "tab_b = [8, 5, 5, 5, 9, 9, 9, 18, 18, 18, 3, 3, 3]\n",
    "#l'intrus est 8\n",
    "\n",
    "tab_c = [5, 5, 5, 1, 1, 1, 0, 0, 0, 6, 6, 6, 3, 8, 8, 8]\n",
    "#l'intrus est 3\n",
    "\n",
    "On remarque qu'avec de tels tableaux :\n",
    "pour les indices multiples de 3 situés strictement avant l'intrus, l'élément correspondant et son voisin de droite sont égaux,\n",
    "pour les indices multiples de 3 situés après l'intrus, l'élément correspondant et son voisin de droite - s'il existe - sont différents.\n",
    "Ce que l'on peut observer ci-dessous en observant les valeurs des paires de voisins marquées par des caractères ^ :\n",
    "\n",
    "[3, 3, 3, 9, 9, 9, 1, 1, 1, 7, 2, 2, 2, 4, 4, 4, 8, 8, 8, 5, 5, 5]\n",
    " ^  ^     ^  ^     ^  ^     ^  ^     ^  ^     ^  ^     ^  ^     ^\n",
    " 0        3        6        9        12       15       18       21\n",
    "\n",
    "\n",
    "Dans des listes comme ceux ci-dessus, un algorithme récursif pour trouver l'intrus consiste alors à choisir un indice i multiple de 3 situé approximativement au milieu des indices parmi lesquels se trouve l'intrus.\n",
    "\n",
    "Puis, en fonction des valeurs de l'élément d'indice i et de son voisin de droite, à appliquer récursivement l'algorithme à la moitié droite ou à la moitié gauche des indices parmi lesquels se trouve l'intrus.\n",
    "\n",
    "Par exemple, si on s’intéresse à l’indice 12, on voit les valeurs 2 et 4 qui sont différentes : l’intrus est donc à gauche de l’indice 12 (indice 12 compris)\n",
    "\n",
    "En revanche, si on s’intéresse à l’indice 3, on voit les valeurs 9 et 9 qui sont identiques : l’intrus est donc à droite des indices 3-4-5, donc à partir de l’indice 6.\n",
    "\n",
    "Compléter la fonction récursive trouver_intrus proposée page suivante qui met en œuvre cet algorithme.\n"
   ]
  },
  {
   "cell_type": "code",
   "execution_count": 13,
   "id": "77597285",
   "metadata": {},
   "outputs": [],
   "source": [
    "def trouver_intrus(tab, g, d):\n",
    "    '''\n",
    "    Renvoie la valeur de l'intrus situé entre les indices g et d \n",
    "    dans la liste tab où :\n",
    "    tab vérifie les conditions de l'exercice,\n",
    "    g et d sont des multiples de 3.\n",
    "    '''\n",
    "    if g == d:\n",
    "        return tab[g]\n",
    "\n",
    "    else:\n",
    "        nombre_de_triplets = (d - g) // 3\n",
    "        indice = g + 3 * (nombre_de_triplets // 2)\n",
    "        if tab[indice] != tab[indice + 1]:\n",
    "            return trouver_intrus(tab,g,indice)\n",
    "        else:\n",
    "            return trouver_intrus(tab,indice+3,d)\n",
    "        \n",
    "trouver_intrus([3, 3, 3, 9, 9, 9, 1, 1, 1, 7, 2, 2, 2, 4, 4, 4, 8, 8,8, 5, 5, 5], 0, 21)\n",
    "        \n",
    "assert trouver_intrus([3, 3, 3, 9, 9, 9, 1, 1, 1, 7, 2, 2, 2, 4, 4, 4, 8, 8,8, 5, 5, 5], 0, 21) == 7\n",
    "assert trouver_intrus([8, 5, 5, 5, 9, 9, 9, 18, 18, 18, 3, 3, 3], 0, 12) == 8\n",
    "assert trouver_intrus([5, 5, 5, 1, 1, 1, 0, 0, 0, 6, 6, 6, 3, 8, 8, 8], 0, 15) == 3\n"
   ]
  },
  {
   "cell_type": "markdown",
   "id": "dcb2b50c",
   "metadata": {},
   "source": [
    "Exemple:\n",
    "``` python\n",
    ">>> trouver_intrus([3, 3, 3, 9, 9, 9, 1, 1, 1, 7, 2, 2, 2, 4, 4, 4, 8, 8,\n",
    "8, 5, 5, 5], 0, 21)\n",
    "7\n",
    "\n",
    ">>> trouver_intrus([8, 5, 5, 5, 9, 9, 9, 18, 18, 18, 3, 3, 3], 0, 12)\n",
    "8\n",
    "\n",
    ">>> trouver_intrus([5, 5, 5, 1, 1, 1, 0, 0, 0, 6, 6, 6, 3, 8, 8, 8], 0, 15)\n",
    "3\n",
    "```"
   ]
  },
  {
   "cell_type": "markdown",
   "id": "42023fd9",
   "metadata": {},
   "source": [
    "## S_41.1\n",
    "\n",
    "Un arbre binaire est soit vide, représenté en Python par la valeur `None`, soit un nœud,\n",
    "contenant une étiquette et deux sous-arbres gauche et droit et représenté par une instance\n",
    "de la classe `Noeud` donnée ci-dessous.\n",
    "\n",
    "```python\n",
    "class Noeud:\n",
    "    def __init__(self, etiquette, gauche, droit):\n",
    "        self.v = etiquette\n",
    "        self.gauche = gauche\n",
    "        self.droit = droit\n",
    "```\n",
    "\n",
    "<div align=\"center\">\n",
    "    <img src=\"https://glassus.github.io/terminale_nsi/T6_6_Epreuve_pratique/data2023/29_arbre1.png\">\n",
    "</div>\n",
    "\n",
    "\n",
    "L’arbre ci-dessus sera donc implémenté de la manière suivante :\n",
    "```python\n",
    "a = Noeud(1, Noeud(4, None, None), Noeud(0, None, Noeud(7, None, None)))\n",
    "```\n",
    "\n",
    "Écrire une fonction récursive `taille` prenant en paramètre un arbre `a` et qui renvoie la\n",
    "taille de l’arbre que cette instance implémente.\n",
    "\n",
    "Écrire de même une fonction récursive `hauteur` prenant en paramètre un arbre `a` et qui\n",
    "renvoie la hauteur de l’arbre que cette instance implémente.\n",
    "\n",
    "On considère que la hauteur d’un arbre vide est -1 et la taille d’un arbre vide est 0.\n",
    "\n",
    "Exemples :\n",
    "\n",
    "```python\n",
    ">>> hauteur(a)\n",
    "2\n",
    ">>> taille(a)\n",
    "4\n",
    ">>> hauteur(None)\n",
    "-1\n",
    ">>> taille(None)\n",
    "0\n",
    ">>> hauteur(Noeud(1, None, None))\n",
    "0\n",
    ">>> taille(Noeud(1, None, None))\n",
    "1\n",
    "```"
   ]
  },
  {
   "cell_type": "code",
   "execution_count": 4,
   "id": "ca49a37f",
   "metadata": {},
   "outputs": [],
   "source": [
    "class Noeud:\n",
    "    def __init__(self, etiquette, gauche, droit):\n",
    "        self.v = etiquette\n",
    "        self.gauche = gauche\n",
    "        self.droit = droit\n",
    "\n",
    "a =  Noeud(1, Noeud(4, None, None), Noeud(0, None, Noeud(7, None, None)))\n",
    "\n"
   ]
  },
  {
   "cell_type": "code",
   "execution_count": 10,
   "id": "148cac42",
   "metadata": {},
   "outputs": [
    {
     "data": {
      "text/plain": [
       "2"
      ]
     },
     "execution_count": 10,
     "metadata": {},
     "output_type": "execute_result"
    }
   ],
   "source": [
    "def taille(abr):\n",
    "    if abr is None:\n",
    "        return 0\n",
    "    else:\n",
    "        return 1 + taille(abr.gauche) + taille(abr.droit)\n",
    "\n",
    "def hauteur(abr):\n",
    "    if abr is None:\n",
    "        return -1\n",
    "    else:\n",
    "        return 1 + max(hauteur(abr.gauche), hauteur(abr.droit))\n",
    "\n",
    "\n",
    "hauteur(Noeud(1, Noeud(4, None, None), Noeud(0, None, Noeud(7, None, None))))"
   ]
  },
  {
   "cell_type": "markdown",
   "id": "730938bc",
   "metadata": {},
   "source": [
    "## S_41.2\n",
    "\n",
    "On rappelle que les tableaux sont représentés par des listes en Python du type `list`.\n",
    "\n",
    "Le but de cet exercice est d’écrire une fonction ajoute qui prend en paramètres trois\n",
    "arguments `indice`, `element` et `tab` et renvoie un tableau `tab_ins` dans lequel les\n",
    "éléments sont ceux du tableau `tab` avec, en plus, l’élément `element` à l’indice `indice`.\n",
    "\n",
    "On considère que les variables `indice` et `element` sont des entiers positifs et que les\n",
    "éléments de `tab` sont également des entiers.\n",
    "\n",
    "En réalisant cette insertion, Les éléments du tableau `tab` dont les indices sont supérieurs\n",
    "ou égaux à `indice` apparaissent décalés vers la droite dans le tableau `tab_ins`.\n",
    "\n",
    "Si `indice` est égal au nombre d’éléments du tableau `tab`, l’élément `element` est ajouté\n",
    "dans `tab_ins` après tous les éléments du tableau `tab`.\n",
    "\n",
    "Exemples :\n",
    "\n",
    "```python\n",
    ">>> ajoute(1, 4, [7, 8, 9])\n",
    "[7, 4, 8, 9]\n",
    ">>> ajoute(3, 4, [7, 8, 9])\n",
    "[7, 8, 9, 4]\n",
    ">>> ajoute(0, 4, [7, 8, 9])\n",
    "[4, 7, 8, 9]\n",
    "\n",
    "\n",
    "Compléter et tester le code ci-dessous :\n",
    "\n"
   ]
  },
  {
   "cell_type": "code",
   "execution_count": 16,
   "id": "1d9d4386",
   "metadata": {},
   "outputs": [],
   "source": [
    "def ajoute(indice, element, tab):\n",
    "    '''Renvoie un nouveau tableau obtenu en insérant\n",
    "    element à l'indice indice dans le tableau tab.'''\n",
    "    nbre_elts = len(tab)\n",
    "    tab_ins = [0] * (nbre_elts + 1)\n",
    "    for i in range(indice):\n",
    "        tab_ins[i] = tab[i] \n",
    "    tab_ins[indice] = element \n",
    "    for i in range(indice + 1, nbre_elts + 1):\n",
    "        tab_ins[i] = tab[i-1]\n",
    "    return tab_ins\n",
    "assert ajoute(1, 4, [7, 8, 9]) == [7, 4, 8, 9]\n",
    "assert ajoute(3, 4, [7, 8, 9]) == [7, 8, 9, 4]\n",
    "assert ajoute(0, 4, [7, 8, 9]) == [4, 7, 8, 9]"
   ]
  },
  {
   "cell_type": "markdown",
   "id": "bfb7b145",
   "metadata": {},
   "source": [
    "## S_42.1\n",
    "\n",
    "Écrire une fonction `moyenne` qui prend en paramètre un tableau d’entiers non vide et qui\n",
    "renvoie un nombre flottant donnant la moyenne de ces entiers.\n",
    "\n",
    "**Attention** : il est interdit d’utiliser la fonction `sum` ou la fonction `mean` (module `statistics`) de Python.\n",
    "\n",
    "Exemples :\n",
    "\n",
    "```python\n",
    ">>> moyenne([1])\n",
    "1.0\n",
    ">>> moyenne([1, 2, 3, 4, 5, 6, 7])\n",
    "4.0\n",
    ">>> moyenne([1, 2])\n",
    "1.5\n",
    "```\n"
   ]
  },
  {
   "cell_type": "code",
   "execution_count": 17,
   "id": "4c2b86d5",
   "metadata": {},
   "outputs": [],
   "source": [
    "def moyenne(tab):\n",
    "    sum = 0\n",
    "    for i in range(tab):\n",
    "        sum += tab[i]\n",
    "    return sum/len(tab) if len(tab) != 0 else None"
   ]
  },
  {
   "cell_type": "markdown",
   "id": "1fca0da9",
   "metadata": {},
   "source": [
    "## S_42.2\n",
    "\n",
    "Le but de l'exercice est de compléter une fonction qui détermine si une valeur est présente\n",
    "dans un tableau de valeurs triées dans l'ordre croissant.\n",
    "\n",
    "Compléter l'algorithme de dichotomie donné ci-après."
   ]
  },
  {
   "cell_type": "code",
   "execution_count": 33,
   "id": "f797699c",
   "metadata": {},
   "outputs": [],
   "source": [
    "def dichotomie(tab, x):\n",
    "    \"\"\"applique une recherche dichotomique pour déterminer\n",
    "    si x est dans le tableau trié tab.\n",
    "    La fonction renvoie True si tab contient x et False sinon\"\"\"\n",
    "\n",
    "    debut = 0\n",
    "    fin = len(tab) - 1 \n",
    "    while debut <= fin:\n",
    "        m = (fin + debut) // 2\n",
    "        if x == tab[m]:\n",
    "            return True\n",
    "        if x > tab[m]:\n",
    "            debut = m +1\n",
    "        else:\n",
    "            fin = m - 1\n",
    "    return False\n",
    "assert dichotomie([15, 16, 18, 19, 23, 24, 28, 29, 31, 33], 28) == True\n",
    "assert dichotomie([15, 16, 18, 19, 23, 24, 28, 29, 31, 33], 27) == False\n",
    "assert dichotomie([15, 16, 18, 19, 23, 24, 28, 29, 31, 33], 1) == False\n",
    "assert dichotomie([], 28) == False"
   ]
  },
  {
   "cell_type": "markdown",
   "id": "2fc94916",
   "metadata": {},
   "source": [
    "```python\n",
    ">>> dichotomie([15, 16, 18, 19, 23, 24, 28, 29, 31, 33], 28)\n",
    "True\n",
    ">>> dichotomie([15, 16, 18, 19, 23, 24, 28, 29, 31, 33], 27)\n",
    "False\n",
    ">>> dichotomie([15, 16, 18, 19, 23, 24, 28, 29, 31, 33], 1)\n",
    "False\n",
    ">>> dichotomie([], 28)\n",
    "False\n",
    "```"
   ]
  },
  {
   "cell_type": "markdown",
   "id": "6bf07397",
   "metadata": {},
   "source": [
    "## S_43.1\n",
    "\n",
    "Écrire une fonction `a_doublon` qui prend en paramètre un tableau **trié** de nombres dans\n",
    "l’ordre croissant et renvoie `True` si ce tableau contient au moins deux nombres identiques,\n",
    "`False` sinon.\n",
    "\n",
    "Exemple :\n",
    "\n",
    "```python\n",
    ">>> a_doublon([])\n",
    "False\n",
    ">>> a_doublon([1])\n",
    "False\n",
    ">>> a_doublon([1, 2, 4, 6, 6])\n",
    "True\n",
    ">>> a_doublon([2, 5, 7, 7, 7, 9])\n",
    "True\n",
    ">>> a_doublon([0, 2, 3])\n",
    "False\n",
    "```"
   ]
  },
  {
   "cell_type": "code",
   "execution_count": 39,
   "id": "4aaba7ae",
   "metadata": {},
   "outputs": [
    {
     "name": "stdout",
     "output_type": "stream",
     "text": [
      "False\n"
     ]
    }
   ],
   "source": [
    "def a_doublon(tab):\n",
    "    if len(tab) <= 1:\n",
    "        return False\n",
    "    for i in range(len(tab)-1):\n",
    "        if tab[i] == tab[i+1]:\n",
    "            return True\n",
    "    return False\n",
    "print(a_doublon([0, 2, 3]))\n",
    "\n",
    "assert a_doublon([]) == False\n",
    "assert a_doublon([1]) == False\n",
    "assert a_doublon([1, 2, 4, 6, 6]) == True\n",
    "assert a_doublon([2, 5, 7, 7, 7, 9]) == True\n",
    "assert a_doublon([0, 2, 3]) == False"
   ]
  },
  {
   "cell_type": "markdown",
   "id": "189b9550",
   "metadata": {},
   "source": [
    "## S_43.2\n",
    "\n",
    "\n",
    "On souhaite générer des grilles du jeu de démineur à partir de la position des bombes à\n",
    "placer.  \n",
    "On se limite à la génération de grilles carrées de taille $n \\times n$ où $n$ est le nombre de bombes du jeu.  \n",
    "\n",
    "Dans le jeu du démineur, chaque case de la grille contient soit une bombe, soit une valeur\n",
    "qui correspond aux nombres de bombes situées dans le voisinage direct de la case (au-\n",
    "dessus, en dessous, à droite, à gauche ou en diagonale : chaque case a donc 8 voisins si\n",
    "elle n'est pas située au bord de la grille).\n",
    "\n",
    "Voici un exemple de grille $5 \\times 5$ de démineur dans laquelle la bombe est représentée par une étoile :\n",
    "\n",
    "<div align=\"center\">\n",
    "    <img src=\"https://glassus.github.io/terminale_nsi/T6_6_Epreuve_pratique/data2023/04grille.png\">\n",
    "</div>\n",
    "\n",
    "\n",
    "\n",
    "On utilise une liste de listes pour représenter la grille et on choisit de coder une bombe par la valeur -1.\n",
    "\n",
    "L'exemple ci-contre sera donc codé par la liste :\n",
    "\n",
    "```python\n",
    "[[1, 1, 1, 0, 0],\n",
    "[1, -1, 1, 1, 1],\n",
    "[2, 2, 3, 2, -1],\n",
    "[1, -1, 2, -1, 3],\n",
    "[1, 1, 2, 2, -1]]\n",
    "\n",
    "\n",
    "Compléter le code suivant afin de générer des grilles de démineur, on pourra vérifier que l'appel\n",
    "\n",
    "genere_grille([(1, 1), (2, 4), (3, 1), (3, 3), (4, 4)])\n",
    "\n",
    "renvoie bien la liste donnée en exemple."
   ]
  },
  {
   "cell_type": "code",
   "execution_count": 41,
   "id": "75671bd4",
   "metadata": {},
   "outputs": [
    {
     "name": "stdout",
     "output_type": "stream",
     "text": [
      "[[1, 1, 1, 0, 0], [1, -1, 1, 1, 1], [2, 2, 3, 2, -1], [1, -1, 2, -1, 3], [1, 1, 2, 2, -1]]\n"
     ]
    }
   ],
   "source": [
    "def voisinage(n, ligne, colonne):\n",
    "    \"\"\" Renvoie la liste des coordonnées des voisins de la case\n",
    "    (ligne, colonne) en gérant les cases sur les bords. \"\"\"\n",
    "    voisins = []\n",
    "    for l in range(max(0,ligne-1), min(n, ligne+2)):\n",
    "        for c in range(max(0, colonne-1), min(n, colonne+2)):\n",
    "            if (l, c) != (ligne, colonne):\n",
    "                voisins.append((l,c))\n",
    "    return voisins\n",
    "\n",
    "\n",
    "def incremente_voisins(grille, ligne, colonne):\n",
    "    \"\"\" Incrémente de 1 toutes les cases voisines d'une bombe.\"\"\"\n",
    "    voisins = voisinage(len(grille[0]),ligne,colonne)\n",
    "    for l, c in voisins:\n",
    "        if grille[l][c] != -1: # si ce n'est pas une bombe\n",
    "            grille[l][c] += 1  # on ajoute 1 à sa valeur\n",
    "\n",
    "\n",
    "\n",
    "def genere_grille(bombes):\n",
    "    \"\"\" Renvoie une grille de démineur de taille nxn où n est\n",
    "    le nombre de bombes, en plaçant les bombes à l'aide de\n",
    "    la liste bombes de coordonnées (tuples) passée en\n",
    "    paramètre. \"\"\"\n",
    "    n = len(bombes)\n",
    "    # Initialisation d'une grille nxn remplie de 0\n",
    "    grille = [[0 for colonne in range(n)] for ligne in range(n)]\n",
    "    # Place les bombes et calcule les valeurs des autres cases\n",
    "    for ligne, colonne in bombes:\n",
    "        grille[ligne][colonne] = -1 # place la bombe\n",
    "        incremente_voisins(grille,ligne,colonne) # incrémente ses voisins\n",
    "\n",
    "    return grille\n",
    "print(genere_grille([(1, 1), (2, 4), (3, 1), (3, 3), (4, 4)]))"
   ]
  },
  {
   "cell_type": "markdown",
   "id": "45aa40ac",
   "metadata": {},
   "source": [
    "## S_44.1\n",
    "\n",
    "Écrire une fonction `enumere` qui prend en paramètre un tableau `tab` (type `list`) et renvoie\n",
    "un dictionnaire `d` dont les clés sont les éléments de `tab` avec pour valeur associée la liste\n",
    "des indices de l’élément dans le tableau `tab`.\n",
    "\n",
    "Exemple :\n",
    "\n",
    "```python\n",
    ">>> enumere([])\n",
    "{}\n",
    ">>> enumere([1, 2, 3])\n",
    "{1: [0], 2: [1], 3: [2]}\n",
    ">>> enumere([1, 1, 2, 3, 2, 1])\n",
    "{1: [0, 1, 5], 2: [2, 4], 3: [3]}\n",
    "```"
   ]
  },
  {
   "cell_type": "code",
   "execution_count": 66,
   "id": "0a40445d",
   "metadata": {},
   "outputs": [],
   "source": [
    "def enumere(tab):\n",
    "    dic = dict()\n",
    "    for i,v in enumerate(tab):\n",
    "        if v not in dic.keys():\n",
    "            dic[v] = [i]\n",
    "        else:\n",
    "            dic[v] += [i]\n",
    "    return dic\n",
    "\n",
    "assert enumere([]) == {}\n",
    "assert enumere([1, 2, 3]) == {1: [0], 2: [1], 3: [2]}\n",
    "assert enumere([1, 1, 2, 3, 2, 1]) == {1: [0, 1, 5], 2: [2, 4], 3: [3]}"
   ]
  },
  {
   "cell_type": "markdown",
   "id": "3032e1c1",
   "metadata": {},
   "source": [
    "## S_44.2\n",
    "\n",
    "Un arbre binaire est soit vide, représenté en Python par la valeur `None`, soit un nœud,\n",
    "contenant une étiquette et deux sous-arbres gauche et droit et représenté par une instance\n",
    "de la classe `Noeud` donnée ci-dessous.\n",
    "\n",
    "```python linenums='1'\n",
    "class Noeud:\n",
    "    \"\"\"Classe représentant un noeud d'un arbre binaire\"\"\"\n",
    "    def __init__(self, etiquette, gauche, droit):\n",
    "        \"\"\"Crée un noeud de valeur etiquette avec \n",
    "        gauche et droit comme fils.\"\"\"\n",
    "        self.etiquette = etiquette\n",
    "        self.gauche = gauche\n",
    "        self.droit = droit\n",
    "\n",
    "def parcours(arbre, liste):\n",
    "    \"\"\"parcours récursivement l'arbre en ajoutant les étiquettes\n",
    "    de ses noeuds à la liste passée en argument en ordre infixe.\"\"\"\n",
    "    if arbre != None:\n",
    "        parcours(arbre.gauche, liste)\n",
    "        liste.append(arbre.etiquette)\n",
    "        parcours(arbre.droit, liste)\n",
    "    return liste\n",
    "\n",
    "\n",
    "La fonction récursive parcours renvoie la liste des étiquettes des nœuds de l’arbre implé- menté par l’instance arbre dans l’ordre du parcours en profondeur infixe à partir d’une liste vide passée en argument.\n",
    "\n",
    "Compléter le code de la fonction insere, présenté page suivante, qui prend en argument un arbre binaire de recherche arbre représenté ainsi et une étiquette cle, non présente dans l’arbre, et qui :\n",
    "\n",
    "renvoie une nouvelle feuille d’étiquette cle s’il est vide ;\n",
    "renvoie l’arbre après l’avoir modifié en insérant cle sinon ;\n",
    "garantit que l’arbre ainsi complété soit encore un arbre binaire de recherche.\n",
    "Tester ensuite ce code en utilisant la fonction parcours et en insérant successivement des nœuds d’étiquette 1, 4, 6 et 8 dans l’arbre binaire de recherche représenté ci- dessous :\n",
    "\n",
    "\n"
   ]
  },
  {
   "cell_type": "markdown",
   "id": "013f0427",
   "metadata": {},
   "source": [
    "<div align=\"center\">\n",
    "    <img src=\"https://glassus.github.io/terminale_nsi/T6_6_Epreuve_pratique/data2023/25_arbre.png\">\n",
    "</div>\n"
   ]
  },
  {
   "cell_type": "code",
   "execution_count": 71,
   "id": "3767c630",
   "metadata": {},
   "outputs": [],
   "source": [
    "class Noeud:\n",
    "    \"\"\"Classe représentant un noeud d'un arbre binaire\"\"\"\n",
    "    def __init__(self, etiquette, gauche, droit):\n",
    "        \"\"\"Crée un noeud de valeur etiquette avec \n",
    "        gauche et droit comme fils.\"\"\"\n",
    "        self.etiquette = etiquette\n",
    "        self.gauche = gauche\n",
    "        self.droit = droit\n",
    "\n",
    "def parcours(arbre, liste):\n",
    "    \"\"\"parcours récursivement l'arbre en ajoutant les étiquettes\n",
    "    de ses noeuds à la liste passée en argument en ordre infixe.\"\"\"\n",
    "    if arbre != None:\n",
    "        parcours(arbre.gauche, liste)\n",
    "        liste.append(arbre.etiquette)\n",
    "        parcours(arbre.droit, liste)\n",
    "    return liste\n"
   ]
  },
  {
   "cell_type": "code",
   "execution_count": 73,
   "id": "f99e92dc",
   "metadata": {},
   "outputs": [
    {
     "name": "stdout",
     "output_type": "stream",
     "text": [
      "1\n"
     ]
    }
   ],
   "source": [
    "def insere(arbre, cle):\n",
    "    \"\"\"insere la cle dans l'arbre binaire de recherche\n",
    "    représenté par arbre.\n",
    "    Retourne l'arbre modifié.\"\"\"\n",
    "    if arbre == None:\n",
    "        return Noeud(cle, None, None) # creation d'une feuille\n",
    "    else:\n",
    "        if cle < arbre.etiquette: \n",
    "            arbre.gauche = insere(arbre.gauche, cle)\n",
    "        else:\n",
    "            arbre.droit = insere(arbre.droit,cle) \n",
    "        return arbre\n",
    "    \n",
    "droit = Noeud(2,None,3)\n",
    "gauche = Noeud(7,None,None)\n",
    "abr = Noeud(5,gauche,droit)\n",
    "\n",
    "insere(abr,1)\n",
    "print(abr.gauche.gauche.etiquette)\n",
    "\n",
    "insere(abr,4)\n",
    "print(abr.gauche.gauche.etiquette)"
   ]
  },
  {
   "cell_type": "markdown",
   "id": "faa23704",
   "metadata": {},
   "source": [
    "## S_45.1\n",
    "\n",
    "Écrire une fonction `compte_occurrences` prenant en paramètres une valeur `x` et un\n",
    "tableau `tab` (de type `list`) et renvoyant le nombre d’occurrences de `x` dans `tab`.\n",
    "\n",
    "L’objectif de cet exercice étant de parcourir un tableau, il est interdit d’utiliser la méthode\n",
    "`count` des listes Python.\n",
    "\n",
    "Exemples :\n",
    "\n",
    "```python\n",
    ">>> compte_occurrences(5, [])\n",
    "0\n",
    ">>> compte_occurrences(5, [-2, 3, 1, 5, 3, 7, 4])\n",
    "1\n",
    ">>> compte_occurrences('a', ['a','b','c','a','d','e','a'])\n",
    "3\n",
    "```"
   ]
  },
  {
   "cell_type": "code",
   "execution_count": 74,
   "id": "b6575b80",
   "metadata": {},
   "outputs": [],
   "source": [
    "def compte_occur(x,tab):\n",
    "    count = 0\n",
    "    for i in tab:\n",
    "        if i == x:\n",
    "            count += 1\n",
    "    return count\n",
    "assert compte_occur(5, []) == 0\n",
    "assert compte_occur(5, [-2, 3, 1, 5, 3, 7, 4]) == 1\n",
    "assert compte_occur('a', ['a','b','c','a','d','e','a']) == 3"
   ]
  },
  {
   "cell_type": "markdown",
   "id": "f42355c3",
   "metadata": {},
   "source": [
    "## S_45.2\n",
    "\n",
    "On considère dans cet exercice un algorithme glouton pour le rendu de monnaie. Pour\n",
    "rendre une somme en monnaie, on utilise à chaque fois la plus grosse pièce possible et ainsi\n",
    "de suite jusqu’à ce que la somme restante à rendre soit nulle.\n",
    "\n",
    "Les pièces de monnaie utilisées sont :\n",
    "\n",
    "`pieces = [1, 2, 5, 10, 20, 50, 100, 200]`\n",
    "\n",
    "On souhaite écrire une fonction `rendu_monnaie` qui prend en paramètres\n",
    "\n",
    "- un entier `somme_due` représentant la somme à payer ;\n",
    "- un entier `somme_versee` représentant la somme versée qui est supérieure ou égale\n",
    "à `somme_due` ;\n",
    "\n",
    "et qui renvoie un tableau de type `list` contenant les pièces qui composent le rendu\n",
    "de la monnaie restante, c’est-à-dire de `somme_versee - somme_due`.\n",
    "\n",
    "\n",
    "\n",
    "Ainsi, l’instruction `rendu_monnaie(452, 500)` renvoie le tableau `[20, 20, 5, 2, 1]`.\n",
    "\n",
    "En effet, la somme à rendre est de `48` euros soit `20 + 20 + 5 + 2 + 1`.\n",
    "\n",
    "Le code de la fonction `rendu_monnaie` est donné ci-dessous :\n"
   ]
  },
  {
   "cell_type": "code",
   "execution_count": 75,
   "id": "403c233e",
   "metadata": {},
   "outputs": [],
   "source": [
    "pieces = [1, 2, 5, 10, 20, 50, 100, 200]"
   ]
  },
  {
   "cell_type": "code",
   "execution_count": 78,
   "id": "28e960cc",
   "metadata": {},
   "outputs": [
    {
     "data": {
      "text/plain": [
       "[200, 100, 50, 20, 20, 5, 2, 1]"
      ]
     },
     "execution_count": 78,
     "metadata": {},
     "output_type": "execute_result"
    }
   ],
   "source": [
    "def rendu_monnaie(somme_due, somme_versee):\n",
    "    '''Renvoie la liste des pièces à rendre pour rendre la monnaie\n",
    "    lorsqu'on doit rendre somme_versee - somme_due'''\n",
    "    rendu = []\n",
    "    a_rendre = somme_versee - somme_due\n",
    "    i = len(pieces) - 1\n",
    "    while a_rendre > 0: \n",
    "        while pieces[i] > a_rendre:\n",
    "            i = i - 1\n",
    "        rendu.append(pieces[i]) \n",
    "        a_rendre -= pieces[i] \n",
    "    return rendu\n",
    "rendu_monnaie(102, 500)"
   ]
  },
  {
   "cell_type": "code",
   "execution_count": null,
   "id": "5b2c1ce8",
   "metadata": {},
   "outputs": [],
   "source": [
    ">>> rendu_monnaie(700, 700)\n",
    "[]\n",
    ">>> rendu_monnaie(102, 500)\n",
    "[200, 100, 50, 20, 20, 5, 2, 1]"
   ]
  },
  {
   "cell_type": "markdown",
   "id": "55a5949f",
   "metadata": {},
   "source": [
    "## S_46.1\n",
    "\n",
    "Écrire une fonction `recherche` qui prend en paramètres un tableau `tab` de nombres\n",
    "entiers triés par ordre croissant et un nombre entier `n`, et qui effectue une recherche\n",
    "dichotomique du nombre entier `n` dans le tableau non vide `tab`.\n",
    "\n",
    "Cette fonction doit renvoyer un indice correspondant au nombre cherché s’il est dans le\n",
    "tableau, `None` sinon.\n",
    "\n",
    "Exemples :\n",
    "```python\n",
    ">>> recherche([2, 3, 4, 5, 6], 5)\n",
    "3\n",
    ">>> recherche([2, 3, 4, 6, 7], 5) # renvoie None\n",
    "```"
   ]
  },
  {
   "cell_type": "code",
   "execution_count": 87,
   "id": "a36acf61",
   "metadata": {},
   "outputs": [
    {
     "name": "stdout",
     "output_type": "stream",
     "text": [
      "3\n"
     ]
    }
   ],
   "source": [
    "\n",
    "def recherche(tab,elt):\n",
    "    debut = 0\n",
    "    fin = len(tab) - 1\n",
    "    while fin >= debut:\n",
    "        m = (fin + debut) // 2\n",
    "        if tab[m] == elt:\n",
    "            return m\n",
    "        elif tab[m] < elt:\n",
    "            debut = m + 1\n",
    "        else:\n",
    "            fin = m -1\n",
    "    return None\n",
    "\n",
    "print(recherche([2, 3, 4, 5, 6], 5))"
   ]
  },
  {
   "cell_type": "markdown",
   "id": "d9dc357e",
   "metadata": {},
   "source": [
    "## S_46.2\n",
    "\n",
    "\n",
    "Le codage de César transforme un message en changeant chaque lettre en la décalant\n",
    "dans l’alphabet.\n",
    "Par exemple, avec un décalage de 3, le A se transforme en D, le B en E, ..., le X en A,\n",
    "le Y en B et le Z en C. Les autres caractères (‘!’,’ ?’ ...) ne sont pas codés.\n",
    "\n",
    "La fonction `position_alphabet` ci-dessous prend en paramètre un caractère `lettre`\n",
    "et renvoie la position de `lettre` dans la chaîne de caractères `alphabet` s’il s’y trouve.\n",
    "\n",
    "La fonction `cesar` prend en paramètres une chaîne de caractères `message` et un nombre\n",
    "entier `decalage` et renvoie le nouveau message codé avec le codage de César utilisant\n",
    "le décalage `decalage`.\n",
    "\n",
    "Compléter la fonction `cesar`."
   ]
  },
  {
   "cell_type": "code",
   "execution_count": 96,
   "id": "facd301f",
   "metadata": {},
   "outputs": [],
   "source": [
    "alphabet = 'ABCDEFGHIJKLMNOPQRSTUVWXYZ'\n",
    "\n",
    "def position_alphabet(lettre):\n",
    "    '''Renvoie la position de la lettre dans l'alphabet'''\n",
    "    return ord(lettre) - ord('A')\n",
    "\n",
    "def cesar(message, decalage):\n",
    "    '''Renvoie le message codé par la méthode de César\n",
    "    pour le decalage donné'''\n",
    "    resultat = ''\n",
    "    for c in message: \n",
    "        if 'A' <= c and c <= 'Z':\n",
    "            indice = (position_alphabet(c) + decalage) % 26 \n",
    "            resultat = resultat + alphabet[indice]\n",
    "        else:\n",
    "            resultat +=  c\n",
    "    return resultat\n",
    "\n",
    "assert cesar('BONJOUR A TOUS. VIVE LA MATIERE NSI !', 4) == 'FSRNSYV E XSYW. ZMZI PE QEXMIVI RWM !'\n",
    "assert cesar('GTSOTZW F YTZX. ANAJ QF RFYNJWJ SXN !', -5) == 'BONJOUR A TOUS. VIVE LA MATIERE NSI !'"
   ]
  },
  {
   "cell_type": "code",
   "execution_count": null,
   "id": "34e8b90e",
   "metadata": {},
   "outputs": [],
   "source": [
    ">>> cesar('BONJOUR A TOUS. VIVE LA MATIERE NSI !', 4)\n",
    "'FSRNSYV E XSYW. ZMZI PE QEXMIVI RWM !'\n",
    ">>> cesar('GTSOTZW F YTZX. ANAJ QF RFYNJWJ SXN !', -5)\n",
    "'BONJOUR A TOUS. VIVE LA MATIERE NSI !'"
   ]
  },
  {
   "cell_type": "markdown",
   "id": "7e5d70e5",
   "metadata": {},
   "source": [
    "## S_47.1\n",
    "\n",
    "Sur le réseau social TipTop, on s’intéresse au nombre de « like » des abonnés.\n",
    "Les données sont stockées dans des dictionnaires où les clés sont les pseudos et les valeurs\n",
    "correspondantes sont les nombres de « like » comme ci-dessous :\n",
    "\n",
    "`{'Bob': 102, 'Ada': 201, 'Alice': 103, 'Tim': 50}`\n",
    "\n",
    "Écrire une fonction `max_dico` qui :\n",
    "\n",
    "- Prend en paramètre un dictionnaire `dico` non vide dont les clés sont des chaînes de\n",
    "caractères et les valeurs associées sont des entiers ;\n",
    "- Renvoie un tuple dont :\n",
    "    - La première valeur est une clé du dictionnaire associée à la valeur maximale ;\n",
    "    - la seconde valeur est cette valeur maximale.\n",
    "\n",
    "Exemples :\n",
    "\n",
    "```python\n",
    ">>> max_dico({'Bob': 102, 'Ada': 201, 'Alice': 103, 'Tim': 50})\n",
    "('Ada', 201)\n",
    ">>> max_dico({'Alan': 222, 'Ada': 201, 'Eve': 220, 'Tim': 50})\n",
    "('Alan', 222)\n",
    "```"
   ]
  },
  {
   "cell_type": "code",
   "execution_count": 102,
   "id": "eab89c3a",
   "metadata": {},
   "outputs": [
    {
     "data": {
      "text/plain": [
       "('Alan', 222)"
      ]
     },
     "execution_count": 102,
     "metadata": {},
     "output_type": "execute_result"
    }
   ],
   "source": [
    "def max_dico(dic):\n",
    "    a = max(dic.values())\n",
    "    for i in dic.keys():\n",
    "        if dic[i] == a:\n",
    "            return (i,a)\n",
    "max_dico({'Alan': 222, 'Ada': 201, 'Eve': 220, 'Tim': 50})#"
   ]
  },
  {
   "cell_type": "markdown",
   "id": "c6f3a1a3",
   "metadata": {},
   "source": [
    "## S_47.2\n",
    "\n",
    "\n",
    "Nous avons l’habitude de noter les expressions arithmétiques avec des parenthèses comme\n",
    "par exemple : (2 + 3) × 5. \n",
    "\n",
    "Il existe une autre notation utilisée par certaines calculatrices, appelée notation postfixe, qui n’utilise pas de parenthèses. L’expression arithmétique précédente est alors obtenue en\n",
    "saisissant successivement 2, puis 3, puis l’opérateur +, puis 5, et enfin l’opérateur ×. On\n",
    "modélise cette saisie par le tableau `[2, 3, '+', 5, '*']`. \n",
    "\n",
    "Autre exemple, la notation postfixe de 3 × 2 + 5 est modélisée par le tableau : \n",
    "\n",
    "`[3, 2, '*', 5, '+']`. \n",
    "\n",
    "\n",
    "D’une manière plus générale, la valeur associée à une expression arithmétique en notation\n",
    "postfixe est déterminée à l’aide d’une pile en parcourant l’expression arithmétique de gauche\n",
    "à droite de la façon suivante :\n",
    "\n",
    "- Si l’élément parcouru est un nombre, on le place au sommet de la pile ;\n",
    "- Si l’élément parcouru est un opérateur, on récupère les deux éléments situés au\n",
    "sommet de la pile et on leur applique l’opérateur. On place alors le résultat au sommet\n",
    "de la pile.\n",
    "- À la fin du parcours, il reste alors un seul élément dans la pile qui est le résultat de\n",
    "l’expression arithmétique.\n",
    "\n",
    "\n",
    "Dans le cadre de cet exercice, on se limitera aux opérations × et +.\n",
    "\n",
    "\n",
    "Pour cet exercice, on dispose d’une classe `Pile` qui implémente les méthodes de base sur la\n",
    "structure de pile.\n",
    "\n",
    "Compléter le script de la fonction `eval_expression` qui reçoit en paramètre une liste python\n",
    "représentant la notation postfixe d’une expression arithmétique et qui renvoie sa valeur\n",
    "associée.\n"
   ]
  },
  {
   "cell_type": "code",
   "execution_count": 110,
   "id": "9c611810",
   "metadata": {},
   "outputs": [],
   "source": [
    "\n",
    "class Pile:\n",
    "    \"\"\"Classe définissant une structure de pile.\"\"\"\n",
    "    def __init__(self):\n",
    "        self.contenu = []\n",
    "\n",
    "    def est_vide(self):\n",
    "        \"\"\"Renvoie le booléen True si la pile est vide, False sinon.\"\"\"\n",
    "        return self.contenu == []\n",
    "\n",
    "    def empiler(self, v):\n",
    "        \"\"\"Place l'élément v au sommet de la pile\"\"\"\n",
    "        self.contenu.append(v)\n",
    "\n",
    "    def depiler(self):\n",
    "        \"\"\"\n",
    "        Retire et renvoie l’élément placé au sommet de la pile,\n",
    "        si la pile n’est pas vide. Produit une erreur sinon.\n",
    "        \"\"\"\n",
    "        assert not self.est_vide()\n",
    "        return self.contenu.pop()\n",
    "\n",
    "\n",
    "def eval_expression(tab):\n",
    "    p = Pile()\n",
    "    for element in tab:\n",
    "        if element != '+' and element != '*':\n",
    "            p.empiler(element)\n",
    "        else:\n",
    "            if element == '+':\n",
    "                resultat = p.depiler() + p.depiler()\n",
    "            else:\n",
    "                resultat = p.depiler() * p.depiler()\n",
    "            p.empiler(resultat)\n",
    "    return p.depiler()"
   ]
  },
  {
   "cell_type": "code",
   "execution_count": 113,
   "id": "595d2fa9",
   "metadata": {},
   "outputs": [],
   "source": [
    "\n",
    "assert eval_expression([2, 3, '+', 5, '*']) == 25\n",
    "assert eval_expression([1, 2, '+', 3, '*']) == 9\n",
    "assert eval_expression([1, 2, 3, '+', '*']) == 5"
   ]
  },
  {
   "cell_type": "markdown",
   "id": "e5488753",
   "metadata": {},
   "source": [
    "## S_48.1\n",
    "\n",
    "\n",
    "On considère dans cet exercice un graphe orienté représenté sous forme de listes d’adjacence.\n",
    "\n",
    "On suppose que les sommets sont numérotés de `0` à `n-1`.\n",
    "\n",
    "Par exemple, le graphe suivant :\n",
    "\n",
    "<div align=\"center\">\n",
    "    <img src=\"https://glassus.github.io/terminale_nsi/T6_6_Epreuve_pratique/data2024/graph2.png\">\n",
    "</div>\n",
    "\n",
    "\n",
    "est représenté par la liste d’adjacence suivante :\n",
    "\n",
    "```python\n",
    "adj = [[1, 2], [2], [0], [0]]\n",
    "```\n",
    "\n",
    "Écrire une fonction `voisins_entrants(adj, x)` qui prend en paramètre le graphe\n",
    "donné sous forme de liste d’adjacence et qui renvoie une liste contenant les voisins entrants\n",
    "du sommet `x`, c’est-à-dire les sommets `y` tels qu’il existe une arête de `y` vers `x`.\n",
    "\n",
    "Exemples :\n",
    "\n",
    "```python\n",
    ">>> voisins_entrants([[1, 2], [2], [0], [0]], 0)\n",
    "[2, 3]\n",
    ">>> voisins_entrants([[1, 2], [2], [0], [0]], 1)\n",
    "[0]\n",
    "```"
   ]
  },
  {
   "cell_type": "code",
   "execution_count": 121,
   "id": "1dd9c33c",
   "metadata": {},
   "outputs": [
    {
     "data": {
      "text/plain": [
       "[0]"
      ]
     },
     "execution_count": 121,
     "metadata": {},
     "output_type": "execute_result"
    }
   ],
   "source": [
    "def voisins_entrants(tab,noeud):\n",
    "    lst = []\n",
    "    for i in range(len(tab)):\n",
    "        for elt in tab[i]:\n",
    "            if elt == noeud:\n",
    "                lst.append(i)\n",
    "    return lst\n",
    "voisins_entrants([[1, 2], [2], [0], [0]], 1)"
   ]
  },
  {
   "cell_type": "markdown",
   "id": "4144c17f",
   "metadata": {},
   "source": [
    "## S_48.2\n",
    "\n",
    "On considère dans cet exercice la suite de nombre suivante : 1, 11, 21, 1211, 111221, ...\n",
    "\n",
    "Cette suite est construite ainsi : pour passer d’une valeur à la suivante, on la lit et on l’écrit sous la forme d’un nombre. Ainsi, pour 1211 :\n",
    "\n",
    "- on lit *un 1, un 2, deux 1* ;\n",
    "- on écrit donc en nombre *1 1, 1 2, 2 1* ;\n",
    "- puis on concatène *111221*.\n",
    "\n",
    "Compléter la fonction `nombre_suivant` qui prend en entrée un nombre sous forme de\n",
    "chaine de caractères et qui renvoie le nombre suivant par ce procédé, encore sous forme de\n",
    "chaîne de caractères.\n",
    "\n"
   ]
  },
  {
   "cell_type": "code",
   "execution_count": 128,
   "id": "cc713887",
   "metadata": {},
   "outputs": [
    {
     "data": {
      "text/plain": [
       "'1321'"
      ]
     },
     "execution_count": 128,
     "metadata": {},
     "output_type": "execute_result"
    }
   ],
   "source": [
    "def nombre_suivant(s):\n",
    "    '''Renvoie le nombre suivant de celui representé par s\n",
    "    en appliquant le procédé de lecture.'''\n",
    "    resultat = ''\n",
    "    chiffre = s[0]\n",
    "    compte = 1\n",
    "    for i in range(1,len(s)): \n",
    "        if s[i] == chiffre:\n",
    "            compte += 1 \n",
    "        else:\n",
    "            resultat += str(compte) + chiffre \n",
    "            chiffre = s[i]\n",
    "            compte = 1\n",
    "    lecture_chiffre = str(compte) + chiffre \n",
    "    resultat += lecture_chiffre\n",
    "    return resultat\n",
    "nombre_suivant('311')"
   ]
  },
  {
   "cell_type": "code",
   "execution_count": null,
   "id": "be5e1dfa",
   "metadata": {},
   "outputs": [],
   "source": [
    "Exemples :\n",
    ">>> nombre_suivant('1211')\n",
    "'111221'\n",
    ">>> nombre_suivant('311')\n",
    "'1321'\n"
   ]
  }
 ],
 "metadata": {
  "kernelspec": {
   "display_name": "Python 3 (ipykernel)",
   "language": "python",
   "name": "python3"
  },
  "language_info": {
   "codemirror_mode": {
    "name": "ipython",
    "version": 3
   },
   "file_extension": ".py",
   "mimetype": "text/x-python",
   "name": "python",
   "nbconvert_exporter": "python",
   "pygments_lexer": "ipython3",
   "version": "3.12.2"
  }
 },
 "nbformat": 4,
 "nbformat_minor": 5
}
