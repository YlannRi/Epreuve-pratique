{
 "cells": [
  {
   "cell_type": "code",
   "execution_count": null,
   "id": "4efcf620",
   "metadata": {},
   "outputs": [],
   "source": []
  },
  {
   "cell_type": "markdown",
   "id": "65466529",
   "metadata": {},
   "source": [
    "# Sujet_01\n",
    "\n",
    "## s_1.1\n",
    "\n",
    "Dans cet exercice, un arbre binaire de caractères est stocké sous la forme d’un\n",
    "dictionnaire où les clefs sont les caractères des nœuds de l’arbre et les valeurs, pour\n",
    "chaque clef, la liste des caractères des fils gauche et droit du nœud.\n",
    "\n",
    "On utilise la valeur `''` pour représenter un fils vide.\n",
    "\n",
    "Par exemple, l’arbre\n",
    "\n",
    "![alt text](images/image.png)\n",
    "\n",
    "\n",
    "est stocké dans"
   ]
  },
  {
   "cell_type": "code",
   "execution_count": 6,
   "id": "9040f929",
   "metadata": {},
   "outputs": [],
   "source": [
    "a = {'F':['B','G'], 'B':['A','D'], 'A':['',''], 'D':['C','E'], \\\n",
    "'C':['',''], 'E':['',''], 'G':['','I'], 'I':['','H'], \\\n",
    "'H':['','']}\n",
    "\n",
    "# Votre code\n",
    "def taille(dictionnaire,lettre):\n",
    "    if lettre == '':\n",
    "        return 0\n",
    "    return 1 + taille(dictionnaire,dictionnaire[lettre][0]) + taille(dictionnaire, dictionnaire[lettre][1])  "
   ]
  },
  {
   "cell_type": "markdown",
   "id": "b0347f41",
   "metadata": {},
   "source": [
    "Écrire une fonction récursive `taille` prenant en paramètres un arbre binaire `arbre` non vide\n",
    "sous la forme d’un dictionnaire et un caractère `lettre` qui est la valeur du sommet de\n",
    "l’arbre, et qui renvoie la taille de l’arbre à savoir le nombre total de nœuds.\n",
    "\n",
    "On observe que, par exemple, `arbre[lettre][0]`, respectivement\n",
    "`arbre[lettre][1]`, permet d’atteindre la clé du sous-arbre gauche, respectivement\n",
    "droit, de l’arbre `arbre` de sommet `lettre`.\n",
    "\n",
    "Exemple :"
   ]
  },
  {
   "cell_type": "code",
   "execution_count": 7,
   "id": "bf8b2f83",
   "metadata": {},
   "outputs": [],
   "source": [
    "assert taille(a, 'F')==9\n",
    "assert taille(a, 'B')==5\n",
    "assert taille(a, 'I')==2"
   ]
  },
  {
   "cell_type": "markdown",
   "id": "246056b0",
   "metadata": {},
   "source": [
    "## s_1.2\n",
    "\n",
    "On considère l'algorithme de tri de tableau suivant : à chaque étape, on parcourt le sous-\n",
    "tableau des éléments non rangés et on place le plus petit élément en première position de\n",
    "ce sous-tableau.\n",
    "\n",
    "Exemple avec le tableau : ```t = [41, 55, 21, 18, 12, 6, 25]``` \n",
    "\n",
    "- Étape 1 : on parcourt tous les éléments du tableau, on permute le plus petit élément avec\n",
    "le premier. Le tableau devient `t = [6, 55, 21, 18, 12, 41, 25]`\n",
    "\n",
    "- Étape 2 : on parcourt tous les éléments **sauf le premier**, on permute le plus petit élément\n",
    "trouvé avec le second.  \n",
    "Le tableau devient : ```t = [6, 12, 21, 18, 55, 41, 25]``` \n",
    "\n",
    "Et ainsi de suite. \n",
    "\n",
    "Le programme ci-dessous implémente cet algorithme."
   ]
  },
  {
   "cell_type": "code",
   "execution_count": 8,
   "id": "e0e2e449",
   "metadata": {},
   "outputs": [],
   "source": [
    "def echange(tab, i, j):\n",
    "    '''Echange les éléments d'indice i et j dans le tableau tab.'''\n",
    "    temp = tab[i] \n",
    "    tab[i] = tab[j] \n",
    "    tab[j] = temp \n",
    "\n",
    "def tri_selection(tab):\n",
    "    '''Trie le tableau tab dans l'ordre croissant\n",
    "    par la méthode du tri par sélection.'''\n",
    "    N = len(tab)\n",
    "    for k in range(N): \n",
    "        imin = k #\n",
    "        for i in range(k +1, N): \n",
    "            if tab[i] < tab[imin]: \n",
    "                imin = i\n",
    "        echange(tab, k, imin)\n",
    "    return tab"
   ]
  },
  {
   "cell_type": "markdown",
   "id": "02b8c7e2",
   "metadata": {},
   "source": [
    "Compléter le code de cette fonction de façon à obtenir :"
   ]
  },
  {
   "cell_type": "code",
   "execution_count": 9,
   "id": "b58b9daf",
   "metadata": {},
   "outputs": [],
   "source": [
    "assert tri_selection([41, 55, 21, 18, 12, 6, 25])==[6, 12, 18, 21, 25, 41, 55]"
   ]
  },
  {
   "cell_type": "markdown",
   "id": "0e78809c",
   "metadata": {},
   "source": [
    "# Sujet_02\n",
    "## s_2.1\n",
    "\n",
    "On considère des chaînes de caractères contenant uniquement des majuscules et des carac-\n",
    "tères `*` appelées *mots à trous*.\n",
    "\n",
    "Par exemple `INFO*MA*IQUE`, `***I***E**` et\n",
    "`*S*` sont des mots à trous.\n",
    "\n",
    "Programmer une fonction `correspond` qui :\n",
    "\n",
    "- prend en paramètres deux chaînes de caractères `mot` et `mot_a_trous` où\n",
    "`mot_a_trous` est un mot à trous comme indiqué ci-dessus, \n",
    "- renvoie :\n",
    "    - `True` si on peut obtenir `mot` en remplaçant convenablement les caractères\n",
    "`'*'` de `mot_a_trous`.\n",
    "    - `False` sinon."
   ]
  },
  {
   "cell_type": "code",
   "execution_count": 10,
   "id": "eba8639c",
   "metadata": {},
   "outputs": [
    {
     "name": "stdout",
     "output_type": "stream",
     "text": [
      "2.4 µs ± 368 ns per loop (mean ± std. dev. of 7 runs, 100,000 loops each)\n",
      "2.12 µs ± 56.7 ns per loop (mean ± std. dev. of 7 runs, 1,000,000 loops each)\n",
      "5.73 µs ± 754 ns per loop (mean ± std. dev. of 7 runs, 100,000 loops each)\n"
     ]
    }
   ],
   "source": [
    "def correspond_g(a:str,b:str)->bool:\n",
    "    if len(a) != len(b):\n",
    "        return False\n",
    "\n",
    "    for i in range(len(b)):\n",
    "        if b[i] == a[i]:\n",
    "            continue\n",
    "        if b[i] == '*':\n",
    "            continue\n",
    "        return False\n",
    "    return True\n",
    "\n",
    "def correspond_m(a,b):\n",
    "    if len(a) != len(b):\n",
    "        return False\n",
    "    for i in range(len(a)):\n",
    "        if a[i] != b[i] and b[i] != '*':\n",
    "            return False\n",
    "    return True\n",
    "def correspond_y(a,b):\n",
    "    return [a[i] if b[i] == '*' else b[i] for i in range(len(b))] == list(a)\n",
    "\n",
    "def test_suite(f: callable)->None:\n",
    "    assert f('INFORMATIQUE', 'INFO*MA*IQUE')==True\n",
    "    assert f('AUTOMATIQUE', 'INFO*MA*IQUE')==False\n",
    "    assert f('STOP', 'S*')==False\n",
    "    assert f('AUTO', '*UT*')==True\n",
    "\n",
    "%timeit test_suite(correspond_g)\n",
    "%timeit test_suite(correspond_m)\n",
    "%timeit test_suite(correspond_y)\n"
   ]
  },
  {
   "cell_type": "markdown",
   "id": "035bf297",
   "metadata": {},
   "source": [
    "Exemple :"
   ]
  },
  {
   "cell_type": "code",
   "execution_count": 7,
   "id": "6b68f282",
   "metadata": {},
   "outputs": [],
   "source": [
    "assert correspond('INFORMATIQUE', 'INFO*MA*IQUE')==True\n",
    "assert correspond('AUTOMATIQUE', 'INFO*MA*IQUE')==False\n",
    "assert correspond('STOP', 'S*')==False\n",
    "assert correspond('AUTO', '*UT*')==True"
   ]
  },
  {
   "cell_type": "markdown",
   "id": "c41f8bad",
   "metadata": {},
   "source": [
    "## s_2.2\n",
    "\n",
    "On considère au plus 26 personnes A, B, C, D, E, F ... qui peuvent s'envoyer des messages\n",
    "avec deux règles à respecter :\n",
    "\n",
    "- chaque personne ne peut envoyer des messages qu'à une seule personne\n",
    "(éventuellement elle-même),\n",
    "- chaque personne ne peut recevoir des messages qu'en provenance d'une seule\n",
    "personne (éventuellement elle-même).\n",
    "\n",
    "\n",
    "Voici un exemple - avec 6 personnes - de « plan d'envoi des messages » qui respecte les\n",
    "règles ci-dessus, puisque chaque personne est présente une seule fois dans chaque\n",
    "colonne :\n",
    "\n",
    "- A envoie ses messages à E\n",
    "- E envoie ses messages à B\n",
    "- B envoie ses messages à F\n",
    "- F envoie ses messages à A\n",
    "- C envoie ses messages à D\n",
    "- D envoie ses messages à C\n",
    "\n",
    "Et le dictionnaire correspondant à ce plan d'envoi est le suivant :\n",
    "\n",
    "`plan_a = {'A':'E', 'B':'F', 'C':'D', 'D':'C', 'E':'B', 'F':'A'}`\n",
    "\n",
    "Un cycle est une suite de personnes dans laquelle la dernière est la même que la\n",
    "première.\n",
    "\n",
    "Sur le plan d'envoi `plan_a` des messages ci-dessus, il y a deux cycles distincts : un premier\n",
    "cycle avec A, E, B, F et un second cycle avec C et D.\n",
    "\n",
    "En revanche, le plan d’envoi `plan_b` ci-dessous :\n",
    "\n",
    "`plan_b = {'A':'C', 'B':'F', 'C':'E', 'D':'A', 'E':'B', 'F':'D'}`\n",
    "\n",
    "comporte un unique cycle : A, C, E, B, F, D. Dans ce cas, lorsqu’un plan d’envoi comporte un\n",
    "*unique cycle*, on dit que le plan d’envoi est *cyclique*.\n",
    "\n",
    "Pour savoir si un plan d'envoi de messages comportant N personnes est cyclique, on peut\n",
    "utiliser l'algorithme ci-dessous :\n",
    "\n",
    "\n",
    "- on part d’un expéditeur (ici A) et on inspecte son destinataire dans le plan d'envoi,\n",
    "- chaque destinataire devient à son tour expéditeur, selon le plan d’envoi, tant\n",
    "qu’on ne « retombe » pas sur l’expéditeur initial,\n",
    "- le plan d’envoi est cyclique si on l’a parcouru en entier.\n",
    "\n",
    "\n",
    "Compléter la fonction `est_cyclique` en respectant la spécification.\n",
    "\n",
    "On rappelle que la fonction Python `len` permet d'obtenir la longueur d'un dictionnaire."
   ]
  },
  {
   "cell_type": "code",
   "execution_count": 11,
   "id": "31be34b9",
   "metadata": {},
   "outputs": [],
   "source": [
    "def est_cyclique(plan):\n",
    "    '''Prend en paramètre un dictionnaire `plan` correspondant à \n",
    "    un plan d'envoi de messages (ici entre les personnes A, B, C,\n",
    "    D, E, F).\n",
    "    Renvoie True si le plan d'envoi de messages est cyclique et \n",
    "    False sinon.'''\n",
    "    expediteur = 'A'\n",
    "    destinataire = plan[expediteur] \n",
    "    nb_destinataires = 1\n",
    "\n",
    "    while destinataire != expediteur:\n",
    "        destinataire = plan[destinataire] \n",
    "        nb_destinataires += 1  \n",
    "\n",
    "    return nb_destinataires == len(plan)"
   ]
  },
  {
   "cell_type": "markdown",
   "id": "056bca47",
   "metadata": {},
   "source": [
    "Exemples :"
   ]
  },
  {
   "cell_type": "code",
   "execution_count": 12,
   "id": "c9f929f6",
   "metadata": {},
   "outputs": [],
   "source": [
    "assert est_cyclique({'A':'E', 'F':'A', 'C':'D', 'E':'B', 'B':'F', 'D':'C'})==False\n",
    "assert est_cyclique({'A':'E', 'F':'C', 'C':'D', 'E':'B', 'B':'F', 'D':'A'})==True\n",
    "assert est_cyclique({'A':'B', 'F':'C', 'C':'D', 'E':'A', 'B':'F', 'D':'E'})==True\n",
    "assert est_cyclique({'A':'B', 'F':'A', 'C':'D', 'E':'C', 'B':'F', 'D':'E'})==False"
   ]
  },
  {
   "cell_type": "markdown",
   "id": "7986e50b",
   "metadata": {},
   "source": [
    "# Sujet_03\n",
    "## S_3.1\n",
    "\n",
    "Écrire la fonction `maximum_tableau`, prenant en paramètre un tableau non vide de nombres `tab` (de type\n",
    "`list`) et renvoyant le plus grand élément de ce tableau."
   ]
  },
  {
   "cell_type": "code",
   "execution_count": 14,
   "id": "04235b8f",
   "metadata": {},
   "outputs": [],
   "source": [
    "def maximum_tableau(a):\n",
    "    return max(a)"
   ]
  },
  {
   "cell_type": "markdown",
   "id": "78ad3775",
   "metadata": {},
   "source": [
    "Exemples :"
   ]
  },
  {
   "cell_type": "code",
   "execution_count": 15,
   "id": "1b9bac8a",
   "metadata": {},
   "outputs": [],
   "source": [
    "assert maximum_tableau([98, 12, 104, 23, 131, 9])==131\n",
    "assert maximum_tableau([-27, 24, -3, 15])==24"
   ]
  },
  {
   "cell_type": "markdown",
   "id": "85d053e5",
   "metadata": {},
   "source": [
    "## S_3.2\n",
    "\n",
    "On dispose de chaînes de caractères contenant uniquement des parenthèses ouvrantes et\n",
    "fermantes. \n",
    "\n",
    "Un parenthésage est correct si :\n",
    "\n",
    "- le nombre de parenthèses ouvrantes de la chaîne est égal au nombre de parenthèses\n",
    "fermantes.\n",
    "- en parcourant la chaîne de gauche à droite, le nombre de parenthèses déjà ouvertes doit\n",
    "être, à tout moment, supérieur ou égal au nombre de parenthèses déjà fermées.\n",
    "\n",
    "\n",
    "Ainsi, `((()())(()))` est un parenthésage correct. \n",
    "\n",
    "Les parenthésages `())(()` et `(())(()` sont, eux, incorrects.\n",
    "\n",
    "\n",
    "On dispose du code de la classe `Pile` suivant :"
   ]
  },
  {
   "cell_type": "code",
   "execution_count": 16,
   "id": "0df502fb",
   "metadata": {},
   "outputs": [],
   "source": [
    "class Pile:\n",
    "    \"\"\"Classe définissant une structure de pile.\"\"\"\n",
    "    def __init__(self):\n",
    "        self.contenu = []\n",
    "\n",
    "    def est_vide(self):\n",
    "        \"\"\"Renvoie un booléen indiquant si la pile est vide.\"\"\"\n",
    "        return self.contenu == []\n",
    "\n",
    "    def empiler(self, v):\n",
    "        \"\"\"Place l'élément v au sommet de la pile\"\"\"\n",
    "        self.contenu.append(v)\n",
    "\n",
    "    def depiler(self):\n",
    "        \"\"\"\n",
    "        Retire et renvoie l'élément placé au sommet de la pile,\n",
    "        si la pile n’est pas vide. Produit une erreur sinon.\n",
    "        \"\"\"\n",
    "        assert not self.est_vide()\n",
    "        return self.contenu.pop()"
   ]
  },
  {
   "cell_type": "markdown",
   "id": "fb3782f1",
   "metadata": {},
   "source": [
    "On souhaite programmer une fonction bon_parenthesage qui prend en paramètre une chaîne de caractères ch formée de parenthèses et renvoie True si la chaîne est bien parenthésée et False sinon.\n",
    "\n",
    "Cette fonction utilise une pile et suit le principe suivant : en parcourant la chaîne de gauche à droite, si on trouve une parenthèse ouvrante, on l’empile au sommet de la pile et si on trouve une parenthèse fermante, on dépile (si possible) la parenthèse ouvrante stockée au sommet de la pile.\n",
    "\n",
    "La chaîne est alors bien parenthésée si, à la fin du parcours, la pile est vide.\n",
    "\n",
    "Elle est, par contre, mal parenthésée :\n",
    "\n",
    "si dans le parcours, on trouve une parenthèse fermante, alors que la pile est vide ;\n",
    "ou si, à la fin du parcours, la pile n’est pas vide.\n",
    "Compléter le code de la fonction bon_parenthesage ci-dessous:"
   ]
  },
  {
   "cell_type": "code",
   "execution_count": 17,
   "id": "4d2cb76d",
   "metadata": {},
   "outputs": [],
   "source": [
    "def bon_parenthesage(ch):\n",
    "    \"\"\"Renvoie un booléen indiquant si la chaîne ch \n",
    "    est bien parenthésée\"\"\"\n",
    "    p = Pile()\n",
    "    for c in ch:\n",
    "        if c == '(': \n",
    "            p.empiler(c)\n",
    "        elif c == ')': \n",
    "            if p.est_vide():\n",
    "                return False\n",
    "            else:\n",
    "                p.depiler()\n",
    "    return p.est_vide()"
   ]
  },
  {
   "cell_type": "markdown",
   "id": "1cc90467",
   "metadata": {},
   "source": [
    "Exemples :"
   ]
  },
  {
   "cell_type": "code",
   "execution_count": 18,
   "id": "6b20bba5",
   "metadata": {},
   "outputs": [],
   "source": [
    "assert bon_parenthesage(\"((()())(()))\")==True\n",
    "assert bon_parenthesage(\"())(()\")==False\n",
    "assert bon_parenthesage(\"(())(()\")==False"
   ]
  },
  {
   "cell_type": "markdown",
   "id": "35ebb37a",
   "metadata": {},
   "source": [
    "# Sujet_04\n",
    "## S_4.1\n",
    "\n",
    "Programmer la fonction `recherche`, prenant en paramètres un tableau non vide `tab` (type `list`) d'entiers et un entier `n`, et qui renvoie l'indice de la **dernière** occurrence de l'élément cherché. Si l'élément n'est pas présent, la fonction renvoie `None`."
   ]
  },
  {
   "cell_type": "code",
   "execution_count": 21,
   "id": "05472a86",
   "metadata": {},
   "outputs": [],
   "source": [
    "def recherche(a,n):\n",
    "    a_reversed = a[::-1]\n",
    "    try:\n",
    "        return len(a) - 1 - a_reversed.index(n)\n",
    "    except ValueError:\n",
    "        return None\n",
    "\n"
   ]
  },
  {
   "cell_type": "markdown",
   "id": "e6caeb6b",
   "metadata": {},
   "source": [
    "Exemples"
   ]
  },
  {
   "cell_type": "code",
   "execution_count": 22,
   "id": "f72d9ac1",
   "metadata": {},
   "outputs": [],
   "source": [
    "assert recherche([5, 3], 1)==None # renvoie None\n",
    "assert recherche([2, 4], 2)==0\n",
    "assert recherche([2, 3, 5, 2, 4], 2)==3"
   ]
  },
  {
   "cell_type": "markdown",
   "id": "f852788b",
   "metadata": {},
   "source": [
    "## S_4.2\n",
    "\n",
    "On souhaite programmer une fonction donnant la distance la plus courte entre un point\n",
    "de départ et une liste de points. Les points sont tous à coordonnées entières.\n",
    "Les points sont donnés sous la forme d'un tuple de deux entiers.\n",
    "La liste des points à traiter est donc un tableau de tuples.\n",
    "\n",
    "On rappelle que la distance entre deux points du plan de coordonnées $(x;y)$ et $(x';y')$\n",
    "vérifie la formule :\n",
    "\n",
    "$$d^2=(x-x')^2+(y-y')^2$$\n",
    "\n",
    "\n",
    "\n",
    "Compléter le code des fonctions `distance_carre` et `point_le_plus_proche` fournies ci-dessous pour qu’elles répondent à leurs spécifications."
   ]
  },
  {
   "cell_type": "code",
   "execution_count": 25,
   "id": "fc7324d5",
   "metadata": {},
   "outputs": [],
   "source": [
    "def distance_carre(point1, point2):\n",
    "    \"\"\" Calcule et renvoie la distance au carre entre \n",
    "    deux points.\"\"\"\n",
    "    return (point1[0] - point2[0])**2 + (point1[1] - point2[1])**2 \n",
    "\n",
    "def point_le_plus_proche(depart, tab):\n",
    "    \"\"\" Renvoie les coordonnées du premier point du tableau tab se \n",
    "    trouvant à la plus courte distance du point depart.\"\"\"\n",
    "    min_point = tab[0]\n",
    "    min_dist = distance_carre(min_point,depart) \n",
    "    for i in range(1, len(tab)):\n",
    "        if distance_carre(tab[i], depart) < min_dist: \n",
    "            min_point = tab[i] \n",
    "            min_dist = distance_carre(tab[i],depart)  \n",
    "    return min_point"
   ]
  },
  {
   "cell_type": "markdown",
   "id": "a6e94e32",
   "metadata": {},
   "source": [
    "Exemples :"
   ]
  },
  {
   "cell_type": "code",
   "execution_count": 26,
   "id": "4d8d6489",
   "metadata": {},
   "outputs": [],
   "source": [
    "assert distance_carre((1, 0), (5, 3))==25\n",
    "assert distance_carre((1, 0), (0, 1))==2\n",
    "assert point_le_plus_proche((0, 0), [(7, 9), (2, 5), (5, 2)])==(2, 5)\n",
    "assert point_le_plus_proche((5, 2), [(7, 9), (2, 5), (5, 2)])==(5, 2)"
   ]
  },
  {
   "cell_type": "markdown",
   "id": "95ba8975",
   "metadata": {},
   "source": [
    "# Sujet_05\n",
    "## S_5.1\n",
    "\n",
    "Écrire une fonction `max_et_indice` qui prend en paramètre un tableau non vide `tab` de\n",
    "nombres entiers et qui renvoie la valeur du plus grand élément de ce tableau ainsi que\n",
    "l’indice de sa première apparition dans ce tableau.\n",
    "\n",
    "L’utilisation de la fonction native `max` n’est pas autorisée."
   ]
  },
  {
   "cell_type": "code",
   "execution_count": 28,
   "id": "4f9c228e",
   "metadata": {},
   "outputs": [
    {
     "data": {
      "text/plain": [
       "(9, 3)"
      ]
     },
     "execution_count": 28,
     "metadata": {},
     "output_type": "execute_result"
    }
   ],
   "source": [
    "def max_et_indice(a):\n",
    "    if len(a) == 1:\n",
    "        return (a[0], 0)\n",
    "    max = a[0]\n",
    "    for v in a:\n",
    "        if v > max:\n",
    "            max = v\n",
    "    return (max, a.index(max)) \n",
    "max_et_indice([1, 5, 6, 9, 1, 2, 3, 7, 9, 8])"
   ]
  },
  {
   "cell_type": "markdown",
   "id": "41852f4b",
   "metadata": {},
   "source": [
    "Exemples :"
   ]
  },
  {
   "cell_type": "code",
   "execution_count": 27,
   "id": "52b5eb39",
   "metadata": {},
   "outputs": [],
   "source": [
    "assert max_et_indice([1, 5, 6, 9, 1, 2, 3, 7, 9, 8])==(9, 3)\n",
    "assert max_et_indice([-2])==(-2, 0)\n",
    "assert max_et_indice([-1, -1, 3, 3, 3])==(3, 2)\n",
    "assert max_et_indice([1, 1, 1, 1])==(1, 0)"
   ]
  },
  {
   "cell_type": "markdown",
   "id": "a370bdf4",
   "metadata": {},
   "source": [
    "## S_5.2\n",
    "\n",
    "L’ordre des gènes sur un chromosome est représenté par un tableau `ordre` de `n` cases\n",
    "d’entiers distincts deux à deux et compris entre 1 et `n`.\n",
    "\n",
    "Par exemple, `ordre = [5, 4, 3, 6, 7, 2, 1, 8, 9]` dans le cas `n = 9`.\n",
    "\n",
    "On dit qu’il y a un point de rupture dans `ordre` dans chacune des situations suivantes :\n",
    "\n",
    "- la première valeur de `ordre` n’est pas 1 ;\n",
    "- l’écart entre deux gènes consécutifs n’est pas égal à 1 ;\n",
    "- la dernière valeur de `ordre` n’est pas n.\n",
    "\n",
    "Par exemple, si `ordre = [5, 4, 3, 6, 7, 2, 1, 8, 9]` avec `n = 9`, on a\n",
    "\n",
    "- un point de rupture au début car 5 est différent de 1\n",
    "- un point de rupture entre 3 et 6 (l’écart est de 3)\n",
    "- un point de rupture entre 7 et 2 (l’écart est de 5)\n",
    "- un point de rupture entre 1 et 8 (l’écart est de 7)\n",
    "\n",
    "Il y a donc 4 points de rupture.\n",
    "\n",
    "Compléter les fonctions Python `est_un_ordre` et `nombre_points_rupture`\n",
    "proposées à la page suivante pour que :\n",
    "\n",
    "\n",
    "- la fonction `est_un_ordre` renvoie `True` si le tableau passé en paramètre\n",
    "représente bien un ordre de gènes de chromosome et `False` sinon ;\n",
    "\n",
    "- la fonction `nombre_points_rupture` renvoie le nombre de points de rupture\n",
    "d’un tableau passé en paramètre représentant l’ordre de gènes d’un\n",
    "chromosome."
   ]
  },
  {
   "cell_type": "code",
   "execution_count": 24,
   "id": "4a025378",
   "metadata": {},
   "outputs": [],
   "source": [
    "def est_un_ordre(tab):\n",
    "    '''\n",
    "    Renvoie True si tab est de longueur n et contient tous les\n",
    "    entiers de 1 à n, False sinon\n",
    "    '''\n",
    "    n = len(tab)\n",
    "    # les entiers vus lors du parcours\n",
    "    vus = [] \n",
    "\n",
    "    for x in tab:\n",
    "        if x < 1 or x > n or x in vus: \n",
    "            return False\n",
    "        vus.append(x) \n",
    "    return True\n",
    "\n",
    "def nombre_points_rupture(ordre):\n",
    "    '''\n",
    "    Renvoie le nombre de point de rupture de ordre qui représente \n",
    "    un ordre de gènes de chromosome\n",
    "    '''\n",
    "    # on vérifie que ordre est un ordre de gènes\n",
    "    assert(est_un_ordre(ordre) == True)\n",
    "    n = len(ordre)\n",
    "    nb = 0\n",
    "    if ordre[0] != 1: # le premier n'est pas 1 \n",
    "        nb = nb + 1\n",
    "    i = 0\n",
    "    while i < n-1: \n",
    "        if ordre[i] - ordre[i+1] not in [-1, 1]: # l'écart n'est pas 1 \n",
    "            nb = nb + 1\n",
    "        i = i + 1\n",
    "    if ordre[i] != n: # le dernier n'est pas n \n",
    "        nb = nb + 1\n",
    "    return nb\n",
    "\n"
   ]
  },
  {
   "cell_type": "markdown",
   "id": "b8415f6e",
   "metadata": {},
   "source": [
    "Exemples :"
   ]
  },
  {
   "cell_type": "code",
   "execution_count": 25,
   "id": "216a6f57",
   "metadata": {},
   "outputs": [],
   "source": [
    "assert est_un_ordre([1, 6, 2, 8, 3, 7])==False\n",
    "assert est_un_ordre([5, 4, 3, 6, 7, 2, 1, 8, 9])==True\n",
    "assert nombre_points_rupture([5, 4, 3, 6, 7, 2, 1, 8, 9])==4\n",
    "assert nombre_points_rupture([1, 2, 3, 4, 5])==0\n",
    "assert nombre_points_rupture([1, 6, 2, 8, 3, 7, 4, 5])==7\n",
    "assert nombre_points_rupture([2, 1, 3, 4])==2"
   ]
  },
  {
   "cell_type": "markdown",
   "id": "16e07958",
   "metadata": {},
   "source": [
    "# Sujet_06\n",
    "## S_6.1\n",
    "\n",
    "Écrire une fonction `verifie` qui prend en paramètre un tableau de valeurs numériques et qui renvoie `True` si ce tableau est trié dans l’ordre croissant, `False` sinon.\n",
    "\n",
    "Un tableau vide est considéré comme trié."
   ]
  },
  {
   "cell_type": "code",
   "execution_count": 35,
   "id": "8fcaaf09",
   "metadata": {},
   "outputs": [],
   "source": [
    "def verifie(a):\n",
    "    return sorted(a) == a"
   ]
  },
  {
   "cell_type": "markdown",
   "id": "088b1c3a",
   "metadata": {},
   "source": [
    "Exemples :"
   ]
  },
  {
   "cell_type": "code",
   "execution_count": 36,
   "id": "07e0e879",
   "metadata": {},
   "outputs": [],
   "source": [
    "assert verifie([0, 5, 8, 8, 9])==True\n",
    "assert verifie([8, 12, 4])==False\n",
    "assert verifie([-1, 4])==True\n",
    "assert verifie([])==True\n",
    "assert verifie([5])==True"
   ]
  },
  {
   "cell_type": "markdown",
   "id": "33b3d59f",
   "metadata": {},
   "source": [
    "## S_6.2\n",
    "\n",
    "On considère dans cet exercice l’élection d’un vainqueur à l’issue d’un vote. Les résultats\n",
    "du vote sont stockés dans un tableau : chaque vote exprimé est le nom d’un ou d’une\n",
    "candidate.  \n",
    "Par exemple, les résultats pourraient correspondre au tableau :"
   ]
  },
  {
   "cell_type": "code",
   "execution_count": null,
   "id": "6c084066",
   "metadata": {},
   "outputs": [],
   "source": [
    "urne = ['A', 'A', 'A', 'B', 'C', 'B', 'C', 'B', 'C', 'B']"
   ]
  },
  {
   "cell_type": "markdown",
   "id": "553744bf",
   "metadata": {},
   "source": [
    "indiquant que 3 candidats ont obtenu au moins un vote chacun : A, B et C.\n",
    "\n",
    "On cherche à déterminer le ou les candidats ayant obtenu le plus de suffrages. Pour cela, on propose d’écrire deux fonctions :\n",
    "\n",
    "- La fonction depouille doit permettre de compter le nombre de votes exprimés pour chaque artiste. Elle prend en paramètre un tableau et renvoie le résultat dans un dictionnaire dont les clés sont les noms des issues et les valeurs le nombre de votes en leur faveur.\n",
    "- La fonction vainqueurs doit désigner le nom du ou des gagnants. Elle prend en paramètre un dictionnaire non vide dont la structure est celle du dictionnaire renvoyé par la fonction depouille et renvoie un tableau. Ce tableau peut donc contenir plusieurs éléments s’il y a des artistes ex- aequo. Compléter les fonctions depouille et vainqueurs ci-après pour qu’elles renvoient les résultats attendus."
   ]
  },
  {
   "cell_type": "code",
   "execution_count": 43,
   "id": "e992c93d",
   "metadata": {},
   "outputs": [
    {
     "name": "stdout",
     "output_type": "stream",
     "text": [
      "{'A': 2, 'B': 1}\n"
     ]
    }
   ],
   "source": [
    "def depouille(urne):\n",
    "    '''prend en paramètre une liste de suffrages et renvoie un \n",
    "    dictionnaire avec le nombre de voix pour chaque candidat'''\n",
    "    resultat = {}\n",
    "    for bulletin in urne:\n",
    "        if bulletin in resultat: \n",
    "            resultat[bulletin] = resultat[bulletin] + 1\n",
    "        else:\n",
    "            resultat[bulletin] = 1\n",
    "    return resultat\n",
    "\n",
    "\n",
    "def vainqueurs(election):\n",
    "    '''prend en paramètre un dictionnaire non vide avec le nombre de voix\n",
    "    pour chaque candidat et renvoie la liste des vainqueurs'''\n",
    "    nmax = 0\n",
    "    for candidat in election:\n",
    "        if election[candidat] > nmax : \n",
    "            nmax = election[candidat]\n",
    "    liste_finale = [ nom for nom in election if election[nom] >= nmax ] \n",
    "    return liste_finale"
   ]
  },
  {
   "cell_type": "markdown",
   "id": "79faf185",
   "metadata": {},
   "source": [
    "Exemples d’utilisation :"
   ]
  },
  {
   "cell_type": "code",
   "execution_count": 44,
   "id": "a9268cc7",
   "metadata": {},
   "outputs": [],
   "source": [
    "assert depouille([ 'A', 'B', 'A' ])=={'A': 2, 'B': 1}\n",
    "assert depouille([])=={}\n",
    "assert depouille(['A', 'A', 'A', 'B', 'C','B', 'C', 'B', 'C', 'B'])=={'A': 3, 'B': 4, 'C': 3}\n",
    "assert vainqueurs({'A': 3, 'B': 4, 'C': 3})==['B']\n",
    "assert vainqueurs({ 'A' : 2, 'B' : 2, 'C' : 1})==['A', 'B']"
   ]
  },
  {
   "cell_type": "markdown",
   "id": "1830afb7",
   "metadata": {},
   "source": [
    "# Sujet_07\n",
    "## S_7.1\n",
    "\n",
    "On considère dans cet exercice une représentation binaire d’un entier non signé en tant que\n",
    "tableau de booléens.\n",
    "Si"
   ]
  },
  {
   "cell_type": "code",
   "execution_count": null,
   "id": "92e4d3aa",
   "metadata": {},
   "outputs": [],
   "source": [
    "tab = [True, False, True, False, False, True, True]"
   ]
  },
  {
   "cell_type": "markdown",
   "id": "6fead0ca",
   "metadata": {},
   "source": [
    "est un tel tableau, alors l’entier qu’il représente est $2^6 +2^4 + 2^1 + 2^0 = 83$. Cette représentation consistant à placer en premier le booléen indiquant la puissance la plus élevée de 2\n",
    "est dite *big-endian* ou grand-boutiste.\n",
    "\n",
    "Écrire une fonction `gb_vers_entier` qui prend en paramètre un tel tableau et renvoie\n",
    "l’entier qu’il représente."
   ]
  },
  {
   "cell_type": "code",
   "execution_count": 20,
   "id": "08c092cc",
   "metadata": {},
   "outputs": [
    {
     "name": "stdout",
     "output_type": "stream",
     "text": [
      "1\n"
     ]
    }
   ],
   "source": [
    "def gb_vers_entier(a):\n",
    "    if len(a) < 1:\n",
    "        return 0\n",
    "    dec = 0 \n",
    "    a_reversed = a[::-1]\n",
    "    for i in range(len(a_reversed)):\n",
    "        if a_reversed[i] == True:\n",
    "            dec = dec + (2**i)\n",
    "    return dec\n",
    "\n"
   ]
  },
  {
   "cell_type": "markdown",
   "id": "3a686cc1",
   "metadata": {},
   "source": [
    "Exemple :"
   ]
  },
  {
   "cell_type": "code",
   "execution_count": 21,
   "id": "e26e7a1e",
   "metadata": {},
   "outputs": [],
   "source": [
    "assert gb_vers_entier([])==0\n",
    "assert gb_vers_entier([True])==1\n",
    "assert gb_vers_entier([True, False, True, False, False, True, True])==83\n",
    "assert gb_vers_entier([True, False, False, False, False, False, True, False])==130"
   ]
  },
  {
   "cell_type": "markdown",
   "id": "4792a09e",
   "metadata": {},
   "source": [
    "## S_7.2\n",
    "\n",
    "La fonction `tri_insertion` suivante prend en argument un tableau `tab` et trie ce tableau en\n",
    "utilisant la méthode du tri par insertion. Compléter cette fonction pour qu'elle réponde à la\n",
    "spécification demandée.\n",
    "\n",
    "On rappelle le principe du tri par insertion : on considère les éléments à trier un par un,\n",
    "le premier élément constituant, à lui tout seul, un tableau trié de longueur 1. On range\n",
    "ensuite le second élément pour constituer un tableau trié de longueur 2, puis on range le\n",
    "troisième élément pour avoir un tableau trié de longueur 3 et ainsi de suite...\n",
    "\n",
    "A chaque étape, le premier élément du sous-tableau non trié est placé dans le sous-tableau\n",
    "des éléments déjà triés de sorte que ce sous-tableau demeure trié.\n",
    "\n",
    "Le principe du tri par insertion est donc d'insérer à la n-ième itération, le n-ième élément\n",
    "à la bonne place."
   ]
  },
  {
   "cell_type": "code",
   "execution_count": 33,
   "id": "e3d44077",
   "metadata": {},
   "outputs": [],
   "source": [
    "\n",
    "def tri_insertion(tab):\n",
    "    '''Trie le tableau tab par ordre croissant\n",
    "    en appliquant l'algorithme de tri par insertion'''\n",
    "    n = len(tab)\n",
    "    for i in range(1, n):\n",
    "        valeur_insertion = tab[i] \n",
    "        # la variable j sert à déterminer \n",
    "        # où placer la valeur à ranger\n",
    "        j = i \n",
    "        # tant qu'on n'a pas trouvé la place de l'élément à\n",
    "        # insérer on décale les valeurs du tableau vers la droite\n",
    "        while j > 0 and valeur_insertion < tab[j-1]: \n",
    "            tab[j] = tab[j-1]\n",
    "            j = j - 1  \n",
    "        tab[j] = valeur_insertion\n",
    "    return tab"
   ]
  },
  {
   "cell_type": "markdown",
   "id": "97e4d572",
   "metadata": {},
   "source": [
    "Exemples :"
   ]
  },
  {
   "cell_type": "code",
   "execution_count": 34,
   "id": "b5296d5e",
   "metadata": {},
   "outputs": [],
   "source": [
    "assert tri_insertion([98, 12, 104, 23, 131, 9])==[9, 12, 23, 98, 104, 131]\n"
   ]
  },
  {
   "cell_type": "markdown",
   "id": "f3c9b676",
   "metadata": {},
   "source": [
    "\n",
    "# Sujet_08\n",
    "## S_8.1\n",
    "\n",
    "Le codage par différence (*delta encoding* en anglais) permet de compresser un tableau\n",
    "d’entiers dont les valeurs sont proches les unes des autres. Le principe est de stocker la\n",
    "première donnée en indiquant pour chaque autre donnée sa différence avec la précédente\n",
    "plutôt que la donnée elle-même.\n",
    "\n",
    "On se retrouve alors avec un tableau de données plus petit, nécessitant\n",
    "moins de place en mémoire. Cette méthode se révèle efficace lorsque les valeurs consécutives\n",
    "sont proches.\n",
    "\n",
    "Programmer la fonction `delta(liste)` qui prend en paramètre un tableau non vide de nombres entiers\n",
    "et qui renvoie un tableau contenant les valeurs entières compressées à l’aide cette technique."
   ]
  },
  {
   "cell_type": "code",
   "execution_count": 36,
   "id": "9b7b9b51",
   "metadata": {},
   "outputs": [
    {
     "name": "stdout",
     "output_type": "stream",
     "text": [
      "[1000, -200, 2, 198, 3]\n"
     ]
    }
   ],
   "source": [
    "def delta(a):\n",
    "    if len(a) == 1:\n",
    "        return a\n",
    "    lst = [a[0]]\n",
    "    for i in range(1,len(a)):\n",
    "        lst.append(a[i] - a[i-1])\n",
    "    return lst\n"
   ]
  },
  {
   "cell_type": "markdown",
   "id": "54b1787c",
   "metadata": {},
   "source": [
    "Exemples :"
   ]
  },
  {
   "cell_type": "code",
   "execution_count": 37,
   "id": "c59ea3e1",
   "metadata": {},
   "outputs": [],
   "source": [
    "assert delta([1000, 800, 802, 1000, 1003])==[1000, -200, 2, 198, 3]\n",
    "assert delta([42])==[42] "
   ]
  },
  {
   "cell_type": "markdown",
   "id": "f8fcd129",
   "metadata": {},
   "source": [
    "## S_8.2\n",
    "\n",
    "Une expression arithmétique ne comportant que les quatre opérations +, −, ×, ÷ peut être\n",
    "représentée sous forme d’arbre binaire. Les nœuds internes sont des opérateurs et les feuilles\n",
    "sont des nombres. Dans un tel arbre, la disposition des nœuds joue le rôle des parenthèses que\n",
    "nous connaissons bien.  \n",
    "\n",
    "![alt text](images/image-1.png)\n",
    "\n",
    "En parcourant en profondeur infixe l’arbre binaire ci-dessus, on\n",
    "retrouve l’expression notée habituellement :  \n",
    "\n",
    "\n",
    "$$(3 \\times (8 + 7)) − (2 + 1)$$\n",
    "\n",
    "\n",
    "La classe `Expr` ci-après permet d’implémenter une structure\n",
    "d’arbre binaire pour représenter de telles expressions.\n",
    "\n",
    "Compléter la méthode récursive `infixe` qui renvoie une chaîne de caractères contenant\n",
    "des parenthèses représentant l’expression arithmétique sur laquelle on l’applique."
   ]
  },
  {
   "cell_type": "code",
   "execution_count": 49,
   "id": "75fb5fd1",
   "metadata": {},
   "outputs": [
    {
     "name": "stdout",
     "output_type": "stream",
     "text": [
      "(1+2)\n"
     ]
    }
   ],
   "source": [
    "class Expr:\n",
    "    \"\"\"Classe implémentant un arbre d'expression.\"\"\"\n",
    "\n",
    "    def __init__(self, g, v, d):\n",
    "        \"\"\"un objet Expr possède 3 attributs :\n",
    "        - gauche : la sous-expression gauche ;\n",
    "        - valeur : la valeur de l'étiquette, opérande ou nombre ;\n",
    "        - droite : la sous-expression droite.\"\"\"\n",
    "        self.gauche = g\n",
    "        self.valeur = v\n",
    "        self.droite = d\n",
    "\n",
    "    def est_une_feuille(self):\n",
    "        \"\"\"renvoie True si et seulement \n",
    "        si le noeud est une feuille\"\"\"\n",
    "        return self.gauche is None and self.droite is None\n",
    "\n",
    "    def infixe(self):\n",
    "        \"\"\"renvoie la représentation infixe de l'expression en\n",
    "        chaine de caractères\"\"\"\n",
    "        s = ''\n",
    "        if self.gauche is not None:\n",
    "            s = '(' + s + self.gauche.infixe() \n",
    "        s = s + str(self.valeur)\n",
    "        if self.droite is not None: \n",
    "            s = s + self.droite.infixe() + ')' \n",
    "        return s\n",
    "    \n"
   ]
  },
  {
   "cell_type": "markdown",
   "id": "991c3231",
   "metadata": {},
   "source": [
    "Exemples :"
   ]
  },
  {
   "cell_type": "code",
   "execution_count": 50,
   "id": "58bd264e",
   "metadata": {},
   "outputs": [],
   "source": [
    "a = Expr(Expr(None, 1, None), '+', Expr(None, 2, None))\n",
    "assert a.infixe()=='(1+2)'\n",
    "b = Expr(Expr(Expr(None, 1, None), '+', Expr(None, 2, None)), '*', Expr(Expr(None, 3, None), '+', Expr(None, 4, None)))\n",
    "assert b.infixe()=='((1+2)*(3+4))'\n",
    "e = Expr(Expr(Expr(None, 3, None), '*', Expr(Expr(None, 8, None), '+', Expr(None, 7, None))),'-', Expr(Expr(None, 2, None), '+', Expr(None, 1, None)))\n",
    "assert e.infixe()=='((3*(8+7))-(2+1))'"
   ]
  },
  {
   "cell_type": "markdown",
   "id": "90599a94",
   "metadata": {},
   "source": [
    "# Sujet_09\n",
    "## S_9.1\n",
    "\n",
    "On veut trier par ordre croissant les notes d’une évaluation qui sont des nombres entiers\n",
    "compris entre 0 et 10 (inclus).\n",
    "\n",
    "Ces notes sont contenues dans un tableau `notes_eval` (type `list`)\n",
    "\n",
    "Écrire une fonction `effectif_notes` prenant en paramètre le tableau `notes_eval` et\n",
    "renvoyant un tableau de longueur 11 tel que la valeur d’indice `i` soit le nombre de notes\n",
    "valant `i` dans le tableau `notes_eval`.\n",
    "\n",
    "Écrire ensuite une fonction `notes_triees` prenant en paramètre le tableau des effectifs\n",
    "des notes et renvoyant un tableau contenant les mêmes valeurs que `notes_eval` mais\n",
    "triées dans l’ordre croissant."
   ]
  },
  {
   "cell_type": "code",
   "execution_count": 5,
   "id": "c09e698a",
   "metadata": {},
   "outputs": [],
   "source": [
    "def effectif_notes(a):\n",
    "    count = []\n",
    "    for i in range(11):\n",
    "        count.append(a.count(i))\n",
    "    return count\n",
    "\n",
    "\n",
    "def notes_triees(b):\n",
    "    trie = []\n",
    "    for i,v in enumerate(b):\n",
    "        for t in range(v):\n",
    "            trie.append(i)\n",
    "    return trie\n"
   ]
  },
  {
   "cell_type": "markdown",
   "id": "da8c2ed2",
   "metadata": {},
   "source": [
    "Exemple :"
   ]
  },
  {
   "cell_type": "code",
   "execution_count": 4,
   "id": "b11e3e1a",
   "metadata": {},
   "outputs": [],
   "source": [
    "notes_eval = [2, 0, 5, 9, 6, 9, 10, 5, 7, 9, 9, 5, 0, 9, 6, 5, 4]\n",
    "assert effectif_notes(notes_eval)==[2, 0, 1, 0, 1, 4, 2, 1, 0, 5, 1]\n",
    "assert notes_triees([2, 0, 1, 0, 1, 4, 2, 1, 0, 5, 1])==[0, 0, 2, 4, 5, 5, 5, 5, 6, 6, 7, 9, 9, 9, 9, 9, 10]"
   ]
  },
  {
   "cell_type": "markdown",
   "id": "9e7d1541",
   "metadata": {},
   "source": [
    "## S_9.2\n",
    "\n",
    "L’objectif de cet exercice est d’écrire deux fonctions récursives `dec_to_bin` et\n",
    "`bin_to_dec` assurant respectivement la conversion de l’écriture décimale d’un nombre\n",
    "entier vers son écriture en binaire et, réciproquement, la conversion de l’écriture en\n",
    "binaire d’un nombre vers son écriture décimale.\n",
    "\n",
    "Dans cet exercice, on s’interdit l’usage des fonctions Python `bin` et `int`.\n",
    "\n",
    "L'exemple suivant montre comment obtenir l’écriture en binaire du\n",
    "nombre 25 :\n",
    "\n",
    "$25 =  2 \\times 12 + 1$  \n",
    "$\\phantom{25} = 2 \\times (2 \\times 6 + 0) + 1$  \n",
    "$\\phantom{25} = 2 \\times (2 \\times (2 \\times 3 + 0) + 0) + 1$  \n",
    "$\\phantom{25} = 2 \\times (2 \\times (2 \\times (2 \\times 1+1) + 0) + 0) + 1$     \n",
    "$\\phantom{25} = 2 \\times (2 \\times (2 \\times (2 \\times (2 \\times 0 + 1)+1) + 0) + 0) + 1$   \n",
    "$\\phantom{25} = 1 \\times 2^4 + 1 \\times 2^3 + 0 \\times 2^2 + 0 \\times 2^1 + 1 \\times 2^0$   \n",
    "\n",
    "L'écriture binaire de 25 est donc ```11001```.\n",
    "\n",
    "0n rappelle également que :\n",
    "\n",
    "- `a // 2` renvoie le quotient de la division euclidienne de `a` par 2.\n",
    "- ` a % 2` renvoie le reste dans la division euclidienne de `a` par 2.\n",
    "\n",
    "On indique enfin qu’en Python si `mot = \"informatique\"` alors :\n",
    "\n",
    "- `mot[-1]` renvoie `'e'`, c’est-à-dire le dernier caractère de la chaîne de caractères `mot`.\n",
    "- `mot[:-1]` renvoie `'informatiqu'` , c’est-à-dire l’ensemble de la chaîne de\n",
    "caractères `mot` privée de son dernier caractère.\n",
    "\n",
    "Compléter, puis tester, les codes de deux fonctions ci-dessous. \n",
    "On précise que la fonction récursive `dec_to_bin` prend en paramètre un nombre entier\n",
    "et renvoie une chaîne de caractères contenant l’écriture en binaire du nombre passé en\n",
    "paramètre."
   ]
  },
  {
   "cell_type": "code",
   "execution_count": 37,
   "id": "7dbedc3b",
   "metadata": {},
   "outputs": [
    {
     "name": "stdout",
     "output_type": "stream",
     "text": [
      "10\n"
     ]
    }
   ],
   "source": [
    "def dec_to_bin(nb_dec):\n",
    "    q, r = nb_dec // 2, nb_dec % 2\n",
    "    if q == 0: \n",
    "        return '1'\n",
    "    else:\n",
    "        return dec_to_bin(q) + str(r)\n",
    "    \n",
    "\n",
    "def bin_to_dec(nb_bin):\n",
    "    if len(nb_bin) == 1:\n",
    "        if nb_bin == '0': \n",
    "            return 0\n",
    "        else:\n",
    "            return 1 \n",
    "    else:\n",
    "        if nb_bin[-1] == '0':\n",
    "            bit_droit = 0\n",
    "        else:\n",
    "            bit_droit = 1\n",
    "        return 2 * bin_to_dec(nb_bin[:-1]) + bit_droit\n",
    "    \n",
    "print(bin_to_dec('1010'))\n"
   ]
  },
  {
   "cell_type": "markdown",
   "id": "8eff05ba",
   "metadata": {},
   "source": [
    "Exemple :"
   ]
  },
  {
   "cell_type": "code",
   "execution_count": 38,
   "id": "3a423d2c",
   "metadata": {},
   "outputs": [],
   "source": [
    "assert dec_to_bin(25)=='11001'"
   ]
  },
  {
   "cell_type": "markdown",
   "id": "6694bdb3",
   "metadata": {},
   "source": [
    "La fonction récursive bin_to_dec prend en paramètre une chaîne de caractères représentant l’écriture d’un nombre en binaire et renvoie l’écriture décimale de ce nombre."
   ]
  },
  {
   "cell_type": "code",
   "execution_count": 39,
   "id": "0636afa0",
   "metadata": {},
   "outputs": [],
   "source": [
    "assert bin_to_dec('101010')==42"
   ]
  },
  {
   "cell_type": "markdown",
   "id": "624ce3da",
   "metadata": {},
   "source": [
    "# Sujet_10\n",
    "## S_10.1\n",
    "\n",
    "Dans cet exercice on cherche à calculer la moyenne pondérée d’un élève dans une matière\n",
    "donnée. Chaque note est associée à un coefficient qui la pondère.\n",
    "\n",
    "Par exemple, si ses notes sont : 14 avec coefficient 3, 12 avec coefficient 1 et 16 avec coeffi-\n",
    "cient 2, sa moyenne pondérée sera donnée par\n",
    "\n",
    "$$\\dfrac{14 \\times 3 + 12 \\times 1 + 16 \\times 2}{3+1+2}=14,333... $$\n",
    "\n",
    "Écrire une fonction `moyenne` :\n",
    "\n",
    "- qui prend en paramètre une liste notes non vide de tuples à deux éléments entiers\n",
    "de la forme `(note, coefficient)` (`int` ou `float`) positifs ou nuls ;\n",
    "- et qui renvoie la moyenne pondérée des notes de la liste sous forme de flottant si la\n",
    "somme des coefficients est non nulle, `None` sinon."
   ]
  },
  {
   "cell_type": "code",
   "execution_count": 57,
   "id": "e74ed6c1",
   "metadata": {},
   "outputs": [],
   "source": [
    "def moyenne(a):\n",
    "    note = sum(v[0]*v[1] for v in a)\n",
    "    coef = sum(v[1] for v in a)\n",
    "    if coef != 0:\n",
    "        return note/coef\n"
   ]
  },
  {
   "cell_type": "markdown",
   "id": "7b19b79b",
   "metadata": {},
   "source": [
    "Exemple :"
   ]
  },
  {
   "cell_type": "code",
   "execution_count": 58,
   "id": "a2aaae90",
   "metadata": {},
   "outputs": [],
   "source": [
    "assert moyenne([(8, 2), (12, 0), (13.5, 1), (5, 0.5)])==9.142857142857142\n",
    "assert moyenne([(3, 0), (5, 0)])==None"
   ]
  },
  {
   "cell_type": "markdown",
   "id": "c4984485",
   "metadata": {},
   "source": [
    "## S_10.2\n",
    "\n",
    "![alt text](images/image-2.png)\n",
    "\n",
    "On travaille sur des dessins en noir et blanc obtenus à partir de pixels noirs et blancs :\n",
    "La figure « cœur » ci-dessus va servir d’exemple.\n",
    "On la représente par une grille de nombres, c’est-à-dire par une liste composée de sous-listes de même longueurs.\n",
    "Chaque sous-liste représentera donc une ligne du dessin.\n",
    "\n",
    "Dans le code ci-dessous, la fonction `affiche` permet d’afficher le dessin. Les pixels noirs\n",
    "(1 dans la grille) seront représentés par le caractère \"*\" et les blancs (0 dans la grille) par\n",
    "deux espaces.\n",
    "\n",
    "La fonction `liste_zoom` prend en arguments une liste `liste_depart` et un entier `k`. Elle\n",
    "renvoie une liste où chaque élément de `liste_depart` est dupliqué `k` fois.\n",
    "\n",
    "La fonction `dessin_zoom` prend en argument la grille `dessin` et renvoie une grille où\n",
    "toutes les lignes de `dessin` sont zoomées `k` fois et répétées `k` fois.\n",
    "\n",
    "Compléter les fonctions `liste_zoom` et `dessin_zoom` du code suivant :"
   ]
  },
  {
   "cell_type": "code",
   "execution_count": 79,
   "id": "e4150655",
   "metadata": {},
   "outputs": [],
   "source": [
    "def affiche(dessin):\n",
    "    ''' affichage d'une grille : les 1 sont représentés par \n",
    "        des \"*\" , les 0 par un espace \" \" '''\n",
    "    for ligne in dessin:\n",
    "        affichage = ''\n",
    "        for col in ligne:\n",
    "            if col == 1:\n",
    "                affichage = affichage + \"*\"\n",
    "            else:\n",
    "                affichage = affichage + \" \"\n",
    "        print(affichage)\n",
    "\n",
    "\n",
    "def liste_zoom(liste_depart,k):\n",
    "    '''renvoie une liste contenant k fois chaque élément de\n",
    "       liste_depart'''\n",
    "    liste_zoomee = [] \n",
    "    for elt in liste_depart : \n",
    "        for i in range(k):\n",
    "            liste_zoomee.append(elt)\n",
    "    return liste_zoomee\n",
    "\n",
    "def dessin_zoom(grille,k):\n",
    "    '''renvoie une grille où les lignes sont zoomées k fois \n",
    "       ET répétées k fois'''\n",
    "    grille_zoomee=[]\n",
    "    for ligne in grille:\n",
    "        ligne_zoomee = liste_zoom(ligne,k) \n",
    "        for i in range(k):\n",
    "            grille_zoomee.append(ligne_zoomee*k) \n",
    "    return grille_zoomee"
   ]
  },
  {
   "cell_type": "markdown",
   "id": "4e2d54b8",
   "metadata": {},
   "source": [
    "Exemples :"
   ]
  },
  {
   "cell_type": "code",
   "execution_count": 80,
   "id": "692eac09",
   "metadata": {},
   "outputs": [
    {
     "name": "stdout",
     "output_type": "stream",
     "text": [
      "             \n",
      "   **   **   \n",
      "  *  * *  *  \n",
      " *    *    * \n",
      " *         * \n",
      " *         * \n",
      "  *       *  \n",
      "   *     *   \n",
      "    *   *    \n",
      "     * *     \n",
      "      *      \n",
      "             \n"
     ]
    }
   ],
   "source": [
    "coeur = [[0, 0, 0, 0, 0, 0, 0, 0, 0, 0, 0, 0, 0], \n",
    "        [0, 0, 0, 1, 1, 0, 0, 0, 1, 1, 0, 0, 0], \n",
    "        [0, 0, 1, 0, 0, 1, 0, 1, 0, 0, 1, 0, 0], \n",
    "        [0, 1, 0, 0, 0, 0, 1, 0, 0, 0, 0, 1, 0], \n",
    "        [0, 1, 0, 0, 0, 0, 0, 0, 0, 0, 0, 1, 0], \n",
    "        [0, 1, 0, 0, 0, 0, 0, 0, 0, 0, 0, 1, 0], \n",
    "        [0, 0, 1, 0, 0, 0, 0, 0, 0, 0, 1, 0, 0], \n",
    "        [0, 0, 0, 1, 0, 0, 0, 0, 0, 1, 0, 0, 0], \n",
    "        [0, 0, 0, 0, 1, 0, 0, 0, 1, 0, 0, 0, 0], \n",
    "        [0, 0, 0, 0, 0, 1, 0, 1, 0, 0, 0, 0, 0], \n",
    "        [0, 0, 0, 0, 0, 0, 1, 0, 0, 0, 0, 0, 0], \n",
    "        [0, 0, 0, 0, 0, 0, 0, 0, 0, 0, 0, 0, 0]]\n",
    "\n",
    "affiche(coeur)"
   ]
  },
  {
   "cell_type": "code",
   "execution_count": 62,
   "id": "15761aac",
   "metadata": {
    "attributes": {
     "classes": [
      "markdown"
     ],
     "id": ""
    }
   },
   "outputs": [
    {
     "ename": "IndentationError",
     "evalue": "unindent does not match any outer indentation level (<string>, line 3)",
     "output_type": "error",
     "traceback": [
      "\u001b[1;36m  File \u001b[1;32m<string>:3\u001b[1;36m\u001b[0m\n\u001b[1;33m    *         *         *\u001b[0m\n\u001b[1;37m                           ^\u001b[0m\n\u001b[1;31mIndentationError\u001b[0m\u001b[1;31m:\u001b[0m unindent does not match any outer indentation level\n"
     ]
    }
   ],
   "source": [
    "        * *       * *      \n",
    "     *     *   *     *    \n",
    "   *         *         *  \n",
    "   *                   *  \n",
    "   *                   *  \n",
    "     *               *    \n",
    "       *           *      \n",
    "         *       *        \n",
    "           *   *          \n",
    "             *"
   ]
  },
  {
   "cell_type": "code",
   "execution_count": 81,
   "id": "bf9f3351",
   "metadata": {},
   "outputs": [
    {
     "name": "stdout",
     "output_type": "stream",
     "text": [
      "                                                    \n",
      "                                                    \n",
      "      ****      ****            ****      ****      \n",
      "      ****      ****            ****      ****      \n",
      "    **    **  **    **        **    **  **    **    \n",
      "    **    **  **    **        **    **  **    **    \n",
      "  **        **        **    **        **        **  \n",
      "  **        **        **    **        **        **  \n",
      "  **                  **    **                  **  \n",
      "  **                  **    **                  **  \n",
      "  **                  **    **                  **  \n",
      "  **                  **    **                  **  \n",
      "    **              **        **              **    \n",
      "    **              **        **              **    \n",
      "      **          **            **          **      \n",
      "      **          **            **          **      \n",
      "        **      **                **      **        \n",
      "        **      **                **      **        \n",
      "          **  **                    **  **          \n",
      "          **  **                    **  **          \n",
      "            **                        **            \n",
      "            **                        **            \n",
      "                                                    \n",
      "                                                    \n"
     ]
    }
   ],
   "source": [
    "affiche(dessin_zoom(coeur,2))"
   ]
  },
  {
   "cell_type": "code",
   "execution_count": null,
   "id": "6807fafc",
   "metadata": {
    "attributes": {
     "classes": [
      "markdown"
     ],
     "id": ""
    }
   },
   "outputs": [],
   "source": [
    "\n",
    "\n",
    "             * * * *             * * * *            \n",
    "             * * * *             * * * *            \n",
    "         * *         * *     * *         * *        \n",
    "         * *         * *     * *         * *        \n",
    "     * *                 * *                 * *    \n",
    "     * *                 * *                 * *    \n",
    "     * *                                     * *    \n",
    "     * *                                     * *    \n",
    "     * *                                     * *    \n",
    "     * *                                     * *    \n",
    "         * *                             * *        \n",
    "         * *                             * *        \n",
    "             * *                     * *            \n",
    "             * *                     * *            \n",
    "                 * *             * *                \n",
    "                 * *             * *                \n",
    "                     * *     * *                    \n",
    "                     * *     * *                    \n",
    "                         * *                        \n",
    "                         * *                        "
   ]
  },
  {
   "cell_type": "code",
   "execution_count": 82,
   "id": "66b781be",
   "metadata": {},
   "outputs": [],
   "source": [
    "assert liste_zoom([1,2,3],3)==[1, 1, 1, 2, 2, 2, 3, 3, 3]"
   ]
  },
  {
   "cell_type": "markdown",
   "id": "092a9d29",
   "metadata": {},
   "source": [
    "# Sujet_11\n",
    "## S_11.1\n",
    "\n",
    "Dans cet exercice, on considère des phrases composées de mots.\n",
    "\n",
    "- On appelle « mot » une chaîne de caractères composée avec des caractères choisis\n",
    "parmi les 26 lettres minuscules ou majuscules de l'alphabet,\n",
    "\n",
    "- On appelle *phrase* une chaîne de caractères :\n",
    "    - composée avec un ou plusieurs *mots* séparés entre eux par un seul\n",
    "caractère espace `' '`,\n",
    "    - se finissant :\n",
    "        - soit par un point `'.'` qui est alors collé au dernier mot,\n",
    "        - soit par un point d'exclamation `'!'` ou d'interrogation `'?'` qui est alors\n",
    "séparé du dernier mot par un seul caractère espace `' '`.\n",
    "\n",
    "Voici deux exemples de phrases :\n",
    "\n",
    "- 'Cet exercice est simple.'\n",
    "- 'Le point d exclamation est separe !'\n",
    "\n",
    "Après avoir remarqué le lien entre le nombre de mots et le nombres de caractères espace\n",
    "dans une phrase, programmer une fonction `nombre_de_mots` qui prend en paramètre une\n",
    "phrase et renvoie le nombre de mots présents dans cette phrase."
   ]
  },
  {
   "cell_type": "code",
   "execution_count": 101,
   "id": "1e08464c",
   "metadata": {},
   "outputs": [
    {
     "name": "stdout",
     "output_type": "stream",
     "text": [
      "6\n"
     ]
    }
   ],
   "source": [
    "def nombre_de_mots(a):\n",
    "    a = a.strip('!').strip('?').strip('.')\n",
    "    return len(a.split())\n"
   ]
  },
  {
   "cell_type": "code",
   "execution_count": 102,
   "id": "49a8880a",
   "metadata": {},
   "outputs": [],
   "source": [
    "assert nombre_de_mots('Cet exercice est simple.')==4\n",
    "assert nombre_de_mots('Le point d exclamation est séparé !')==6\n",
    "assert nombre_de_mots('Combien de mots y a t il dans cette phrase ?')==10\n",
    "assert nombre_de_mots('Fin.')==1"
   ]
  },
  {
   "cell_type": "markdown",
   "id": "b09c0cae",
   "metadata": {},
   "source": [
    "## S_11.2\n",
    "\n",
    "Un arbre binaire de recherche est soit vide, représenté en Python par la valeur None, soit\n",
    "un nœud, contenant une étiquette et deux sous-arbres gauche et droit et représenté par\n",
    "une instance de la classe Noeud donnée ci-dessous.\n",
    "\n",
    "On considère ici que les étiquettes des nœuds sont des entiers et que les arbres binaires de\n",
    "recherche considérés ne contiennent pas de doublons."
   ]
  },
  {
   "cell_type": "code",
   "execution_count": 12,
   "id": "f0343447",
   "metadata": {},
   "outputs": [],
   "source": [
    "class Noeud:\n",
    "    def __init__(self, etiquette):\n",
    "        '''Méthode constructeur pour la classe Noeud.\n",
    "        Crée une feuille d'étiquette donnée.'''\n",
    "        self.etiquette = etiquette\n",
    "        self.gauche = None\n",
    "        self.droit = None\n",
    "\n",
    "    def inserer(self, cle):\n",
    "        '''Insère la clé dans l'arbre binaire de recherche\n",
    "        en préservant sa structure.'''\n",
    "        if cle < self.etiquette:\n",
    "            if self.gauche != None:\n",
    "                self.gauche.inserer(cle)\n",
    "            else:\n",
    "                self.gauche = Noeud(cle)\n",
    "        else:\n",
    "            if self.droit != None:\n",
    "                self.droit.inserer(cle)\n",
    "            else:\n",
    "                self.droit = Noeud(cle)"
   ]
  },
  {
   "cell_type": "markdown",
   "id": "a1ef91f8",
   "metadata": {},
   "source": [
    "Compléter la méthode récursive inserer afin qu’elle permette d’insérer une clé dans l’arbre binaire de recherche non vide sur lequel on l’appelle.\n",
    "\n",
    "Voici un exemple d'utilisation :"
   ]
  },
  {
   "cell_type": "code",
   "execution_count": 15,
   "id": "375fab72",
   "metadata": {},
   "outputs": [],
   "source": [
    "arbre = Noeud(7)\n",
    "for cle in (3, 9, 1, 6):\n",
    "    arbre.inserer(cle)\n",
    "\n",
    "assert arbre.gauche.etiquette==3\n",
    "assert arbre.droit.etiquette==9\n",
    "assert arbre.gauche.gauche.etiquette==1\n",
    "assert arbre.gauche.droit.etiquette==6"
   ]
  },
  {
   "cell_type": "markdown",
   "id": "06ea330f",
   "metadata": {},
   "source": [
    "# Sujet_12\n",
    "## S_12.1\n",
    "\n",
    "Écrire une fonction `tri_selection` qui prend en paramètre un tableau `tab` de nombres\n",
    "entiers (type `list`) et qui le modifie afin qu’il soit trié par ordre croissant.\n",
    "\n",
    "On utilisera l’algorithme suivant :\n",
    "\n",
    "- on recherche le plus petit élément du tableau, en le parcourant du rang 0 au dernier\n",
    "rang, et on l’échange avec l’élément d’indice 0 ;\n",
    "- on recherche ensuite le plus petit élément du tableau restreint du rang 1 au dernier\n",
    "rang, et on l’échange avec l’élément d’indice 1 ;\n",
    "- on continue de cette façon jusqu’à ce que le tableau soit entièrement trié."
   ]
  },
  {
   "cell_type": "code",
   "execution_count": 37,
   "id": "ead5ae39",
   "metadata": {},
   "outputs": [
    {
     "name": "stdout",
     "output_type": "stream",
     "text": [
      "[-9, 1, 6, 12, 52]\n"
     ]
    }
   ],
   "source": [
    "def tri_selection(a):\n",
    "    for k in range(len(a)):\n",
    "        min = a[k]\n",
    "        i_min = k\n",
    "        for i in range(1+k,len(a)):\n",
    "            if min > a[i]:\n",
    "                min = a[i]\n",
    "                i_min = i\n",
    "        a[k], a[i_min] = min, a[k]\n",
    "    return a\n",
    "print(tri_selection([1, 52, 6, -9, 12]))"
   ]
  },
  {
   "cell_type": "markdown",
   "id": "960a64b8",
   "metadata": {},
   "source": [
    "Exemple :"
   ]
  },
  {
   "cell_type": "code",
   "execution_count": 38,
   "id": "dabe39dc",
   "metadata": {},
   "outputs": [],
   "source": [
    "tab = [1, 52, 6, -9, 12]\n",
    "assert tri_selection(tab)==[-9, 1, 6, 12, 52]"
   ]
  },
  {
   "cell_type": "markdown",
   "id": "64c464fc",
   "metadata": {},
   "source": [
    "## S_12.2\n",
    "\n",
    "Le jeu du « plus ou moins » consiste à deviner un nombre entier choisi entre 1 et 99.\n",
    "\n",
    "Une élève de NSI décide de le coder en langage Python de la manière suivante :\n",
    "\n",
    "- le programme génère un nombre entier aléatoire compris entre 1 et 99 ;\n",
    "- si la proposition de l’utilisatrice est plus petite que le nombre cherché, l’utilisatrice en\n",
    "est avertie. Elle peut alors en tester un autre ;\n",
    "- si la proposition de l’utilisatrice est plus grande que le nombre cherché, l’utilisatrice en\n",
    "est avertie. Elle peut alors en tester un autre ;\n",
    "- si l’utilisatrice trouve le bon nombre en 10 essais ou moins, elle gagne ;\n",
    "- si l’utilisatrice a fait plus de 10 essais sans trouver le bon nombre, elle perd.\n",
    "\n",
    "La fonction `randint` est utilisée.  \n",
    "Si a et b sont des entiers tels que `a <= b`, `randint(a,b)` renvoie un\n",
    "nombre entier compris entre `a` et `b`.\n",
    "\n",
    "\n",
    "Compléter le code ci-dessous et le tester :"
   ]
  },
  {
   "cell_type": "code",
   "execution_count": 43,
   "id": "34b38ea2",
   "metadata": {},
   "outputs": [],
   "source": [
    "from random import randint\n",
    "\n",
    "def plus_ou_moins():\n",
    "    nb_mystere = randint(1,99)\n",
    "    nb_test = int(input(\"Proposez un nombre entre 1 et 99 : \"))\n",
    "    compteur = 0\n",
    "\n",
    "    while nb_mystere != nb_test and compteur < 10 :\n",
    "        compteur = compteur + 1\n",
    "        if nb_mystere > nb_test:\n",
    "            nb_test = int(input(\"Trop petit ! Testez encore : \"))\n",
    "        else:\n",
    "            nb_test = int(input(\"Trop grand ! Testez encore : \"))\n",
    "\n",
    "    if nb_mystere == nb_test:\n",
    "        print (\"Bravo ! Le nombre était \",nb_mystere)\n",
    "        print(\"Nombre d'essais: \",compteur)\n",
    "    else:\n",
    "        print (\"Perdu ! Le nombre était \",nb_mystere)"
   ]
  },
  {
   "cell_type": "markdown",
   "id": "6636f85a",
   "metadata": {},
   "source": [
    "# Sujet_13\n",
    "## S_13.1\n",
    "\n",
    "Écrire une fonction `recherche` qui prend en paramètres `elt` un nombre entier et `tab`\n",
    "un tableau de nombres entiers (type `list`), et qui renvoie l’indice de la première occurrence de `elt` dans `tab` si `elt` est dans `tab` et `None` sinon.\n",
    "\n",
    "L’objectif de cet exercice est de parcourir un tableau, il est interdit d’utiliser la méthode\n",
    "`index` des listes Python."
   ]
  },
  {
   "cell_type": "code",
   "execution_count": 45,
   "id": "25ea4812",
   "metadata": {},
   "outputs": [],
   "source": [
    "def recherche(elt,tab):\n",
    "    if elt not in tab:\n",
    "        return None\n",
    "    return tab.index(elt)"
   ]
  },
  {
   "cell_type": "markdown",
   "id": "c0fcbb4b",
   "metadata": {},
   "source": [
    "Exemples :"
   ]
  },
  {
   "cell_type": "code",
   "execution_count": 46,
   "id": "71f2e3e7",
   "metadata": {},
   "outputs": [],
   "source": [
    "assert recherche(1, [2, 3, 4])==None # renvoie None\n",
    "assert recherche(1, [10, 12, 1, 56])==2\n",
    "assert recherche(50, [1, 50, 1])==1\n",
    "assert recherche(15, [8, 9, 10, 15])==3"
   ]
  },
  {
   "cell_type": "markdown",
   "id": "b9dce8ad",
   "metadata": {},
   "source": [
    "## S_13.2\n",
    "\n",
    "On considère la fonction `insere` ci-dessous qui prend en argument un tableau `tab` d’en-\n",
    "tiers triés par ordre croissant et un entier `a`. \n",
    "\n",
    "Cette fonction crée et renvoie un nouveau tableau à partir de celui fourni en paramètre en y\n",
    "insérant la valeur `a` de sorte que le tableau renvoyé soit encore trié par ordre croissant. Les\n",
    "tableaux seront représentés sous la forme de listes Python."
   ]
  },
  {
   "cell_type": "code",
   "execution_count": 64,
   "id": "ee62eea6",
   "metadata": {},
   "outputs": [
    {
     "data": {
      "text/plain": [
       "[1, 2, 7, 12, 14, 25, 30]"
      ]
     },
     "execution_count": 64,
     "metadata": {},
     "output_type": "execute_result"
    }
   ],
   "source": [
    "def insere(tab, a):\n",
    "    \"\"\"\n",
    "    Insère l'élément a (int) dans le tableau tab (list)\n",
    "    trié par ordre croissant à sa place et renvoie le\n",
    "    nouveau tableau.\n",
    "    \"\"\"\n",
    "    tab_a = [ a ] + tab # nouveau tableau contenant a \n",
    "                        # suivi des éléments de tab\n",
    "    i = 0\n",
    "    while i < len(tab_a)-1 and a > tab_a[i+1]: \n",
    "        tab_a[i] = tab_a[i+1]\n",
    "        tab_a[i+1] = a\n",
    "        i = i + 1 \n",
    "    return tab_a\n",
    "\n"
   ]
  },
  {
   "cell_type": "markdown",
   "id": "01b6272d",
   "metadata": {},
   "source": [
    "Compléter la fonction insere ci-dessus.\n",
    "\n",
    "Exemples :"
   ]
  },
  {
   "cell_type": "code",
   "execution_count": 65,
   "id": "4ae14380",
   "metadata": {},
   "outputs": [],
   "source": [
    "assert insere([1, 2, 4, 5], 3)==[1, 2, 3, 4, 5]\n",
    "assert insere([1, 2, 7, 12, 14, 25], 30)==[1, 2, 7, 12, 14, 25, 30]\n",
    "assert insere([2, 3, 4], 1)==[1, 2, 3, 4]\n",
    "assert insere([], 1)==[1]"
   ]
  },
  {
   "cell_type": "markdown",
   "id": "00505de4",
   "metadata": {},
   "source": [
    "# Sujet_14\n",
    "## S_14.1\n",
    "\n",
    "Écrire une fonction `min_et_max` qui prend en paramètre un tableau de nombres `tab` non vide, et qui renvoie la plus petite et la plus grande valeur du tableau sous la\n",
    "forme d’un dictionnaire à deux clés `min` et `max`.\n",
    "\n",
    "Les tableaux seront représentés sous forme de liste Python.\n",
    "\n",
    "L’utilisation des fonctions natives `min`, `max` et `sorted`, ainsi que la méthode `sort` n’est pas\n",
    "autorisée."
   ]
  },
  {
   "cell_type": "code",
   "execution_count": 69,
   "id": "f3a47c69",
   "metadata": {},
   "outputs": [
    {
     "data": {
      "text/plain": [
       "{'min': -2, 'max': 9}"
      ]
     },
     "execution_count": 69,
     "metadata": {},
     "output_type": "execute_result"
    }
   ],
   "source": [
    "def min_et_max(a):\n",
    "    mm = {'min': a[0], 'max' : a[0]}\n",
    "    for i in range(len(a)):\n",
    "        if mm['min'] > a[i]:\n",
    "            mm['min'] = a[i]\n",
    "        elif mm['max'] < a[i]:\n",
    "            mm['max'] = a[i]\n",
    "    return mm\n"
   ]
  },
  {
   "cell_type": "markdown",
   "id": "f246fcd5",
   "metadata": {},
   "source": [
    "Exemples :"
   ]
  },
  {
   "cell_type": "code",
   "execution_count": 70,
   "id": "fac1a6a9",
   "metadata": {},
   "outputs": [],
   "source": [
    "assert min_et_max([0, 1, 4, 2, -2, 9, 3, 1, 7, 1])=={'min': -2, 'max': 9}\n",
    "assert min_et_max([0, 1, 2, 3])=={'min': 0, 'max': 3}\n",
    "assert min_et_max([3])=={'min': 3, 'max': 3}\n",
    "assert min_et_max([1, 3, 2, 1, 3])=={'min': 1, 'max': 3}\n",
    "assert min_et_max([-1, -1, -1, -1, -1])=={'min': -1, 'max': -1}"
   ]
  },
  {
   "cell_type": "markdown",
   "id": "79f52b68",
   "metadata": {},
   "source": [
    "## S_14.2\n",
    "\n",
    "On dispose d’une classe `Carte` permettant de créer des objets modélisant des cartes à\n",
    "jouer.\n",
    "\n",
    "Compléter la classe `Paquet_de_cartes` suivante en respectant les spécifications\n",
    "données dans les chaînes de documentation.\n",
    "\n",
    "Ajouter une assertion dans la méthode `recuperer_carte` afin de vérifier que le paramètre `pos`\n",
    "est correct.\n",
    "\n",
    "On rappelle que l’instruction\n",
    "\n",
    "`assert condition, message``\n",
    "\n",
    "permet de vérifier que la condition est vraie. Si ce n’est pas le cas, le programme s’arrête et affiche le message d’erreur fourni."
   ]
  },
  {
   "cell_type": "code",
   "execution_count": 3,
   "id": "2798a644",
   "metadata": {},
   "outputs": [],
   "source": [
    "class Carte:\n",
    "    def __init__(self, c, v):\n",
    "        \"\"\" Initialise les attributs couleur (entre 1 et 4), et valeur (entre 1 et 13). \"\"\"\n",
    "        self.couleur = c\n",
    "        self.valeur = v\n",
    "\n",
    "    def recuperer_valeur(self):\n",
    "        \"\"\" Renvoie la valeur de la carte : As, 2, ..., 10, Valet, Dame, Roi \"\"\"\n",
    "        valeurs = ['As','2', '3', '4', '5', '6', '7', '8', '9', '10', 'Valet', 'Dame', 'Roi']\n",
    "        return valeurs[self.valeur - 1]\n",
    "\n",
    "    def recuperer_couleur(self):\n",
    "        \"\"\" Renvoie la couleur de la carte (parmi pique, coeur, carreau, trèfle). \"\"\"\n",
    "        couleurs = ['pique', 'coeur', 'carreau', 'trèfle']\n",
    "        return couleurs[self.couleur - 1]\n",
    "\n",
    "class Paquet_de_cartes:\n",
    "    def __init__(self):\n",
    "        \"\"\" Initialise l'attribut contenu avec une liste des 52 objets Carte possibles\n",
    "            rangés par valeurs croissantes en commençant par pique, puis coeur,\n",
    "            carreau et tréfle. \"\"\"\n",
    "        self.paquet = [Carte(c,v) for c in range(1,5) for v in range(1,14)]\n",
    "\n",
    "    def recuperer_carte(self, pos):\n",
    "        \"\"\" Renvoie la carte qui se trouve à la position pos (entier compris entre 0 et 51). \"\"\"\n",
    "        assert 0 <= pos <= 51, 'paramètre pos invalide'\n",
    "        return self.paquet[pos]\n",
    "\n"
   ]
  },
  {
   "cell_type": "markdown",
   "id": "c700b58b",
   "metadata": {},
   "source": [
    "Exemple :"
   ]
  },
  {
   "cell_type": "code",
   "execution_count": 7,
   "id": "44f3addd",
   "metadata": {
    "attributes": {
     "classes": [
      "markdown"
     ],
     "id": ""
    }
   },
   "outputs": [],
   "source": [
    "import pytest\n",
    "\n",
    "jeu = Paquet_de_cartes()\n",
    "carte1 = jeu.recuperer_carte(20)\n",
    "assert(f\"{carte1.recuperer_valeur()} de {carte1.recuperer_couleur()}\") == '8 de coeur'\n",
    "carte2 = jeu.recuperer_carte(0)\n",
    "assert(f\"{carte2.recuperer_valeur()} de {carte2.recuperer_couleur()}\") == 'As de pique'\n",
    "\n",
    "def test_assertion():\n",
    "    with pytest.raises(AssertionError):\n",
    "        jeu.recuperer_carte(52)\n",
    "\n"
   ]
  },
  {
   "cell_type": "markdown",
   "id": "9793a240",
   "metadata": {},
   "source": [
    "# Sujet_15\n",
    "## S_15.1\n",
    "\n",
    "Écrire une fonction `moyenne` qui prend en paramètre un tableau non vide de nombres\n",
    "flottants et qui renvoie la moyenne des valeurs du tableau. Les tableaux seront\n",
    "représentés sous forme de liste Python."
   ]
  },
  {
   "cell_type": "code",
   "execution_count": 11,
   "id": "e4e8726f",
   "metadata": {},
   "outputs": [],
   "source": [
    "def moyenne(a): \n",
    "    return sum(a)/len(a)\n"
   ]
  },
  {
   "cell_type": "markdown",
   "id": "19d058f2",
   "metadata": {},
   "source": [
    "Exemples :"
   ]
  },
  {
   "cell_type": "code",
   "execution_count": 12,
   "id": "123acee0",
   "metadata": {},
   "outputs": [],
   "source": [
    "assert moyenne([1.0])==1.0\n",
    "assert moyenne([1.0, 2.0, 4.0])==2.3333333333333335"
   ]
  },
  {
   "cell_type": "markdown",
   "id": "50186f72",
   "metadata": {},
   "source": [
    "## S_15.2\n",
    "\n",
    "On considère la fonction `binaire`.\n",
    "Cette fonction prend en paramètre un entier positif `a` en\n",
    "écriture décimale et renvoie son écriture binaire sous la forme d’une chaine de caractères.\n",
    "\n",
    "L’algorithme utilise la méthode des divisions euclidiennes successives comme l’illustre\n",
    "l’exemple ci-après.\n",
    "\n",
    "![alt text](images/image-3.png)\n",
    "\n",
    "Compléter le code de la fonction `binaire`."
   ]
  },
  {
   "cell_type": "code",
   "execution_count": 34,
   "id": "76e88afa",
   "metadata": {},
   "outputs": [],
   "source": [
    "def binaire(a):\n",
    "    '''convertit un nombre entier a en sa representation\n",
    "    binaire sous forme de chaine de caractères.'''\n",
    "    if a == 0:\n",
    "        return '0'\n",
    "    bin_a = ''\n",
    "    while a != 0 :\n",
    "        bin_a =  str(a%2) + bin_a\n",
    "        a = a //2\n",
    "    return bin_a\n"
   ]
  },
  {
   "cell_type": "markdown",
   "id": "52f594c4",
   "metadata": {},
   "source": [
    "Exemples :"
   ]
  },
  {
   "cell_type": "code",
   "execution_count": 33,
   "id": "60003b28",
   "metadata": {},
   "outputs": [],
   "source": [
    "assert binaire(83)=='1010011'\n",
    "assert binaire(127)=='1111111'\n",
    "assert binaire(0)=='0'"
   ]
  },
  {
   "cell_type": "markdown",
   "id": "de714e22",
   "metadata": {},
   "source": [
    "# Sujet_16\n",
    "## S_16.1\n",
    "\n",
    "Écrire une fonction `ecriture_binaire_entier_positif` qui prend en paramètre un\n",
    "entier positif `n` et renvoie une une chaine de caractère correspondant à l‘écriture binaire de `n`.\n",
    "\n",
    "On rappelle que :\n",
    "\n",
    "- l’écriture binaire de 25 est 11001 car $25 = 1 \\times 2^4 + 1 \\times 2^3 + 0 \\times 2^2 + 0 \\times 2^1 + 1 \\times 2^0$ ;\n",
    "- `n % 2` vaut 0 ou 1 selon que `n` est pair ou impair ;\n",
    "- `n // 2`  donne le quotient de la division euclidienne de `n` par 2.\n",
    "\n",
    "Il est interdit dans cet exercice d’utiliser la fonction `bin` de Python."
   ]
  },
  {
   "cell_type": "code",
   "execution_count": 36,
   "id": "3bdd2875",
   "metadata": {},
   "outputs": [],
   "source": [
    "def ecriture_binaire_entier_positif(a):\n",
    "    if a == 0:\n",
    "        return '0'\n",
    "    bin_a = ''\n",
    "    while a != 0:\n",
    "        bin_a = str(a % 2) +bin_a\n",
    "        a = a // 2\n",
    "    return bin_a"
   ]
  },
  {
   "cell_type": "markdown",
   "id": "566444a2",
   "metadata": {},
   "source": [
    "Exemples :"
   ]
  },
  {
   "cell_type": "code",
   "execution_count": 37,
   "id": "1cffa972",
   "metadata": {},
   "outputs": [],
   "source": [
    "assert 5 % 2==1\n",
    "assert 5 // 2==2\n",
    "assert ecriture_binaire_entier_positif(0)=='0'\n",
    "assert ecriture_binaire_entier_positif(2)=='10'\n",
    "assert ecriture_binaire_entier_positif(105)=='1101001'"
   ]
  },
  {
   "cell_type": "markdown",
   "id": "2d8cabc1",
   "metadata": {},
   "source": [
    "## S_16.2\n",
    "\n",
    "La fonction `tri_bulles` prend en paramètre une liste `tab` d’entiers (type `list`) et le modifie pour le trier par ordre croissant.\n",
    "\n",
    "\n",
    "Le tri à bulles est un tri en place qui commence par placer le plus grand élément en\n",
    "dernière position en parcourant le tableau de gauche à droite et en échangeant au passage\n",
    "les éléments voisins mal ordonnés (si la valeur de l’élément d’indice `i` a une valeur\n",
    "strictement supérieure à celle de l’indice `i + 1`, ils sont échangés). Le tri place ensuite\n",
    "en avant-dernière position le plus grand élément du tableau privé de son dernier élément\n",
    "en procédant encore à des échanges d’éléments voisins. Ce principe est répété jusqu’à\n",
    "placer le minimum en première position.\n",
    "\n",
    "\n",
    "Exemple : pour trier le tableau `[7, 9, 4, 3]` :\n",
    "\n",
    "- première étape : 7 et 9 ne sont pas échangés, puis 9 et 4 sont échangés, puis 9 et\n",
    "3 sont échangés, le tableau est alors `[7, 4, 3, 9]`\n",
    "- deuxième étape : 7 et 4 sont échangés, puis 7 et 3 sont échangés, le tableau est\n",
    "alors `[4, 3, 7, 9]`\n",
    "- troisième étape : 4 et 3 sont échangés, le tableau est alors `[3, 4, 7, 9]`\n",
    "\n",
    "\n",
    "Compléter le code Python ci-dessous qui implémente la fonction tri_bulles."
   ]
  },
  {
   "cell_type": "code",
   "execution_count": 43,
   "id": "481d17b0",
   "metadata": {},
   "outputs": [],
   "source": [
    "def echange(tab, i, j):\n",
    "    '''Echange les éléments d'indice i et j dans le tableau tab.'''\n",
    "    temp = tab[i] \n",
    "    tab[i] = tab[j] \n",
    "    tab[j] = temp\n",
    "\n",
    "def tri_bulles(tab):\n",
    "    '''Trie le tableau tab dans l'ordre croissant\n",
    "    par la méthode du tri à bulles.'''\n",
    "    n = len(tab)\n",
    "    for i in range(n): \n",
    "        for j in range(i+1, n): \n",
    "            if tab[i] > tab[j]: \n",
    "                echange(tab, j,i)\n",
    "    return tab\n"
   ]
  },
  {
   "cell_type": "markdown",
   "id": "d7b323bf",
   "metadata": {},
   "source": [
    "Exemples :"
   ]
  },
  {
   "cell_type": "code",
   "execution_count": 41,
   "id": "1ffb8191",
   "metadata": {},
   "outputs": [],
   "source": [
    "assert tri_bulles([])==[]\n",
    "assert tri_bulles([9, 3, 7, 2, 3, 1, 6])==[1, 2, 3, 3, 6, 7, 9]\n",
    "assert tri_bulles([9, 7, 4, 3])==[3, 4, 7, 9]"
   ]
  },
  {
   "cell_type": "markdown",
   "id": "994d37ce",
   "metadata": {},
   "source": [
    "# Sujet_17\n",
    "## S_17.1\n",
    "\n",
    "Écrire une fonction Python appelée `nb_repetitions` qui prend en paramètres un\n",
    "élément `elt` et un tableau `tab` (type `list`) et renvoie le nombre de fois où l’élément apparaît dans le tableau."
   ]
  },
  {
   "cell_type": "code",
   "execution_count": 63,
   "id": "ec8599cc",
   "metadata": {},
   "outputs": [],
   "source": [
    "def nb_repetitions(elt,tab):\n",
    "    return tab.count(elt)\n",
    "def nb_repetitions(elt,tab):\n",
    "    count = 0\n",
    "    for i in range(len(tab)):\n",
    "        if tab[i] == elt:\n",
    "            count += 1\n",
    "    return count\n"
   ]
  },
  {
   "cell_type": "markdown",
   "id": "5c5d15cb",
   "metadata": {},
   "source": [
    "Exemples :"
   ]
  },
  {
   "cell_type": "code",
   "execution_count": 62,
   "id": "de8bb49a",
   "metadata": {},
   "outputs": [],
   "source": [
    "assert nb_repetitions(5, [2, 5, 3, 5, 6, 9, 5])==3\n",
    "assert nb_repetitions('A', ['B', 'A', 'B', 'A', 'R'])==2\n",
    "assert nb_repetitions(12, [1, 3, 7, 21, 36, 44])==0"
   ]
  },
  {
   "cell_type": "markdown",
   "id": "ff40415f",
   "metadata": {},
   "source": [
    "## S_17.2\n",
    "\n",
    "Pour rappel, la conversion d’un nombre entier positif en binaire peut s’effectuer à l’aide\n",
    "des divisions successives comme illustré ici :\n",
    "\n",
    "![alt text](images/image-4.png)\n",
    "\n",
    "Voici une fonction Python basée sur la méthode des divisions successives permettant de\n",
    "convertir un nombre entier positif en binaire :\n",
    "\n",
    "Compléter la fonction ```binaire```"
   ]
  },
  {
   "cell_type": "code",
   "execution_count": 64,
   "id": "58c56b9a",
   "metadata": {},
   "outputs": [],
   "source": [
    "def binaire(a):\n",
    "    '''convertit un nombre entier a en sa representation \n",
    "    binaire sous forme de chaine de caractères.'''\n",
    "    if a == 0:\n",
    "        return '0'\n",
    "    bin_a = '' \n",
    "    while a != 0: \n",
    "        bin_a = str(a % 2) + bin_a \n",
    "        a = a // 2\n",
    "    return bin_a"
   ]
  },
  {
   "cell_type": "markdown",
   "id": "cfc58dd8",
   "metadata": {},
   "source": [
    "Exemples :"
   ]
  },
  {
   "cell_type": "code",
   "execution_count": 65,
   "id": "ebb3ec50",
   "metadata": {},
   "outputs": [],
   "source": [
    "assert binaire(0)=='0'\n",
    "assert binaire(77)=='1001101'"
   ]
  },
  {
   "cell_type": "markdown",
   "id": "aba90a52",
   "metadata": {},
   "source": [
    "# Sujet_18\n",
    "## S_18.1\n",
    "\n",
    "Programmer la fonction `multiplication`, prenant en paramètres deux nombres entiers relatifs\n",
    "`n1` et `n2`, et qui renvoie le produit de ces deux nombres.\n",
    "\n",
    "Les seules opérations arithmétiques autorisées sont l’addition et la soustraction."
   ]
  },
  {
   "cell_type": "code",
   "execution_count": 71,
   "id": "ad0de206",
   "metadata": {},
   "outputs": [
    {
     "data": {
      "text/plain": [
       "-15"
      ]
     },
     "execution_count": 71,
     "metadata": {},
     "output_type": "execute_result"
    }
   ],
   "source": [
    "def multiplication(a,b):\n",
    "    tot = 0\n",
    "    if b < 0 and a < 0:\n",
    "        b = abs(b)\n",
    "        a = abs(a)\n",
    "    for i in range(b):\n",
    "        tot = tot + a\n",
    "    return tot \n"
   ]
  },
  {
   "cell_type": "markdown",
   "id": "4c017a03",
   "metadata": {},
   "source": [
    "Exemples :"
   ]
  },
  {
   "cell_type": "code",
   "execution_count": 72,
   "id": "12d7f41d",
   "metadata": {},
   "outputs": [],
   "source": [
    "assert multiplication(3,5)==15\n",
    "assert multiplication(-4,-8)==32\n",
    "assert multiplication(-2,6)==-12\n",
    "assert multiplication(-2,0)==0"
   ]
  },
  {
   "cell_type": "markdown",
   "id": "82c0e3f5",
   "metadata": {},
   "source": [
    "## S_18.2\n",
    "\n",
    "Soit `tab` un tableau non vide d'entiers triés dans l'ordre croissant et `n` un entier.\n",
    "\n",
    "La fonction `chercher` ci-dessous doit renvoyer un indice où la valeur `n`\n",
    "apparaît dans `tab` si cette valeur y figure et `None` sinon. \n",
    "\n",
    "Les paramètres de la fonction sont :\n",
    "\n",
    "- `tab`, le tableau dans lequel s'effectue la recherche ;\n",
    "- `x`, l'entier à chercher dans le tableau ;\n",
    "- `i`, l'indice de début de la partie du tableau où s'effectue la recherche ;\n",
    "- `j`, l'indice de fin de la partie du tableau où s'effectue la recherche.\n",
    "\n",
    "L’algorithme demandé est une recherche dichotomique récursive.\n",
    "\n",
    "Recopier et compléter le code de la fonction `chercher` suivante :"
   ]
  },
  {
   "cell_type": "code",
   "execution_count": 82,
   "id": "db3d27c8",
   "metadata": {
    "attributes": {
     "classes": [],
     "id": "",
     "linenums": "'1'"
    }
   },
   "outputs": [
    {
     "data": {
      "text/plain": [
       "4"
      ]
     },
     "execution_count": 82,
     "metadata": {},
     "output_type": "execute_result"
    }
   ],
   "source": [
    "def chercher(tab, x, i, j):\n",
    "    '''Renvoie l'indice de x dans tab, si x est dans tab, \n",
    "    None sinon.\n",
    "    On suppose que tab est trié dans l'ordre croissant.'''\n",
    "    if i > j:\n",
    "        return None\n",
    "    m = (i + j) // 2 \n",
    "    if tab[m] < x: \n",
    "        return chercher(tab, x, m , j) \n",
    "    elif tab[m] > x:\n",
    "        return chercher(tab, x, j , m) \n",
    "    else:\n",
    "        return m\n"
   ]
  },
  {
   "cell_type": "markdown",
   "id": "c5d1a84f",
   "metadata": {},
   "source": [
    "Exemples :"
   ]
  },
  {
   "cell_type": "code",
   "execution_count": 83,
   "id": "583a344f",
   "metadata": {},
   "outputs": [],
   "source": [
    "assert chercher([1, 5, 6, 6, 9, 12], 7, 0, 10)==None\n",
    "assert chercher([1, 5, 6, 6, 9, 12], 7, 0, 5)==None\n",
    "assert chercher([1, 5, 6, 6, 9, 12], 9, 0, 5)==4\n",
    "assert chercher([1, 5, 6, 6, 9, 12], 6, 0, 5)==2"
   ]
  },
  {
   "cell_type": "markdown",
   "id": "23db1f27",
   "metadata": {},
   "source": [
    "# Sujet_19\n",
    "## S_19.1\n",
    "\n",
    "On rappelle que :\n",
    "\n",
    "- le nombre $a^n$ est le nombre $a \\times a \\times a \\times \\dots \\times a$, où le facteur $a$ apparaît $n$ fois,\n",
    "- en langage Python, l’instruction `t[-1]` permet d’accéder au dernier élément du\n",
    "tableau `t`.\n",
    "\n",
    "Dans cet exercice, l’opérateur ```**```  et la fonction `pow` ne sont pas autorisés.\n",
    "\n",
    "Programmer en langage Python une fonction `liste_puissances` qui prend en arguments\n",
    "un nombre entier `a`, un entier strictement positif `n` et qui renvoie la liste de ses puissances\n",
    "$\\rm{[a^1, a^2, ..., a^n]}$.\n",
    "\n",
    "Programmer également une fonction `liste_puisssances_borne` qui prend en\n",
    "arguments un nombre entier `a` supérieur ou égal à 2 et un entier `borne`, et qui renvoie la\n",
    "liste de ses puissances, à l’exclusion de $\\rm{a^0}$, strictement inférieures à `borne`."
   ]
  },
  {
   "cell_type": "code",
   "execution_count": 110,
   "id": "91cd2be9",
   "metadata": {},
   "outputs": [
    {
     "data": {
      "text/plain": [
       "[2, 4, 8, 16]"
      ]
     },
     "execution_count": 110,
     "metadata": {},
     "output_type": "execute_result"
    }
   ],
   "source": [
    "def liste_puissances(a, b):\n",
    "    lst = []\n",
    "    power = 1\n",
    "    for _ in range(1,b+1):\n",
    "        power *= a\n",
    "        lst.append(power)\n",
    "    return lst\n",
    "\n",
    "def liste_puissances_borne(a,b):\n",
    "    lst =[]\n",
    "    power = 1\n",
    "    for i in range(1,b):\n",
    "        power *= a\n",
    "        if power < b:\n",
    "            lst.append(power)\n",
    "    return lst"
   ]
  },
  {
   "cell_type": "markdown",
   "id": "5db45ea0",
   "metadata": {},
   "source": [
    "Exemples :"
   ]
  },
  {
   "cell_type": "code",
   "execution_count": 111,
   "id": "6cf27e82",
   "metadata": {},
   "outputs": [],
   "source": [
    "assert liste_puissances(3, 5)==[3, 9, 27, 81, 243]\n",
    "assert liste_puissances(-2, 4)==[-2, 4, -8, 16]\n",
    "assert liste_puissances_borne(2, 16)==[2, 4, 8]\n",
    "assert liste_puissances_borne(2, 17)==[2, 4, 8, 16]\n",
    "assert liste_puissances_borne(5, 5)==[]"
   ]
  },
  {
   "cell_type": "markdown",
   "id": "272da658",
   "metadata": {},
   "source": [
    "## S_19.2\n",
    "\n",
    "On affecte à chaque lettre de l'alphabet un code selon le tableau ci-dessous :\n",
    "\n",
    "| A | B | C | D | E | F | G | H | I | J | K | L | M |\n",
    "|:-:|:-:|:-:|:-:|:-:|:-:|:-:|:-:|:-:|:-:|:-:|:-:|:-:|\n",
    "| 1 | 2 | 3 | 4 | 5 | 6 | 7 | 8 | 9 | 10 | 11 | 12 | 13 |\n",
    "\n",
    "\n",
    "| N | O | P | Q | R | S | T | U | V | W | X | Y | Z | \n",
    "|:-:|:-:|:-:|:-:|:-:|:-:|:-:|:-:|:-:|:-:|:-:|:-:|:-:|\n",
    "| 14 | 15 | 16 | 17 | 18 | 19 | 20 | 21 | 22 | 23 | 24 | 25 | 26 | \n",
    "\n",
    "Cette table de correspondance est stockée dans un dictionnaire `dico` où les clés sont les\n",
    "lettres de l’alphabet et les valeurs les codes correspondants."
   ]
  },
  {
   "cell_type": "code",
   "execution_count": 121,
   "id": "7649a0dd",
   "metadata": {},
   "outputs": [],
   "source": [
    "dico = {\"A\": 1, \"B\": 2, \"C\": 3, \"D\": 4, \"E\": 5, \"F\": 6,\n",
    "        \"G\": 7, \"H\": 8, \"I\": 9, \"J\": 10, \"K\": 11, \"L\": 12,\n",
    "        \"M\": 13, \"N\": 14, \"O\": 15, \"P\": 16, \"Q\": 17,\n",
    "        \"R\": 18, \"S\": 19, \"T\": 20, \"U\": 21, \"V\": 22,\n",
    "        \"W\": 23, \"X\": 24, \"Y\": 25, \"Z\": 26}\n",
    "\n"
   ]
  },
  {
   "cell_type": "markdown",
   "id": "48d1de44",
   "metadata": {},
   "source": [
    "Pour un mot donné, on détermine d’une part son code alphabétique concaténé, obtenu par la juxtaposition des codes de chacun de ses caractères, et d’autre part, son code additionné, qui est la somme des codes de chacun de ses caractères.\n",
    "\n",
    "Par ailleurs, on dit que ce mot est « parfait » si le code additionné divise le code concaténé.\n",
    "\n",
    "Exemples :\n",
    "\n",
    "- Pour le mot \"PAUL\", le code concaténé est la chaîne '1612112', soit l’entier 1 612 112. Son code additionné est l’entier 50 car 16 + 1 + 21 + 12 = 50. 50 ne divise pas l’entier 1 612 112 ; par conséquent, le mot \"PAUL\" n’est pas parfait.\n",
    "\n",
    "- Pour le mot \"ALAIN\", le code concaténé est la chaîne '1121914', soit l’entier 1 121 914. Le code additionné est l’entier 37 car 1 + 12 + 1 + 9 + 14 = 37. 37 divise l’entier 1 121 914 ; par conséquent, le mot \"ALAIN\" est parfait.\n",
    "\n",
    "Compléter la fonction codes_parfait située à la page suivante et qui prend en paramètre un mot en majuscule et renvoie un triplet constitué du code additionné, du code concaténé et d’un booléen indiquant si le mot est parfait ou non.\n",
    "\n",
    "On rappelle que pour tester si un entier a divise un entier b, on utilise l’opérateur modulo b % a qui renvoie le reste de la division euclidienne de b par a. Sib % a vaut 0, alors a divise b."
   ]
  },
  {
   "cell_type": "code",
   "execution_count": 129,
   "id": "32028b4c",
   "metadata": {},
   "outputs": [],
   "source": [
    "def codes_parfait(mot):\n",
    "    \"\"\"Renvoie un triplet \n",
    "    (code_additionne, code_concatene, mot_est_parfait) où :\n",
    "    - code_additionne est la somme des codes des lettres du mot ;\n",
    "    - code_concatene est le code des lettres du mot concaténées ;\n",
    "    - mot_est_parfait est un booléen indiquant si le mot est parfait.\"\"\"\n",
    "    code_concatene = \"\"\n",
    "    code_additionne = 0\n",
    "    for c in mot:\n",
    "        code_concatene = code_concatene + str(dico[c])\n",
    "        code_additionne = code_additionne + dico[c] \n",
    "    code_concatene = int(code_concatene)\n",
    "    mot_est_parfait = (code_concatene/code_additionne) == (code_concatene // code_additionne) \n",
    "    return code_additionne, code_concatene, mot_est_parfait\n"
   ]
  },
  {
   "cell_type": "markdown",
   "id": "4cb0d623",
   "metadata": {},
   "source": [
    "Exemples :"
   ]
  },
  {
   "cell_type": "code",
   "execution_count": 128,
   "id": "dae3e1b9",
   "metadata": {},
   "outputs": [],
   "source": [
    "dico = {\"A\": 1, \"B\": 2, \"C\": 3, \"D\": 4, \"E\": 5, \"F\": 6,\n",
    "        \"G\": 7, \"H\": 8, \"I\": 9, \"J\": 10, \"K\": 11, \"L\": 12,\n",
    "        \"M\": 13, \"N\": 14, \"O\": 15, \"P\": 16, \"Q\": 17,\n",
    "        \"R\": 18, \"S\": 19, \"T\": 20, \"U\": 21, \"V\": 22,\n",
    "        \"W\": 23, \"X\": 24, \"Y\": 25, \"Z\": 26}\n",
    "assert codes_parfait(\"PAUL\")==(50, 1612112, False)\n",
    "assert codes_parfait(\"ALAIN\")==(37, 1121914, True)"
   ]
  },
  {
   "cell_type": "markdown",
   "id": "2599e372",
   "metadata": {},
   "source": [
    "# Sujet_20\n",
    "## S_20.1\n",
    "\n",
    "Dans cet exercice les tableaux sont représentés par des listes Python (type `list`).\n",
    "\n",
    "Écrire en python deux fonctions :\n",
    "\n",
    "- `lancer` de paramètre `n`, un entier positif, qui renvoie un tableau de `n` entiers obtenus aléatoirement entre 1 et 6 (1 et 6 inclus) ;\n",
    "- `paire_6` de paramètre `tab`, un tableau de n entiers compris entre 1 et 6 et qui renvoie un booléen égal à `True` si le nombre de 6 est supérieur ou égal à 2, `False` sinon.\n",
    "\n",
    "On pourra utiliser la fonction `randint(a,b)` du module `random` pour laquelle la documentation officielle est la suivante :\n",
    "\n",
    "`random.randint(a, b)`\n",
    "\n",
    "`      Renvoie un entier aléatoire N tel que a <=N <= b.`"
   ]
  },
  {
   "cell_type": "code",
   "execution_count": 19,
   "id": "06eacbb2",
   "metadata": {},
   "outputs": [],
   "source": [
    "from random import randint\n",
    "\n",
    "def lancer(n):\n",
    "    tab = []\n",
    "    for i in range(n):\n",
    "        tab.append(randint(1,6))\n",
    "    return tab\n",
    "\n",
    "\n",
    "def paire_6(tab):\n",
    "    return tab.count(6) >= 2\n",
    "\n",
    "def pair_6_bis(tab):\n",
    "    if len(tab) == 0:\n",
    "        return 0\n",
    "    return tab.count(6) >= tab.count(2)"
   ]
  },
  {
   "cell_type": "code",
   "execution_count": 17,
   "id": "3b598d54",
   "metadata": {},
   "outputs": [],
   "source": [
    "\n",
    "assert len(lancer(5)) == 5\n",
    "assert len(lancer(3)) == 3\n",
    "assert len(lancer(0)) == 0\n",
    "\n",
    "assert paire_6([5, 6, 6, 2, 2]) == True\n",
    "assert paire_6([6, 5, 1, 6, 6]) == True\n",
    "assert paire_6([2, 2, 6]) == False"
   ]
  },
  {
   "cell_type": "markdown",
   "id": "82bb82a2",
   "metadata": {},
   "source": [
    "Exemples :\n",
    "\n",
    "`>>>> lancer1 = lancer(5)`  \n",
    "`[5, 6, 6, 2, 2]`  \n",
    "`>>>> paire_6(lancer1)`  \n",
    "`True`  \n",
    "`>>>>lancer2 = lancer(5)`\n",
    "`[6, 5, 1, 6, 6]`   \n",
    "`>>>> paire_6(lancer2)`   \n",
    "`True`   \n",
    "`>>>> lancer3 = lancer(3)`   \n",
    "`[2, 2, 6]`  \n",
    "`>>>> paire_6(lancer3)`  \n",
    "`False`  \n",
    "`>>>> lancer4 = lancer(0)`  \n",
    "`[]`  \n",
    "`>>>> paire_6(lancer4)`  \n",
    "`False`\n",
    "\n",
    "## S_20.2\n",
    "\n",
    "On considère une image en 256 niveaux de gris que l’on représente par une grille de\n",
    "nombres, c’est-à-dire une liste composée de sous-listes toutes de longueurs identiques.\n",
    "\n",
    "\n",
    "La largeur de l’image est donc la longueur d’une sous-liste et la hauteur de l’image est le\n",
    "nombre de sous-listes.\n",
    "\n",
    "\n",
    "Chaque sous-liste représente une ligne de l’image et chaque élément des sous-listes est\n",
    "un entier compris entre 0 et 255, représentant l’intensité lumineuse du pixel.\n",
    "\n",
    "\n",
    "Le négatif d’une image est l’image constituée des pixels `x_n` tels que `x_n + x_i = 255` où `x_i` est le pixel correspondant de l’image initiale.\n",
    "\n",
    "Compléter le programme suivant :"
   ]
  },
  {
   "cell_type": "code",
   "execution_count": 10,
   "id": "443ea85a",
   "metadata": {},
   "outputs": [],
   "source": [
    "def nombre_lignes(image):\n",
    "    '''renvoie le nombre de lignes de l'image'''\n",
    "    return len(image) \n",
    "\n",
    "def nombre_colonnes(image):\n",
    "    '''renvoie la largeur de l'image'''\n",
    "    return len(image[0]) \n",
    "\n",
    "def negatif(image):\n",
    "    '''renvoie le negatif de l'image sous la forme\n",
    "       d'une liste de listes'''\n",
    "    # on cree une image de 0 aux memes dimensions \n",
    "    # que le parametre image\n",
    "    nouvelle_image = [[0 for k in range(nombre_colonnes(image))]\n",
    "         for i in range(nombre_lignes(image))]\n",
    "\n",
    "    for i in range(nombre_lignes(image)):\n",
    "        for j in range(nombre_colonnes(image)): \n",
    "            nouvelle_image[i][j] = 255 - image[i][j] \n",
    "    return nouvelle_image\n",
    "\n",
    "def binaire(image, seuil):\n",
    "    '''renvoie une image binarisee de l'image sous la forme\n",
    "       d'une liste de listes contenant des 0 si la valeur\n",
    "       du pixel est strictement inferieure au seuil et 1 sinon'''\n",
    "    nouvelle_image = [[0] * nombre_colonnes(image)\n",
    "                      for i in range(nombre_lignes(image))]\n",
    "\n",
    "    for i in range(nombre_lignes(image)):\n",
    "        for j in range(nombre_colonnes(image)): \n",
    "            if image[i][j] < seuil: \n",
    "                nouvelle_image[i][j] = 0\n",
    "            else:\n",
    "                nouvelle_image[i][j] = 1\n",
    "    return nouvelle_image"
   ]
  },
  {
   "cell_type": "markdown",
   "id": "988114e6",
   "metadata": {},
   "source": [
    "Exemples :"
   ]
  },
  {
   "cell_type": "code",
   "execution_count": 11,
   "id": "ab9ac0e0",
   "metadata": {},
   "outputs": [],
   "source": [
    "img=[[20, 34, 254, 145, 6], [23, 124, 237, 225, 69],[197, 174, 207, 25, 87], [255, 0, 24, 197, 189]]\n",
    "assert nombre_lignes(img)==4\n",
    "assert nombre_colonnes(img)==5\n",
    "assert negatif(img)==[[235, 221, 1, 110, 249], [232, 131, 18, 30, 186],[58, 81, 48, 230, 168], [0, 255, 231, 58, 66]]\n",
    "assert binaire(img,120)==[[0, 0, 1, 1, 0],[0, 1, 1, 1, 0],[1, 1, 1, 0, 0],[1, 0, 0, 1, 1]]"
   ]
  },
  {
   "cell_type": "markdown",
   "id": "de616964",
   "metadata": {},
   "source": [
    "# Sujet_21\n",
    "## S_21.1\n",
    "\n",
    "Écrire une fonction `recherche_motif` qui prend en paramètre une chaîne de caractères\n",
    "`motif` non vide et une chaîne de caractères `texte` et qui renvoie la liste des positions de\n",
    "`motif` dans `texte`. Si `motif` n’apparaît pas, la fonction renvoie une liste vide."
   ]
  },
  {
   "cell_type": "code",
   "execution_count": 30,
   "id": "3574df2e",
   "metadata": {},
   "outputs": [],
   "source": [
    "def recherche_motif(a, b):\n",
    "    mot_sep = [b[l] for l in range(len(b))]\n",
    "    indx = []\n",
    "    for i in range(len(mot_sep)):\n",
    "        if a[0] == mot_sep[i]:\n",
    "            count = 0\n",
    "            for k in range(1, len(a)):\n",
    "                if(i+k) <= (len(mot_sep) - 1) and mot_sep[i+k] == a[k]:\n",
    "                    count += 1\n",
    "            if count == len(a) - 1:\n",
    "                indx.append(i)\n",
    "    return indx\n"
   ]
  },
  {
   "cell_type": "markdown",
   "id": "a5c77eaf",
   "metadata": {},
   "source": [
    "Exemples:"
   ]
  },
  {
   "cell_type": "code",
   "execution_count": 31,
   "id": "a31ffde1",
   "metadata": {},
   "outputs": [],
   "source": [
    "assert recherche_motif(\"ab\", \"\")==[]\n",
    "assert recherche_motif(\"ab\", \"cdcdcdcd\")==[]\n",
    "assert recherche_motif(\"ab\", \"abracadabra\")==[0, 7]\n",
    "assert recherche_motif(\"ab\", \"abracadabraab\")==[0, 7, 11]"
   ]
  },
  {
   "cell_type": "markdown",
   "id": "597c5e24",
   "metadata": {},
   "source": [
    "## S_21.2\n",
    "\n",
    "Dans cet exercice, on considère un graphe non orienté représenté sous forme de listes\n",
    "d’adjacence. On suppose que les sommets sont numérotés de 0 à n-1.\n",
    "\n",
    "Ainsi, le graphe suivant:\n",
    "\n",
    "![alt text](images/image-5.png)\n",
    "\n",
    "sera représenté par la liste d’adjacence suivante:\n",
    "\n",
    "`adj = [[1, 2], [0, 3], [0], [1], [5], [4]]`\n",
    "\n",
    "On souhaite déterminer les sommets accessibles depuis un sommet donné dans le graphe.\n",
    "Pour cela, on va procéder à un parcours en profondeur du graphe.\n",
    "\n",
    "Compléter la fonction suivante."
   ]
  },
  {
   "cell_type": "code",
   "execution_count": 38,
   "id": "ef2234d7",
   "metadata": {},
   "outputs": [
    {
     "name": "stdout",
     "output_type": "stream",
     "text": [
      "[0, 1, 2, 3]\n"
     ]
    }
   ],
   "source": [
    "def parcours(adj, x, acc):\n",
    "    '''Réalise un parcours en profondeur récursif\n",
    "    du graphe donné par les listes d'adjacence adj \n",
    "    depuis le sommet x en accumulant les sommets\n",
    "    rencontrés dans acc'''\n",
    "    if x not in acc : \n",
    "        acc.append(x)\n",
    "        for y in adj[x]: \n",
    "            parcours(adj, y, acc) \n",
    "\n",
    "def accessibles(adj, x):\n",
    "    '''Renvoie la liste des sommets accessibles dans le\n",
    "    graphe donné par les listes d'adjacence adj depuis\n",
    "    le sommet x.'''\n",
    "    acc = []\n",
    "    parcours(adj, x,acc) \n",
    "    return acc\n",
    "\n",
    "print(accessibles([[1, 2], [0], [0, 3], [1], [5], [4]], 0))"
   ]
  },
  {
   "cell_type": "markdown",
   "id": "9fd8e05d",
   "metadata": {},
   "source": [
    "Exemples :"
   ]
  },
  {
   "cell_type": "code",
   "execution_count": null,
   "id": "2ffccbc8",
   "metadata": {},
   "outputs": [],
   "source": [
    "assert accessibles([[1, 2], [0], [0, 3], [1], [5], [4]], 0)==[0, 1, 2, 3]\n",
    "assert accessibles([[1, 2], [0], [0, 3], [1], [5], [4]], 4)==[4, 5]"
   ]
  },
  {
   "cell_type": "markdown",
   "id": "c104b91f",
   "metadata": {},
   "source": [
    "# Sujet_22\n",
    "## S_22.1\n",
    "\n",
    "Écrire une fonction `recherche_indices_classement` qui prend en paramètres un\n",
    "entier `elt` et un tableau d’entiers `tab`, et qui renvoie trois listes :\n",
    "\n",
    "- la première liste contient les indices des valeurs du tableau `tab` strictement inférieures à `elt` ;\n",
    "- la deuxième liste contient les indices des valeurs du tableau `tab` égales à `elt` ;\n",
    "- la troisième liste contient les indices des valeurs du tableau `tab` strictement supérieures à `elt`."
   ]
  },
  {
   "cell_type": "code",
   "execution_count": 1,
   "id": "f57643d2",
   "metadata": {},
   "outputs": [],
   "source": [
    "def recherche_indices_classement(a,b):\n",
    "    sup = []\n",
    "    egale = []\n",
    "    inf = []\n",
    "    for i,v in enumerate(b):\n",
    "        if v < a:\n",
    "            inf.append(i)\n",
    "        elif v == a:\n",
    "            egale.append(i)\n",
    "        else:\n",
    "            sup.append(i)\n",
    "    return inf, egale, sup\n",
    "        "
   ]
  },
  {
   "cell_type": "markdown",
   "id": "3fa984ff",
   "metadata": {},
   "source": [
    "Exemples :"
   ]
  },
  {
   "cell_type": "code",
   "execution_count": 2,
   "id": "0a8131b4",
   "metadata": {},
   "outputs": [],
   "source": [
    "assert recherche_indices_classement(3, [1, 3, 4, 2, 4, 6, 3, 0])==([0, 3, 7], [1, 6], [2, 4, 5])\n",
    "assert recherche_indices_classement(3, [1, 4, 2, 4, 6, 0])==([0, 2, 5], [], [1, 3, 4])\n",
    "assert recherche_indices_classement(3, [1, 1, 1, 1])==([0, 1, 2, 3], [], [])\n",
    "assert recherche_indices_classement(3, [])==([], [], [])"
   ]
  },
  {
   "cell_type": "markdown",
   "id": "5b8885c3",
   "metadata": {},
   "source": [
    "## S_22.2\n",
    "\n",
    "Une professeure de NSI décide de gérer les résultats de sa classe sous la forme d’un\n",
    "dictionnaire :\n",
    "\n",
    "- les clefs sont les noms des élèves ;\n",
    "- les valeurs sont des dictionnaires dont les clefs sont les types d’épreuves sous forme de chaîne de caractères et les valeurs sont les notes obtenues associées à leurs coefficients dans une liste.\n",
    "\n",
    "Avec :"
   ]
  },
  {
   "cell_type": "code",
   "execution_count": null,
   "id": "04723c0b",
   "metadata": {},
   "outputs": [],
   "source": [
    "resultats = {'Dupont': {\n",
    "                        'DS1': [15.5, 4],\n",
    "                        'DM1': [14.5, 1],\n",
    "                        'DS2': [13, 4],\n",
    "                        'PROJET1': [16, 3],\n",
    "                        'DS3': [14, 4]\n",
    "                    },\n",
    "            'Durand': {\n",
    "                        'DS1': [6 , 4],\n",
    "                        'DS2': [8, 4],\n",
    "                        'PROJET1': [9, 3],\n",
    "                        'IE1': [7, 2],\n",
    "                        'DS3': [12, 4]\n",
    "                    }\n",
    "            }"
   ]
  },
  {
   "cell_type": "markdown",
   "id": "7d0de9a1",
   "metadata": {},
   "source": [
    "L’élève dont le nom est Durand a ainsi obtenu au DS2 la note de 8 avec un coefficient 4.\n",
    "\n",
    "Le professeur crée une fonction moyenne qui prend en paramètre le nom d’un de ses élèves et renvoie sa moyenne arrondie au dixième. Si l’élève n’a pas de notes, on considère que sa moyenne est nulle. Si le nom donné n’est pas dans les résultats, la fonction renvoie None.\n",
    "\n",
    "Compléter le code de la professeure ci-dessous :"
   ]
  },
  {
   "cell_type": "code",
   "execution_count": 3,
   "id": "b78b55f2",
   "metadata": {},
   "outputs": [],
   "source": [
    "def moyenne(nom, resultats):\n",
    "    '''Renvoie la moyenne de l'élève nom, selon le dictionnaire \n",
    "    resultats. Si nom n'est pas dans le dictionnaire, \n",
    "    la fonction renvoie None.'''\n",
    "    if nom in resultats: \n",
    "        notes = resultats[nom]\n",
    "        if notes == {}: # pas de notes \n",
    "            return 0\n",
    "        total_points = 0\n",
    "        total_coefficients = 0\n",
    "        for valeurs  in notes.values(): \n",
    "            note, coefficient = valeurs\n",
    "            total_points = note + total_points * coefficient \n",
    "            total_coefficients = total_coefficients + coefficient \n",
    "        return round( total_points / total_coefficients, 1 ) \n",
    "    else:\n",
    "        return None"
   ]
  },
  {
   "cell_type": "markdown",
   "id": "c4542513",
   "metadata": {},
   "source": [
    "Exemples :"
   ]
  },
  {
   "cell_type": "code",
   "execution_count": 4,
   "id": "5a79455a",
   "metadata": {},
   "outputs": [
    {
     "ename": "NameError",
     "evalue": "name 'resultats' is not defined",
     "output_type": "error",
     "traceback": [
      "\u001b[1;31m---------------------------------------------------------------------------\u001b[0m",
      "\u001b[1;31mNameError\u001b[0m                                 Traceback (most recent call last)",
      "Cell \u001b[1;32mIn[4], line 1\u001b[0m\n\u001b[1;32m----> 1\u001b[0m \u001b[38;5;28;01massert\u001b[39;00m moyenne(\u001b[38;5;124m\"\u001b[39m\u001b[38;5;124mDupont\u001b[39m\u001b[38;5;124m\"\u001b[39m, \u001b[43mresultats\u001b[49m)\u001b[38;5;241m==\u001b[39m\u001b[38;5;241m14.5\u001b[39m\n\u001b[0;32m      2\u001b[0m \u001b[38;5;28;01massert\u001b[39;00m moyenne(\u001b[38;5;124m\"\u001b[39m\u001b[38;5;124mDurand\u001b[39m\u001b[38;5;124m\"\u001b[39m, resultats)\u001b[38;5;241m==\u001b[39m\u001b[38;5;241m8.5\u001b[39m\n",
      "\u001b[1;31mNameError\u001b[0m: name 'resultats' is not defined"
     ]
    }
   ],
   "source": [
    "assert moyenne(\"Dupont\", resultats)==14.5\n",
    "assert moyenne(\"Durand\", resultats)==8.5"
   ]
  },
  {
   "cell_type": "markdown",
   "id": "043d5e16",
   "metadata": {},
   "source": [
    "# Sujet_23\n",
    "## S_23.1\n",
    "\n",
    "Dans cet exercice, on considère des arbres binaires de recherche qui sont :\n",
    "\n",
    "- soit l’arbre vide identifié par `None` ;\n",
    "- soit un nœud, contenant une clé et deux sous-arbres gauche et droit et représenté par un triplet `(g, v, d)` où `g` et `d` sont les sous-arbres gauche et droit et `v` la clé.\n",
    "\n",
    "![alt text](images/image-6.png)\n",
    "\n",
    "Ainsi, l’arbre binaire de recherche `abr1` ci-contre est créé par le code python ci-dessous"
   ]
  },
  {
   "cell_type": "code",
   "execution_count": null,
   "id": "681ea831",
   "metadata": {},
   "outputs": [],
   "source": [
    "n0 = (None, 0, None)\n",
    "n3 = (None, 3, None)\n",
    "n2 = (None, 2, n3)\n",
    "abr1 = (n0, 1, n2)"
   ]
  },
  {
   "cell_type": "markdown",
   "id": "d61bcb43",
   "metadata": {},
   "source": [
    "Écrire une fonction récursive `insertion_abr(a, cle)` qui prend en paramètres une\n",
    "clé `cle` et un arbre binaire de recherche `a`, et qui renvoie un arbre binaire de recherche\n",
    "dans lequel `cle` a été insérée.\n",
    "Dans le cas où `cle` est déjà présente dans `a`, la fonction renvoie l’arbre a inchangé."
   ]
  },
  {
   "cell_type": "code",
   "execution_count": 4,
   "id": "44a6b46c",
   "metadata": {},
   "outputs": [
    {
     "name": "stdout",
     "output_type": "stream",
     "text": [
      "((None, 0, None), 1, (None, 2, (None, 3, None)))\n",
      "(None, 2, (None, 3, None))\n",
      "(None, 3, None)\n",
      "None\n"
     ]
    },
    {
     "data": {
      "text/plain": [
       "(None, 4, None)"
      ]
     },
     "execution_count": 4,
     "metadata": {},
     "output_type": "execute_result"
    }
   ],
   "source": [
    "def insertion_abr(a, b):\n",
    "    print(a)\n",
    "    if a is None:\n",
    "        return (None,b,None)\n",
    "    elif b < a[1]:\n",
    "        return insertion_abr(a[0],b)\n",
    "    elif b > a[1]:\n",
    "        return insertion_abr(a[2],b)\n",
    "\n",
    "n0 = (None, 0, None)\n",
    "n3 = (None, 3, None)\n",
    "n2 = (None, 2, n3)\n",
    "abr1 = (n0, 1, n2)\n",
    "insertion_abr(abr1, 4)"
   ]
  },
  {
   "cell_type": "markdown",
   "id": "29d59585",
   "metadata": {},
   "source": [
    "Résultats à obtenir :"
   ]
  },
  {
   "cell_type": "code",
   "execution_count": null,
   "id": "4bbb41c7",
   "metadata": {},
   "outputs": [],
   "source": [
    "n0 = (None, 0, None)\n",
    "n3 = (None, 3, None)\n",
    "n2 = (None, 2, n3)\n",
    "abr1 = (n0, 1, n2)\n",
    "assert insertion_abr(abr1, 4)==((None,0,None),1,(None,2,(None,3,(None,4,None))))\n",
    "assert insertion_abr(abr1, -5)==(((None,-5,None),0,None),1,(None,2,(None,3,None)))\n",
    "assert insertion_abr(abr1, 2)==((None,0,None),1,(None,2,(None,3,None)))"
   ]
  },
  {
   "cell_type": "markdown",
   "id": "cad18305",
   "metadata": {},
   "source": [
    "## S_23.2\n",
    "\n",
    "On dispose d’un ensemble d’objets dont on connaît, pour chacun, la masse. On souhaite ranger l’ensemble de ces objets dans des boites identiques de telle manière que la somme des masses des objets contenus dans une boîte ne dépasse pas la capacité `c` de la boîte. On souhaite utiliser le moins de boîtes possibles pour ranger cet ensemble d’objets.\n",
    "\n",
    "\n",
    "Pour résoudre ce problème, on utilisera un algorithme glouton consistant à placer chacun des objets dans la première boîte où cela est possible.\n",
    "\n",
    "Par exemple, pour ranger dans des boîtes de capacité `c = 5` un ensemble de trois objets dont les masses sont représentées en Python par la liste `[1, 5, 2]`, on procède de la façon suivante :\n",
    "\n",
    "- Le premier objet, de masse 1, va dans une première boite.\n",
    "- Le deuxième objet, de masse 5, ne peut pas aller dans la même boite que le premier objet car cela dépasserait la capacité de la boite. On place donc cet objet dans une deuxième boîte.\n",
    "- Le troisième objet, de masse 2, va dans la première boîte.\n",
    "\n",
    "On a donc utilisé deux boîtes de capacité `c = 5` pour ranger les 3 objets.\n",
    "\n",
    "Compléter la fonction Python `empaqueter(liste_masses, c)` suivante pour qu’elle renvoie le nombre de boîtes de capacité `c` nécessaires pour empaqueter un ensemble d’objets dont les masses sont contenues dans la liste `liste_masses`."
   ]
  },
  {
   "cell_type": "code",
   "execution_count": null,
   "id": "60a4b4b4",
   "metadata": {},
   "outputs": [],
   "source": [
    "def empaqueter(liste_masses, c):\n",
    "    \"\"\"Renvoie le nombre minimal de boîtes nécessaires pour\n",
    "    empaqueter les objets de la liste liste_masses, sachant\n",
    "    que chaque boîte peut contenir au maximum c kilogrammes\"\"\"\n",
    "    n = len(liste_masses)\n",
    "    nb_boites = 0\n",
    "    boites = [ 0 for _ in range(n) ]\n",
    "    for masse in ...: \n",
    "        i = 0\n",
    "        while i < nb_boites and boites[i] + ... > c: \n",
    "            i = i + 1\n",
    "        if i == nb_boites:\n",
    "            ...\n",
    "        boites[i] = ... \n",
    "    return ..."
   ]
  },
  {
   "cell_type": "markdown",
   "id": "4d882862",
   "metadata": {},
   "source": [
    "Exemples :"
   ]
  },
  {
   "cell_type": "code",
   "execution_count": null,
   "id": "255345ab",
   "metadata": {},
   "outputs": [],
   "source": [
    "assert empaqueter([1, 2, 3, 4, 5], 10)==2\n",
    "assert empaqueter([1, 2, 3, 4, 5], 5)==4\n",
    "assert empaqueter([7, 6, 3, 4, 8, 5, 9, 2], 11)==5"
   ]
  },
  {
   "cell_type": "markdown",
   "id": "d081f42f",
   "metadata": {},
   "source": [
    "# Sujet_24\n",
    "## S_24.1\n",
    "\n",
    "Un arbre binaire est soit vide, représenté en Python par la valeur `None`, soit un nœud représenté par un triplet `(g, x, d)` où `x` est l’étiquette du nœud et `g` et `d` sont les sous-arbres gauche et droit.\n",
    "\n",
    "On souhaite écrire une fonction `parcours_largeur` qui prend en paramètre un arbre binaire et qui renvoie la liste des étiquettes des nœuds de l’arbre parcourus en largeur."
   ]
  },
  {
   "cell_type": "code",
   "execution_count": null,
   "id": "5de682a6",
   "metadata": {},
   "outputs": [],
   "source": [
    "def parcours_largeur(a):\n",
    "    pass"
   ]
  },
  {
   "cell_type": "markdown",
   "id": "56ba7dbd",
   "metadata": {},
   "source": [
    "Exemples :"
   ]
  },
  {
   "cell_type": "code",
   "execution_count": null,
   "id": "2d730478",
   "metadata": {},
   "outputs": [],
   "source": [
    "arbre = ( ( (None, 1, None), 2, (None, 3, None) ), 4, ( (None, 5,None), 6, (None, 7, None) ) )\n",
    "assert parcours_largeur(arbre)==[4, 2, 6, 1, 3, 5, 7]"
   ]
  },
  {
   "cell_type": "markdown",
   "id": "067675f6",
   "metadata": {},
   "source": [
    "## S_24.2\n",
    "\n",
    "On considère un tableau non vide de nombre entiers, positifs ou négatifs, et on souhaite déterminer la plus grande somme possible de ses éléments consécutifs.\n",
    "\n",
    "\n",
    "Par exemple, dans le tableau `[1, -2, 3, 10, -4, 7, 2, -5]`, la plus grande somme est 18 obtenue en additionnant les éléments 3, 10, -4, 7, 2.\n",
    "\n",
    "\n",
    "Pour cela, on va résoudre le problème par programmation dynamique. Si on note `tab` le tableau considéré et `i` un indice dans ce tableau, on se ramène à un problème plus simple : déterminer la plus grande somme possible de ses éléments consécutifs se terminant à\n",
    "l’indice `i`.\n",
    "\n",
    "\n",
    "Si on connait la plus grande somme possible de ses éléments consécutifs se terminant à l’indice `i-1`, on peut déterminer la plus grande somme possible de ses éléments consécutifs se terminant à l’indice `i` :\n",
    "\n",
    "- soit on obtient une plus grande somme en ajoutant `tab[i]` à cette somme précédente ;\n",
    "- soit on commence une nouvelle somme à partir de `tab[i]`.\n",
    "\n",
    "*Remarque :* les sommes considérées contiennent toujours au moins un terme.\n",
    "\n",
    "\n",
    "Compléter la fonction `somme_max` ci-dessous qui réalise cet algorithme."
   ]
  },
  {
   "cell_type": "code",
   "execution_count": null,
   "id": "fb6d0d7f",
   "metadata": {},
   "outputs": [],
   "source": [
    "def somme_max(tab):\n",
    "    n = len(tab)\n",
    "    sommes_max = [0]*n\n",
    "    sommes_max[0] = tab[0]\n",
    "    # on calcule la plus grande somme se terminant en i\n",
    "    for i in range(1,n):\n",
    "        if ... + ... > ...: \n",
    "            sommes_max[i] = ... \n",
    "        else:\n",
    "            sommes_max[i] = ... \n",
    "    # on en déduit la plus grande somme de celles-ci\n",
    "    maximum = 0\n",
    "    for i in range(1, n):\n",
    "        if ... > ...: \n",
    "            maximum = i\n",
    "\n",
    "    return sommes_max[...]"
   ]
  },
  {
   "cell_type": "markdown",
   "id": "2f6f734d",
   "metadata": {},
   "source": [
    "Exemples :"
   ]
  },
  {
   "cell_type": "code",
   "execution_count": null,
   "id": "001ae80c",
   "metadata": {},
   "outputs": [],
   "source": [
    "assert somme_max([1, 2, 3, 4, 5])==15\n",
    "assert somme_max([1, 2, -3, 4, 5])==9\n",
    "assert somme_max([1, 2, -2, 4, 5])==10\n",
    "assert somme_max([1, -2, 3, 10, -4, 7, 2, -5])==18"
   ]
  },
  {
   "cell_type": "markdown",
   "id": "ed43ff9c",
   "metadata": {},
   "source": []
  },
  {
   "cell_type": "markdown",
   "id": "c4f3ff36",
   "metadata": {},
   "source": [
    "## S_25.1\n",
    "\n",
    "Écrire une fonction `recherche_min` qui prend en paramètre un tableau de nombres `tab`, et qui renvoie l'indice de la première occurrence du minimum de ce tableau. Les tableaux seront représentés sous forme de liste Python.\n",
    "\n",
    "Exemples :\n",
    "```python\n",
    ">>> recherche_min([5])\n",
    "0\n",
    ">>> recherche_min([2, 4, 1])\n",
    "2\n",
    ">>> recherche_min([5, 3, 2, 2, 4])\n",
    "2\n",
    ">>> recherche_min([-1, -2, -3, -3])\n",
    "2\n",
    "```"
   ]
  },
  {
   "cell_type": "code",
   "execution_count": null,
   "id": "85856e46",
   "metadata": {},
   "outputs": [],
   "source": []
  },
  {
   "cell_type": "markdown",
   "id": "46396c42",
   "metadata": {},
   "source": [
    "\n",
    "On considère la fonction `separe` ci-dessous qui prend en argument un tableau `tab` dont\n",
    "les éléments sont des `0` et des `1` et qui sépare les `0` des `1` en plaçant les `0` en début de\n",
    "tableau et les `1` à la suite.\n",
    "\n",
    "```python linenums='1'\n",
    "def separe(tab):\n",
    "    '''Separe les 0 et les 1 dans le tableau tab'''\n",
    "    gauche = 0\n",
    "    droite = ... \n",
    "    while gauche < droite:\n",
    "        if tab[gauche] == 0 :\n",
    "            gauche = ... \n",
    "        else :\n",
    "            tab[gauche] = ... \n",
    "            tab[droite] = ... \n",
    "            droite = ... \n",
    "    return tab"
   ]
  }
 ],
 "metadata": {
  "kernelspec": {
   "display_name": "Python 3",
   "language": "python",
   "name": "python3"
  },
  "language_info": {
   "codemirror_mode": {
    "name": "ipython",
    "version": 3
   },
   "file_extension": ".py",
   "mimetype": "text/x-python",
   "name": "python",
   "nbconvert_exporter": "python",
   "pygments_lexer": "ipython3",
   "version": "3.12.2"
  }
 },
 "nbformat": 4,
 "nbformat_minor": 5
}
